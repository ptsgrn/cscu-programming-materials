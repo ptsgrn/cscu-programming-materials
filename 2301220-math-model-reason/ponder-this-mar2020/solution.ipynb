{
 "cells": [
  {
   "cell_type": "markdown",
   "metadata": {},
   "source": [
    "This file is originally from [wsgisler/ibm-ponder-challenge on GitHub](https://github.com/wsgisler/ibm-ponder-challenge/blob/master/2020-03/Ponder%20This%20-%20March%202020%20-%20Challenge.ipynb)\n",
    "\n",
    "---"
   ]
  },
  {
   "cell_type": "markdown",
   "metadata": {},
   "source": [
    "# IBM Ponder This - March 2020 - Challenge\n",
    "\n",
    "by Walter Sebastian Gisler\n",
    "\n",
    "## Problem Statement\n",
    "\n",
    "The original problem statement can be found here: https://www.research.ibm.com/haifa/ponderthis/challenges/March2020.html\n",
    "\n",
    "In the classic 3x3 tic-tac-toe game, either player can win or at least force a draw if he plays correctly.\n",
    "On a 3x4 board, the first player can always win if she plays correctly, but if the players are working together, it is possible to get a draw.\n",
    "\n",
    "This month we define a new game (dic-dac-doe) played on a 10x10 board by three players (X, O, and +), where the first to get at least three consecutive squares with their sign (horizontally, vertically or diagonally) - wins.\n",
    "Three peace-loving players are playing and trying together to get to a draw, but after 80 moves, an intensely competitive win-only demon takes over all of their minds and controls their remaining 20 moves, trying to get one of them to win. Can they play the first 80 moves in such a way that even the demon won't be able to prevent a draw?\n",
    "\n",
    "Supply your answer as the status of the game after the 80th move as an 10x10 array of 'X', 'O', '+', and '.', where the first three symbols represent the moves of the players and the dots represent empty squares.\n",
    "\n",
    "Bonus '*' for a solution that lets the demon act no later than the 186th move on a 15x15 board."
   ]
  },
  {
   "cell_type": "code",
   "execution_count": 13,
   "metadata": {},
   "outputs": [
    {
     "name": "stdout",
     "output_type": "stream",
     "text": [
      "Note: you may need to restart the kernel to use updated packages.\n"
     ]
    }
   ],
   "source": [
    "%pip install -q docplex cplex"
   ]
  },
  {
   "cell_type": "markdown",
   "metadata": {},
   "source": [
    "# Solution\n",
    "\n",
    "This problem can be solved easily using a MIP approach. I'll use Cplex as a MIP solver. Let's first define our model, our players and the rows and columns of the board:"
   ]
  },
  {
   "cell_type": "code",
   "execution_count": 14,
   "metadata": {},
   "outputs": [],
   "source": [
    "from docplex.mp.model import Model\n",
    "\n",
    "model = Model('ponderthis')\n",
    "\n",
    "players = [0,1,2]\n",
    "player_symbol = ['x','o','+']\n",
    "board_size = 10\n",
    "rows = range(1,board_size+1)\n",
    "cols = range(1,board_size+1)"
   ]
  },
  {
   "cell_type": "markdown",
   "metadata": {},
   "source": [
    "Next, we will define the variables. For each field on the board we will have 3 binary variables. One for each player: If this variable is 1, it means that this field contains the players symbol."
   ]
  },
  {
   "cell_type": "code",
   "execution_count": 15,
   "metadata": {},
   "outputs": [],
   "source": [
    "choice = {(r,c,p): model.binary_var() for r in rows for c in cols for p in players}"
   ]
  },
  {
   "cell_type": "markdown",
   "metadata": {},
   "source": [
    "We will also define a variable for each field that can be used to determine whether the field is empty:"
   ]
  },
  {
   "cell_type": "code",
   "execution_count": 16,
   "metadata": {},
   "outputs": [],
   "source": [
    "empty = {(r,c): model.binary_var() for r in rows for c in cols}"
   ]
  },
  {
   "cell_type": "markdown",
   "metadata": {},
   "source": [
    "Next, we need to add some rules. First of all, a field can contain at most one symbol:"
   ]
  },
  {
   "cell_type": "code",
   "execution_count": 17,
   "metadata": {},
   "outputs": [],
   "source": [
    "for r in rows:\n",
    "    for c in cols:\n",
    "        model.add(model.sum(choice[(r,c,p)]for p in players) <= 1)"
   ]
  },
  {
   "cell_type": "markdown",
   "metadata": {},
   "source": [
    "We want to find out what the solution looks like after 80 moves. Hence, we have to define that the players made 27 (player 1) or 26 (player 2 and 3) moves:"
   ]
  },
  {
   "cell_type": "code",
   "execution_count": 18,
   "metadata": {},
   "outputs": [],
   "source": [
    "for p in players:\n",
    "    model.add(model.sum(choice[(r,c,p)] for r in rows for c in cols) == (27 if p <= 1 else 26))"
   ]
  },
  {
   "cell_type": "markdown",
   "metadata": {},
   "source": [
    "If a field does not contain the symbol of one of the players, it must be empty:"
   ]
  },
  {
   "cell_type": "code",
   "execution_count": 19,
   "metadata": {},
   "outputs": [],
   "source": [
    "for r in rows:\n",
    "    for c in cols:\n",
    "        model.add(model.sum(choice[(r,c,p)] for p in players) + empty[(r,c)] == 1)"
   ]
  },
  {
   "cell_type": "markdown",
   "metadata": {},
   "source": [
    "If we would solve this model now, we would get solutions after 80 moves, but these solutions could already contain a winner and they certainly wouldn't guarantee that none of the players can win the game. We therefore need to add conditions to specify that no 3 horizontal fields, no 3 consecutive fields in a column and no 3 consecutive fields on a diagonal can contain the same symbol:"
   ]
  },
  {
   "cell_type": "code",
   "execution_count": 20,
   "metadata": {},
   "outputs": [],
   "source": [
    "# no player should have 3 horizontal symbols\n",
    "for p in players:\n",
    "    for r in rows:\n",
    "        for c in cols[:-2]:\n",
    "            model.add(choice[(r,c,p)]+choice[(r,c+1,p)]+choice[(r,c+2,p)] <= 2)\n",
    "            model.add(choice[(r,c,p)]+choice[(r,c+1,p)]+choice[(r,c+2,p)]+empty[(r,c)]+empty[(r,c+1)]+empty[(r,c+2)] <= 2)\n",
    "        \n",
    "# no player should have 3 vertical symbols\n",
    "for p in players:\n",
    "    for r in rows[:-2]:\n",
    "        for c in cols:\n",
    "            model.add(choice[(r,c,p)]+choice[(r+1,c,p)]+choice[(r+2,c,p)] <= 2)\n",
    "            model.add(choice[(r,c,p)]+choice[(r+1,c,p)]+choice[(r+2,c,p)]+empty[(r,c)]+empty[(r+1,c)]+empty[(r+2,c)] <= 2)\n",
    "        \n",
    "# no player should have diagonal symbols (top left -> bottom right)\n",
    "for p in players:\n",
    "    for r in rows:\n",
    "        for c in cols:\n",
    "            if r+2 <= board_size and c+2 <= board_size:\n",
    "                model.add(choice[(r,c,p)]+choice[(r+1,c+1,p)]+choice[(r+2,c+2,p)] <= 2)\n",
    "                model.add(choice[(r,c,p)]+choice[(r+1,c+1,p)]+choice[(r+2,c+2,p)]+empty[(r,c)]+empty[(r+1,c+1)]+empty[(r+2,c+2)] <= 2)\n",
    "            \n",
    "# no player should have diagonal symbols (bottom left -> top right)\n",
    "for p in players:\n",
    "    for r in rows:\n",
    "        for c in cols:\n",
    "            if r+2 <= board_size and c-2 >= 1:\n",
    "                model.add(choice[(r,c,p)]+choice[(r+1,c-1,p)]+choice[(r+2,c-2,p)] <= 2)\n",
    "                model.add(choice[(r,c,p)]+choice[(r+1,c-1,p)]+choice[(r+2,c-2,p)]+empty[(r,c)]+empty[(r+1,c-1)]+empty[(r+2,c-2)] <= 2)"
   ]
  },
  {
   "cell_type": "markdown",
   "metadata": {},
   "source": [
    "Explanation: for each player, we look at every possible 3-row, 3-column and 3-diagonal. We then add two rules. The first one says that the solution with our 80 moves (defined by the choice variable) can not contain the symbol of this particular player more than twice. The second condition defines that the number of empty fields in this 3-row / 3-column / 3-diagonal together with the number of symbols belonging to this player can not be larger than 2. Theoretically, the first condition is included in the second one but I think it pays off to add both to get tighter bounds. We are now ready to solve this model."
   ]
  },
  {
   "cell_type": "code",
   "execution_count": 21,
   "metadata": {},
   "outputs": [
    {
     "name": "stdout",
     "output_type": "stream",
     "text": [
      "Using size restricted mode (Could not find directory for cpxchecklic).\n",
      "CPLEX Error  1016: Community Edition. Problem size limits exceeded. Purchase at http://ibm.biz/error1016.\n"
     ]
    },
    {
     "ename": "DOcplexLimitsExceeded",
     "evalue": "**** Promotional version. Problem size limits (1000 vars, 1000 consts) exceeded, model has 400 vars, 1931 consts, CPLEX code=1016",
     "output_type": "error",
     "traceback": [
      "\u001b[0;31m---------------------------------------------------------------------------\u001b[0m",
      "\u001b[0;31mCplexSolverError\u001b[0m                          Traceback (most recent call last)",
      "File \u001b[0;32m~/chula/programming/2301220-math-model-reason/ponder-this-mar2020/.venv/lib/python3.12/site-packages/docplex/mp/cplex_engine.py:2044\u001b[0m, in \u001b[0;36mCplexEngine.solve\u001b[0;34m(self, mdl, parameters, **kwargs)\u001b[0m\n\u001b[1;32m   2043\u001b[0m \u001b[38;5;28;01melse\u001b[39;00m:\n\u001b[0;32m-> 2044\u001b[0m     \u001b[43mcpx\u001b[49m\u001b[38;5;241;43m.\u001b[39;49m\u001b[43msolve\u001b[49m\u001b[43m(\u001b[49m\u001b[43m)\u001b[49m\n\u001b[1;32m   2046\u001b[0m cpx_status \u001b[38;5;241m=\u001b[39m cpx\u001b[38;5;241m.\u001b[39msolution\u001b[38;5;241m.\u001b[39mget_status()\n",
      "File \u001b[0;32m~/chula/programming/2301220-math-model-reason/ponder-this-mar2020/.venv/lib/python3.12/site-packages/cplex/__init__.py:1304\u001b[0m, in \u001b[0;36mCplex.solve\u001b[0;34m(self, paramsets)\u001b[0m\n\u001b[1;32m   1303\u001b[0m \u001b[38;5;28;01melif\u001b[39;00m \u001b[38;5;28mself\u001b[39m\u001b[38;5;241m.\u001b[39m_is_MIP():\n\u001b[0;32m-> 1304\u001b[0m     \u001b[43m_proc\u001b[49m\u001b[38;5;241;43m.\u001b[39;49m\u001b[43mmipopt\u001b[49m\u001b[43m(\u001b[49m\u001b[38;5;28;43mself\u001b[39;49m\u001b[38;5;241;43m.\u001b[39;49m\u001b[43m_env\u001b[49m\u001b[38;5;241;43m.\u001b[39;49m\u001b[43m_e\u001b[49m\u001b[43m,\u001b[49m\u001b[43m \u001b[49m\u001b[38;5;28;43mself\u001b[39;49m\u001b[38;5;241;43m.\u001b[39;49m\u001b[43m_lp\u001b[49m\u001b[43m)\u001b[49m\n\u001b[1;32m   1305\u001b[0m \u001b[38;5;28;01melif\u001b[39;00m \u001b[38;5;28mself\u001b[39m\u001b[38;5;241m.\u001b[39mquadratic_constraints\u001b[38;5;241m.\u001b[39mget_num() \u001b[38;5;241m>\u001b[39m \u001b[38;5;241m0\u001b[39m:\n",
      "File \u001b[0;32m~/chula/programming/2301220-math-model-reason/ponder-this-mar2020/.venv/lib/python3.12/site-packages/cplex/_internal/_procedural.py:708\u001b[0m, in \u001b[0;36mmipopt\u001b[0;34m(env, lp)\u001b[0m\n\u001b[1;32m    707\u001b[0m     status \u001b[38;5;241m=\u001b[39m CR\u001b[38;5;241m.\u001b[39mCPXXmipopt(env, lp)\n\u001b[0;32m--> 708\u001b[0m \u001b[43mcheck_status\u001b[49m\u001b[43m(\u001b[49m\u001b[43menv\u001b[49m\u001b[43m,\u001b[49m\u001b[43m \u001b[49m\u001b[43mstatus\u001b[49m\u001b[43m)\u001b[49m\n",
      "File \u001b[0;32m~/chula/programming/2301220-math-model-reason/ponder-this-mar2020/.venv/lib/python3.12/site-packages/cplex/_internal/_procedural.py:249\u001b[0m, in \u001b[0;36mStatusChecker.__call__\u001b[0;34m(self, env, status, from_cb)\u001b[0m\n\u001b[1;32m    248\u001b[0m         error_string \u001b[38;5;241m=\u001b[39m geterrorstring(env, status)\n\u001b[0;32m--> 249\u001b[0m \u001b[38;5;28;01mraise\u001b[39;00m CplexSolverError(error_string, env, status)\n",
      "\u001b[0;31mCplexSolverError\u001b[0m: CPLEX Error  1016: Community Edition. Problem size limits exceeded. Purchase at http://ibm.biz/error1016.",
      "\nDuring handling of the above exception, another exception occurred:\n",
      "\u001b[0;31mDOcplexLimitsExceeded\u001b[0m                     Traceback (most recent call last)",
      "Cell \u001b[0;32mIn[21], line 1\u001b[0m\n\u001b[0;32m----> 1\u001b[0m \u001b[43mmodel\u001b[49m\u001b[38;5;241;43m.\u001b[39;49m\u001b[43msolve\u001b[49m\u001b[43m(\u001b[49m\u001b[43mlog_output\u001b[49m\u001b[43m \u001b[49m\u001b[38;5;241;43m=\u001b[39;49m\u001b[43m \u001b[49m\u001b[38;5;28;43;01mTrue\u001b[39;49;00m\u001b[43m)\u001b[49m\n",
      "File \u001b[0;32m~/chula/programming/2301220-math-model-reason/ponder-this-mar2020/.venv/lib/python3.12/site-packages/docplex/mp/model.py:4901\u001b[0m, in \u001b[0;36mModel.solve\u001b[0;34m(self, **kwargs)\u001b[0m\n\u001b[1;32m   4898\u001b[0m \u001b[38;5;28;01mif\u001b[39;00m \u001b[38;5;28mself\u001b[39m\u001b[38;5;241m.\u001b[39menvironment\u001b[38;5;241m.\u001b[39mhas_cplex:\n\u001b[1;32m   4899\u001b[0m     \u001b[38;5;66;03m# take arg clean flag or this model's\u001b[39;00m\n\u001b[1;32m   4900\u001b[0m     used_clean_before_solve \u001b[38;5;241m=\u001b[39m kwargs\u001b[38;5;241m.\u001b[39mget(\u001b[38;5;124m'\u001b[39m\u001b[38;5;124mclean_before_solve\u001b[39m\u001b[38;5;124m'\u001b[39m, \u001b[38;5;28mself\u001b[39m\u001b[38;5;241m.\u001b[39mclean_before_solve)\n\u001b[0;32m-> 4901\u001b[0m     \u001b[38;5;28;01mreturn\u001b[39;00m \u001b[38;5;28;43mself\u001b[39;49m\u001b[38;5;241;43m.\u001b[39;49m\u001b[43m_solve_local\u001b[49m\u001b[43m(\u001b[49m\u001b[43mcontext\u001b[49m\u001b[43m,\u001b[49m\u001b[43m \u001b[49m\u001b[43mused_clean_before_solve\u001b[49m\u001b[43m,\u001b[49m\u001b[43m \u001b[49m\u001b[43mparameter_sets\u001b[49m\u001b[43m)\u001b[49m\u001b[38;5;66;03m# lex_timelimits, lex_mipgaps)\u001b[39;00m\n\u001b[1;32m   4902\u001b[0m \u001b[38;5;28;01melse\u001b[39;00m:\n\u001b[1;32m   4903\u001b[0m     \u001b[38;5;28;01mreturn\u001b[39;00m \u001b[38;5;28mself\u001b[39m\u001b[38;5;241m.\u001b[39mfatal(\u001b[38;5;124m\"\u001b[39m\u001b[38;5;124mCannot solve model: no CPLEX runtime found.\u001b[39m\u001b[38;5;124m\"\u001b[39m)\n",
      "File \u001b[0;32m~/chula/programming/2301220-math-model-reason/ponder-this-mar2020/.venv/lib/python3.12/site-packages/docplex/mp/model.py:4949\u001b[0m, in \u001b[0;36mModel._solve_local\u001b[0;34m(self, context, clean_before_solve, parameter_sets)\u001b[0m\n\u001b[1;32m   4947\u001b[0m \u001b[38;5;28;01mexcept\u001b[39;00m DOcplexException \u001b[38;5;28;01mas\u001b[39;00m docpx_e:  \u001b[38;5;66;03m# pragma: no cover\u001b[39;00m\n\u001b[1;32m   4948\u001b[0m     new_solution \u001b[38;5;241m=\u001b[39m \u001b[38;5;28;01mNone\u001b[39;00m\n\u001b[0;32m-> 4949\u001b[0m     \u001b[38;5;28;01mraise\u001b[39;00m docpx_e\n\u001b[1;32m   4951\u001b[0m \u001b[38;5;28;01mexcept\u001b[39;00m \u001b[38;5;167;01mException\u001b[39;00m \u001b[38;5;28;01mas\u001b[39;00m e:\n\u001b[1;32m   4952\u001b[0m     new_solution \u001b[38;5;241m=\u001b[39m \u001b[38;5;28;01mNone\u001b[39;00m\n",
      "File \u001b[0;32m~/chula/programming/2301220-math-model-reason/ponder-this-mar2020/.venv/lib/python3.12/site-packages/docplex/mp/model.py:4938\u001b[0m, in \u001b[0;36mModel._solve_local\u001b[0;34m(self, context, clean_before_solve, parameter_sets)\u001b[0m\n\u001b[1;32m   4935\u001b[0m \u001b[38;5;66;03m# assert used_parameters is not None\u001b[39;00m\n\u001b[1;32m   4936\u001b[0m \u001b[38;5;28mself\u001b[39m\u001b[38;5;241m.\u001b[39m_apply_parameters_to_engine(used_parameters)\n\u001b[0;32m-> 4938\u001b[0m new_solution \u001b[38;5;241m=\u001b[39m \u001b[43mself_engine\u001b[49m\u001b[38;5;241;43m.\u001b[39;49m\u001b[43msolve\u001b[49m\u001b[43m(\u001b[49m\u001b[38;5;28;43mself\u001b[39;49m\u001b[43m,\u001b[49m\n\u001b[1;32m   4939\u001b[0m \u001b[43m                                 \u001b[49m\u001b[43mparameters\u001b[49m\u001b[38;5;241;43m=\u001b[39;49m\u001b[43mused_parameters\u001b[49m\u001b[43m,\u001b[49m\n\u001b[1;32m   4940\u001b[0m \u001b[43m                                 \u001b[49m\u001b[43mclean_before_solve\u001b[49m\u001b[38;5;241;43m=\u001b[39;49m\u001b[43mclean_before_solve\u001b[49m\u001b[43m,\u001b[49m\n\u001b[1;32m   4941\u001b[0m \u001b[43m                                 \u001b[49m\u001b[43mparameter_sets\u001b[49m\u001b[43m \u001b[49m\u001b[38;5;241;43m=\u001b[39;49m\u001b[43m \u001b[49m\u001b[43mparameter_sets\u001b[49m\u001b[43m)\u001b[49m\n\u001b[1;32m   4943\u001b[0m \u001b[38;5;66;03m# store solve status as returned by the engine.\u001b[39;00m\n\u001b[1;32m   4944\u001b[0m engine_status \u001b[38;5;241m=\u001b[39m self_engine\u001b[38;5;241m.\u001b[39mget_solve_status()\n",
      "File \u001b[0;32m~/chula/programming/2301220-math-model-reason/ponder-this-mar2020/.venv/lib/python3.12/site-packages/docplex/mp/cplex_engine.py:2080\u001b[0m, in \u001b[0;36mCplexEngine.solve\u001b[0;34m(self, mdl, parameters, **kwargs)\u001b[0m\n\u001b[1;32m   2078\u001b[0m     cpx_status \u001b[38;5;241m=\u001b[39m \u001b[38;5;241m1016\u001b[39m\n\u001b[1;32m   2079\u001b[0m     cpx_status_string \u001b[38;5;241m=\u001b[39m \u001b[38;5;124m\"\u001b[39m\u001b[38;5;124mPromotional version. Problem size limits exceeded., CPLEX code=1016.\u001b[39m\u001b[38;5;124m\"\u001b[39m\n\u001b[0;32m-> 2080\u001b[0m     \u001b[38;5;28;43mself\u001b[39;49m\u001b[38;5;241;43m.\u001b[39;49m\u001b[43m_model\u001b[49m\u001b[38;5;241;43m.\u001b[39;49m\u001b[43mfatal_ce_limits\u001b[49m\u001b[43m(\u001b[49m\u001b[43m)\u001b[49m\n\u001b[1;32m   2082\u001b[0m \u001b[38;5;28;01melif\u001b[39;00m \u001b[38;5;28mself\u001b[39m\u001b[38;5;241m.\u001b[39mfix_multiobj_error_1300 \u001b[38;5;129;01mand\u001b[39;00m \u001b[38;5;241m1300\u001b[39m \u001b[38;5;241m==\u001b[39m cpx_code:\n\u001b[1;32m   2083\u001b[0m     \u001b[38;5;66;03m# multiobjective error but there IS a solution (?)\u001b[39;00m\n\u001b[1;32m   2084\u001b[0m     cpx_status \u001b[38;5;241m=\u001b[39m \u001b[38;5;241m1300\u001b[39m\n",
      "File \u001b[0;32m~/chula/programming/2301220-math-model-reason/ponder-this-mar2020/.venv/lib/python3.12/site-packages/docplex/mp/model.py:1099\u001b[0m, in \u001b[0;36mModel.fatal_ce_limits\u001b[0;34m(self, *args)\u001b[0m\n\u001b[1;32m   1096\u001b[0m nb_vars \u001b[38;5;241m=\u001b[39m \u001b[38;5;28mself\u001b[39m\u001b[38;5;241m.\u001b[39mnumber_of_variables\n\u001b[1;32m   1097\u001b[0m nb_constraints \u001b[38;5;241m=\u001b[39m \u001b[38;5;28mself\u001b[39m\u001b[38;5;241m.\u001b[39mnumber_of_constraints\n\u001b[0;32m-> 1099\u001b[0m \u001b[38;5;28;43mself\u001b[39;49m\u001b[38;5;241;43m.\u001b[39;49m\u001b[43m_error_handler\u001b[49m\u001b[38;5;241;43m.\u001b[39;49m\u001b[43mfatal_limits_exceeded\u001b[49m\u001b[43m(\u001b[49m\u001b[43mnb_vars\u001b[49m\u001b[43m,\u001b[49m\u001b[43m \u001b[49m\u001b[43mnb_constraints\u001b[49m\u001b[43m)\u001b[49m\n",
      "File \u001b[0;32m~/chula/programming/2301220-math-model-reason/ponder-this-mar2020/.venv/lib/python3.12/site-packages/docplex/mp/error_handler.py:214\u001b[0m, in \u001b[0;36mAbstractErrorHandler.fatal_limits_exceeded\u001b[0;34m(self, nb_vars, nb_constraints)\u001b[0m\n\u001b[1;32m    212\u001b[0m \u001b[38;5;28;01mdef\u001b[39;00m\u001b[38;5;250m \u001b[39m\u001b[38;5;21mfatal_limits_exceeded\u001b[39m(\u001b[38;5;28mself\u001b[39m, nb_vars, nb_constraints):\n\u001b[1;32m    213\u001b[0m     docplex_error_stop_here()\n\u001b[0;32m--> 214\u001b[0m     \u001b[38;5;28;01mraise\u001b[39;00m DOcplexLimitsExceeded(nb_vars, nb_constraints)\n",
      "\u001b[0;31mDOcplexLimitsExceeded\u001b[0m: **** Promotional version. Problem size limits (1000 vars, 1000 consts) exceeded, model has 400 vars, 1931 consts, CPLEX code=1016"
     ]
    }
   ],
   "source": [
    "model.solve(log_output = True)"
   ]
  },
  {
   "cell_type": "markdown",
   "metadata": {},
   "source": [
    "A solution is found really quickly. Let's take a look at it:"
   ]
  },
  {
   "cell_type": "code",
   "execution_count": null,
   "metadata": {},
   "outputs": [
    {
     "ename": "DOcplexException",
     "evalue": "Model<ponderthis> did not solve successfully",
     "output_type": "error",
     "traceback": [
      "\u001b[0;31m---------------------------------------------------------------------------\u001b[0m",
      "\u001b[0;31mDOcplexException\u001b[0m                          Traceback (most recent call last)",
      "Cell \u001b[0;32mIn[12], line 6\u001b[0m\n\u001b[1;32m      4\u001b[0m sym \u001b[38;5;241m=\u001b[39m \u001b[38;5;124m'\u001b[39m\u001b[38;5;124m.\u001b[39m\u001b[38;5;124m'\u001b[39m\n\u001b[1;32m      5\u001b[0m \u001b[38;5;28;01mfor\u001b[39;00m p \u001b[38;5;129;01min\u001b[39;00m players:\n\u001b[0;32m----> 6\u001b[0m     \u001b[38;5;28;01mif\u001b[39;00m \u001b[43mchoice\u001b[49m\u001b[43m[\u001b[49m\u001b[43m(\u001b[49m\u001b[43mr\u001b[49m\u001b[43m,\u001b[49m\u001b[43mc\u001b[49m\u001b[43m,\u001b[49m\u001b[43mp\u001b[49m\u001b[43m)\u001b[49m\u001b[43m]\u001b[49m\u001b[38;5;241;43m.\u001b[39;49m\u001b[43msolution_value\u001b[49m \u001b[38;5;241m>\u001b[39m \u001b[38;5;241m0.5\u001b[39m:\n\u001b[1;32m      7\u001b[0m         sym \u001b[38;5;241m=\u001b[39m player_symbol[p]\u001b[38;5;241m+\u001b[39m\u001b[38;5;124m'\u001b[39m\u001b[38;5;124m'\u001b[39m\n\u001b[1;32m      8\u001b[0m row_string \u001b[38;5;241m+\u001b[39m\u001b[38;5;241m=\u001b[39m sym\n",
      "File \u001b[0;32m~/chula/programming/2301220-math-model-reason/ponder-this-mar2020/.venv/lib/python3.12/site-packages/docplex/mp/dvar.py:230\u001b[0m, in \u001b[0;36mVar.solution_value\u001b[0;34m(self)\u001b[0m\n\u001b[1;32m    221\u001b[0m \u001b[38;5;129m@property\u001b[39m\n\u001b[1;32m    222\u001b[0m \u001b[38;5;28;01mdef\u001b[39;00m\u001b[38;5;250m \u001b[39m\u001b[38;5;21msolution_value\u001b[39m(\u001b[38;5;28mself\u001b[39m):\n\u001b[1;32m    223\u001b[0m \u001b[38;5;250m    \u001b[39m\u001b[38;5;124;03m\"\"\" This property returns the solution value of the variable.\u001b[39;00m\n\u001b[1;32m    224\u001b[0m \n\u001b[1;32m    225\u001b[0m \u001b[38;5;124;03m    Raises:\u001b[39;00m\n\u001b[0;32m   (...)\u001b[0m\n\u001b[1;32m    228\u001b[0m \n\u001b[1;32m    229\u001b[0m \u001b[38;5;124;03m    \"\"\"\u001b[39;00m\n\u001b[0;32m--> 230\u001b[0m     \u001b[38;5;28;43mself\u001b[39;49m\u001b[38;5;241;43m.\u001b[39;49m\u001b[43mmodel\u001b[49m\u001b[38;5;241;43m.\u001b[39;49m\u001b[43m_check_has_solution\u001b[49m\u001b[43m(\u001b[49m\u001b[43m)\u001b[49m\n\u001b[1;32m    231\u001b[0m     \u001b[38;5;28;01mreturn\u001b[39;00m \u001b[38;5;28mself\u001b[39m\u001b[38;5;241m.\u001b[39m_raw_solution_value()\n",
      "File \u001b[0;32m~/chula/programming/2301220-math-model-reason/ponder-this-mar2020/.venv/lib/python3.12/site-packages/docplex/mp/model.py:5261\u001b[0m, in \u001b[0;36mModel._check_has_solution\u001b[0;34m(self)\u001b[0m\n\u001b[1;32m   5259\u001b[0m     \u001b[38;5;28mself\u001b[39m\u001b[38;5;241m.\u001b[39mfatal(\u001b[38;5;124m\"\u001b[39m\u001b[38;5;124mModel<\u001b[39m\u001b[38;5;132;01m{0}\u001b[39;00m\u001b[38;5;124m> has not been solved yet\u001b[39m\u001b[38;5;124m\"\u001b[39m, \u001b[38;5;28mself\u001b[39m\u001b[38;5;241m.\u001b[39mname)\n\u001b[1;32m   5260\u001b[0m \u001b[38;5;28;01melse\u001b[39;00m:\n\u001b[0;32m-> 5261\u001b[0m     \u001b[38;5;28;43mself\u001b[39;49m\u001b[38;5;241;43m.\u001b[39;49m\u001b[43mfatal\u001b[49m\u001b[43m(\u001b[49m\u001b[38;5;124;43m\"\u001b[39;49m\u001b[38;5;124;43mModel<\u001b[39;49m\u001b[38;5;132;43;01m{0}\u001b[39;49;00m\u001b[38;5;124;43m> did not solve successfully\u001b[39;49m\u001b[38;5;124;43m\"\u001b[39;49m\u001b[43m,\u001b[49m\u001b[43m \u001b[49m\u001b[38;5;28;43mself\u001b[39;49m\u001b[38;5;241;43m.\u001b[39;49m\u001b[43mname\u001b[49m\u001b[43m)\u001b[49m\n",
      "File \u001b[0;32m~/chula/programming/2301220-math-model-reason/ponder-this-mar2020/.venv/lib/python3.12/site-packages/docplex/mp/model.py:1093\u001b[0m, in \u001b[0;36mModel.fatal\u001b[0;34m(self, msg, *args)\u001b[0m\n\u001b[1;32m   1092\u001b[0m \u001b[38;5;28;01mdef\u001b[39;00m\u001b[38;5;250m \u001b[39m\u001b[38;5;21mfatal\u001b[39m(\u001b[38;5;28mself\u001b[39m, msg, \u001b[38;5;241m*\u001b[39margs):\n\u001b[0;32m-> 1093\u001b[0m     \u001b[38;5;28;43mself\u001b[39;49m\u001b[38;5;241;43m.\u001b[39;49m\u001b[43m_error_handler\u001b[49m\u001b[38;5;241;43m.\u001b[39;49m\u001b[43mfatal\u001b[49m\u001b[43m(\u001b[49m\u001b[43mmsg\u001b[49m\u001b[43m,\u001b[49m\u001b[43m \u001b[49m\u001b[43margs\u001b[49m\u001b[43m)\u001b[49m\n",
      "File \u001b[0;32m~/chula/programming/2301220-math-model-reason/ponder-this-mar2020/.venv/lib/python3.12/site-packages/docplex/mp/error_handler.py:210\u001b[0m, in \u001b[0;36mAbstractErrorHandler.fatal\u001b[0;34m(self, msg, args)\u001b[0m\n\u001b[1;32m    208\u001b[0m resolved_message \u001b[38;5;241m=\u001b[39m resolve_pattern(msg, args)\n\u001b[1;32m    209\u001b[0m docplex_error_stop_here()\n\u001b[0;32m--> 210\u001b[0m \u001b[38;5;28;01mraise\u001b[39;00m DOcplexException(resolved_message)\n",
      "\u001b[0;31mDOcplexException\u001b[0m: Model<ponderthis> did not solve successfully"
     ]
    }
   ],
   "source": [
    "for r in rows:\n",
    "    row_string = ''\n",
    "    for c in cols:\n",
    "        sym = '.'\n",
    "        for p in players:\n",
    "            if choice[(r,c,p)].solution_value > 0.5:\n",
    "                sym = player_symbol[p]+''\n",
    "        row_string += sym\n",
    "    print(row_string)"
   ]
  },
  {
   "cell_type": "markdown",
   "metadata": {},
   "source": [
    "We can easily verify that this solution indeed doesn't allow us to win the game for any of the players. Even if all the dots (empty fields after 80 moves) are replaced with any of the players symbols, it is not possible to get a 3-row / 3-column / 3-diagonal with three identical symbols."
   ]
  },
  {
   "cell_type": "markdown",
   "metadata": {},
   "source": [
    "# The Larger Problem\n",
    "\n",
    "That was simple, so let's try to find a solution for a 15x15 board and 186 moves. I will first define a method that will allow me to prioritize certain variables for the branching, we will use this later:"
   ]
  },
  {
   "cell_type": "code",
   "execution_count": null,
   "metadata": {},
   "outputs": [],
   "source": [
    "def set_branching_priority(dvars, weights, brdirs = []):\n",
    "    # set priority ordering on a collection of variables,\n",
    "    # given a list of weights, and a list of -1,0,1 directions\n",
    "    ldvars = list(dvars)\n",
    "    lweights = list(weights)\n",
    "    if brdirs == []: # If the branching direction is not given, set it automatically\n",
    "        brdirs = [0 for var in dvars]\n",
    "    ldirs = list(brdirs)\n",
    "    if ldvars:\n",
    "        m = ldvars[0].model\n",
    "        cpx = m.get_cplex()\n",
    "        cpx.order.set([(dv.index, w, brd) for dv, w, brd in zip(ldvars, lweights, ldirs)])"
   ]
  },
  {
   "cell_type": "markdown",
   "metadata": {},
   "source": [
    "I will now make the 80-move code more general, add it into its own function and make some adjustments to improve the performance."
   ]
  },
  {
   "cell_type": "code",
   "execution_count": null,
   "metadata": {},
   "outputs": [],
   "source": [
    "def find_general_solution(board_size, moves):\n",
    "\n",
    "    model = Model('ponderthis')\n",
    "\n",
    "    players = [0,1,2]\n",
    "    player_symbol = ['x','o','+']\n",
    "    rows = range(1,board_size+1)\n",
    "    cols = range(1,board_size+1)\n",
    "    objective = []\n",
    "\n",
    "    choice = {(r,c,p): model.binary_var() for r in rows for c in cols for p in players}\n",
    "    empty = {(r,c): model.binary_var() for r in rows for c in cols}\n",
    "\n",
    "    # per square, there is exactly  one symbol:\n",
    "    for r in rows:\n",
    "        for c in cols:\n",
    "            model.add(model.sum(choice[(r,c,p)]for p in players) <= 1)\n",
    "\n",
    "    # number of symbols per player:\n",
    "    for p in players:\n",
    "        model.add(model.sum(choice[(r,c,p)] for r in rows for c in cols) == (moves//3 + (1 if moves%3 <= p+1 else 0)))\n",
    "        \n",
    "    # empty squares\n",
    "    for r in rows:\n",
    "        for c in cols:\n",
    "            model.add(model.sum(choice[(r,c,p)] for p in players) + empty[(r,c)] == 1)\n",
    "    \n",
    "    # no player should have 3 horizontal symbols\n",
    "    for p in players:\n",
    "        for r in rows:\n",
    "            for c in cols[:-2]:\n",
    "                viol = model.continuous_var()\n",
    "                objective.append(viol)\n",
    "                model.add(choice[(r,c,p)]+choice[(r,c+1,p)]+choice[(r,c+2,p)] <= 2+viol)\n",
    "                model.add(choice[(r,c,p)]+choice[(r,c+1,p)]+choice[(r,c+2,p)]+empty[(r,c)]+empty[(r,c+1)]+empty[(r,c+2)] <= 2+viol)\n",
    "            \n",
    "    # no player should have 3 vertical symbols\n",
    "    for p in players:\n",
    "        for r in rows[:-2]:\n",
    "            for c in cols:\n",
    "                viol = model.continuous_var()\n",
    "                objective.append(viol)\n",
    "                model.add(choice[(r,c,p)]+choice[(r+1,c,p)]+choice[(r+2,c,p)] <= 2+viol)\n",
    "                model.add(choice[(r,c,p)]+choice[(r+1,c,p)]+choice[(r+2,c,p)]+empty[(r,c)]+empty[(r+1,c)]+empty[(r+2,c)] <= 2+viol)\n",
    "            \n",
    "    # no player should have diagonal symbols (top left -> bottom right)\n",
    "    for p in players:\n",
    "        for r in rows:\n",
    "            for c in cols:\n",
    "                if r+2 <= board_size and c+2 <= board_size:\n",
    "                    viol = model.continuous_var()\n",
    "                    objective.append(viol)\n",
    "                    model.add(choice[(r,c,p)]+choice[(r+1,c+1,p)]+choice[(r+2,c+2,p)] <= 2+viol)\n",
    "                    model.add(choice[(r,c,p)]+choice[(r+1,c+1,p)]+choice[(r+2,c+2,p)]+empty[(r,c)]+empty[(r+1,c+1)]+empty[(r+2,c+2)] <= 2+viol)\n",
    "                \n",
    "    # no player should have diagonal symbols (bottom left -> top right)\n",
    "    for p in players:\n",
    "        for r in rows:\n",
    "            for c in cols:\n",
    "                if r+2 <= board_size and c-2 >= 1:\n",
    "                    viol = model.continuous_var()\n",
    "                    objective.append(viol)\n",
    "                    model.add(choice[(r,c,p)]+choice[(r+1,c-1,p)]+choice[(r+2,c-2,p)] <= 2+viol)\n",
    "                    model.add(choice[(r,c,p)]+choice[(r+1,c-1,p)]+choice[(r+2,c-2,p)]+empty[(r,c)]+empty[(r+1,c-1)]+empty[(r+2,c-2)] <= 2+viol)\n",
    "    \n",
    "    set_branching_priority(empty.values(), [10 for i in empty])\n",
    "    model.minimize(model.sum(objective))\n",
    "    model.solve(log_output = True)\n",
    "\n",
    "    for r in rows:\n",
    "        row_string = ''\n",
    "        for c in cols:\n",
    "            sym = '.'\n",
    "            for p in players:\n",
    "                if choice[(r,c,p)].solution_value > 0.5:\n",
    "                    sym = player_symbol[p]\n",
    "            row_string += sym\n",
    "        print(row_string)"
   ]
  },
  {
   "cell_type": "markdown",
   "metadata": {},
   "source": [
    "Notice two changes:\n",
    "\n",
    "- First of all, we are setting a higher branching priority for the empty variables. That means that we want that these variables are set first. This is not necessary, but it improves the performance significantly\n",
    "- Second, our contains to avoid 3 consecutive fields containing the same symbol now has a slack variable \"viol\" and we are minimizing the total sum of all slack variables. Obviously, in a valid solution this sum would be equal to 0 since a non-zero slack variable means that the constraint is violated. This is another great trick to improve performance\n",
    "\n",
    "I first tested the model without these tricks, but it took really long to find a solution. That's why I decided to try some common MIP tricks like these and found that these work really well, even for larger instances.\n",
    "\n",
    "Now, let's give this a try:"
   ]
  },
  {
   "cell_type": "code",
   "execution_count": null,
   "metadata": {},
   "outputs": [
    {
     "name": "stdout",
     "output_type": "stream",
     "text": [
      "Version identifier: 12.10.0.0 | 2019-11-26 | 843d4de\n",
      "CPXPARAM_Read_DataCheck                          1\n",
      "CPXPARAM_RandomSeed                              201903125\n",
      "Tried aggregator 1 time.\n",
      "MIP Presolve eliminated 225 rows and 0 columns.\n",
      "Reduced MIP has 4596 rows, 3084 columns, and 25599 nonzeros.\n",
      "Reduced MIP has 900 binaries, 0 generals, 0 SOSs, and 0 indicators.\n",
      "Presolve time = 0.02 sec. (14.23 ticks)\n",
      "Found incumbent of value 8736.000000 after 0.03 sec. (24.58 ticks)\n",
      "Probing time = 0.00 sec. (0.81 ticks)\n",
      "Tried aggregator 1 time.\n",
      "Detecting symmetries...\n",
      "MIP Presolve eliminated 2184 rows and 0 columns.\n",
      "Reduced MIP has 2412 rows, 3084 columns, and 16863 nonzeros.\n",
      "Reduced MIP has 900 binaries, 2184 generals, 0 SOSs, and 0 indicators.\n",
      "Presolve time = 0.04 sec. (24.40 ticks)\n",
      "Probing time = 0.00 sec. (0.55 ticks)\n",
      "Clique table members: 225.\n",
      "MIP emphasis: balance optimality and feasibility.\n",
      "MIP search method: dynamic search.\n",
      "Parallel mode: deterministic, using up to 8 threads.\n",
      "Root relaxation solution time = 0.12 sec. (108.69 ticks)\n",
      "\n",
      "        Nodes                                         Cuts/\n",
      "   Node  Left     Objective  IInf  Best Integer    Best Bound    ItCnt     Gap\n",
      "\n",
      "*     0+    0                         8736.0000        0.0000           100.00%\n",
      "*     0+    0                          201.0000        0.0000           100.00%\n",
      "      0     0        0.0000   562      201.0000        0.0000      978  100.00%\n",
      "*     0+    0                          175.0000        0.0000           100.00%\n",
      "      0     0        0.0000   562      175.0000   ZeroHalf: 3     1079  100.00%\n",
      "      0     0        0.0000   562      175.0000     Cuts: 146     1515  100.00%\n",
      "*     0+    0                           69.0000        0.0000           100.00%\n",
      "*     0+    0                           58.0000        0.0000           100.00%\n",
      "      0     2        0.0000   289       58.0000        0.0000     1515  100.00%\n",
      "Elapsed time = 6.62 sec. (3774.24 ticks, tree = 0.02 MB, solutions = 5)\n",
      "*     5+    2                           37.0000        0.0000           100.00%\n",
      "     34    27        2.0000   365       37.0000        0.0000     3926  100.00%\n",
      "    339   257        0.0000   284       37.0000        0.0000    14858  100.00%\n",
      "    555   519        1.0000   288       37.0000        0.0000    25846  100.00%\n",
      "*   562+  427                           25.0000        0.0000           100.00%\n",
      "    619   547       10.0000   280       25.0000        0.0000    27139  100.00%\n",
      "    947   812        0.0000   306       25.0000        0.0000    38748  100.00%\n",
      "*  1138+  975                           24.0000        0.0000           100.00%\n",
      "*  1223+ 1022                           20.0000        0.0000           100.00%\n",
      "   1347  1107        0.0000   319       20.0000        0.0000    55506  100.00%\n",
      "   1677  1418        3.0000   343       20.0000        0.0000    73294  100.00%\n",
      "*  1859+ 1603                           16.0000        0.0000           100.00%\n",
      "   1893  1629        0.0000   301       16.0000        0.0000    83758  100.00%\n",
      "*  1902+ 1603                           15.0000        0.0000           100.00%\n",
      "   2144  1817        2.0000   293       15.0000        0.0000    94883  100.00%\n",
      "*  2952  2633      integral     0       13.0000        0.0000   135328  100.00%\n",
      "   3351  2851        1.0000   297       13.0000        0.0000   152371  100.00%\n",
      "Elapsed time = 11.95 sec. (6884.96 ticks, tree = 53.55 MB, solutions = 13)\n",
      "*  3395+ 2570                           12.0000        0.0000           100.00%\n",
      "*  3408+ 2570                           11.0000        0.0000           100.00%\n",
      "   4422  3775        0.0000   265       11.0000        0.0000   193175  100.00%\n",
      "\n",
      "Performing restart 1\n",
      "\n",
      "Repeating presolve.\n",
      "Tried aggregator 1 time.\n",
      "Reduced MIP has 2412 rows, 3084 columns, and 16863 nonzeros.\n",
      "Reduced MIP has 900 binaries, 2184 generals, 0 SOSs, and 0 indicators.\n",
      "Presolve time = 0.01 sec. (8.46 ticks)\n",
      "Tried aggregator 1 time.\n",
      "Reduced MIP has 2412 rows, 3084 columns, and 16863 nonzeros.\n",
      "Reduced MIP has 900 binaries, 2184 generals, 0 SOSs, and 0 indicators.\n",
      "Presolve time = 0.02 sec. (18.73 ticks)\n",
      "Represolve time = 0.11 sec. (49.28 ticks)\n",
      "   5373     0        0.0000   531       11.0000   ZeroHalf: 2   239860  100.00%\n",
      "   5373     0        0.0000   531       11.0000     Cuts: 208   240153  100.00%\n",
      "   5373     0        0.0000   531       11.0000   ZeroHalf: 2   240175  100.00%\n",
      "   5373     0        0.0000   531       11.0000     Cuts: 232   240650  100.00%\n",
      "   5373     2        0.0000   278       11.0000        0.0000   240650  100.00%\n",
      "   5431    19        0.0000   395       11.0000        0.0000   246005  100.00%\n",
      "   5584   159        0.0000   344       11.0000        0.0000   272780  100.00%\n",
      "   6185   582        0.0000   355       11.0000        0.0000   307132  100.00%\n",
      "   7402  1615       10.0000   341       11.0000        0.0000   369902  100.00%\n",
      "*  7773+ 1892                            9.0000        0.0000           100.00%\n",
      "   7900  2100        0.0000   346        9.0000        0.0000   399253  100.00%\n",
      "*  8273+ 1996                            8.0000        0.0000           100.00%\n",
      "   8312  2452        0.0000   259        8.0000        0.0000   413618  100.00%\n",
      "   8373  2010        0.0000   347        8.0000        0.0000   387508  100.00%\n",
      "   9071  3087        2.0000   331        8.0000        0.0000   434899  100.00%\n",
      "Elapsed time = 36.58 sec. (21633.23 ticks, tree = 45.15 MB, solutions = 29)\n",
      "  10491  4165        1.0000   279        8.0000        0.0000   471142  100.00%\n",
      "  12304  6048        0.0000   291        8.0000        0.0000   536840  100.00%\n",
      "  14129  7490        0.0000   314        8.0000        0.0000   585398  100.00%\n",
      "  16455  9623        0.0000   302        8.0000        0.0000   646041  100.00%\n",
      "  18442 11627        1.0000   303        8.0000        0.0000   706612  100.00%\n",
      "  20512 13274        0.0000   320        8.0000        0.0000   759053  100.00%\n",
      "  22714 15942        2.0000   264        8.0000        0.0000   843101  100.00%\n",
      "  24854 17284        7.0000   339        8.0000        0.0000   883719  100.00%\n",
      "  27034 19715        0.0000   300        8.0000        0.0000   964199  100.00%\n",
      "  29214 21716        0.0000   288        8.0000        0.0000  1029921  100.00%\n",
      "Elapsed time = 50.32 sec. (31175.42 ticks, tree = 412.85 MB, solutions = 29)\n",
      "  31295 23809        1.0000   292        8.0000        0.0000  1102638  100.00%\n",
      "  33368 25934        2.0000   334        8.0000        0.0000  1170371  100.00%\n",
      "  35364 27564        4.0000   302        8.0000        0.0000  1226783  100.00%\n",
      "  37352 28937        5.0000   293        8.0000        0.0000  1271697  100.00%\n",
      "* 37641+29401                            7.0000        0.0000           100.00%\n",
      "  38473 30722        0.0000   354        7.0000        0.0000  1330995  100.00%\n",
      "  39514 31944        1.0000   327        7.0000        0.0000  1366812  100.00%\n",
      "* 39766+29561                            6.0000        0.0000           100.00%\n",
      "  40498 30839        6.0000   274        6.0000        0.0000  1384954  100.00%\n",
      "* 40744+29561                            5.0000        0.0000           100.00%\n",
      "* 40830+29561                            4.0000        0.0000           100.00%\n",
      "  41612 27689        3.0000   327        4.0000        0.0000  1424304  100.00%\n",
      "  42945 28755    infeasible              4.0000        0.0000  1464276  100.00%\n",
      "  44391 29656        1.0000   333        4.0000        0.0000  1495368  100.00%\n",
      "Elapsed time = 68.66 sec. (40718.07 ticks, tree = 570.22 MB, solutions = 35)\n",
      "  45426 31031        1.0000   312        4.0000        0.0000  1540914  100.00%\n",
      "  46854 31720        1.0000   322        4.0000        0.0000  1565627  100.00%\n",
      "  48413 33023        0.0000   328        4.0000        0.0000  1608660  100.00%\n",
      "  49985 34575        0.0000   271        4.0000        0.0000  1666651  100.00%\n",
      "  51665 36301        2.0000   340        4.0000        0.0000  1727943  100.00%\n",
      "  53426 37138        3.0000   290        4.0000        0.0000  1755651  100.00%\n",
      "  55425 39111        1.0000   334        4.0000        0.0000  1817822  100.00%\n",
      "  57048 41648        2.0000   337        4.0000        0.0000  1912636  100.00%\n",
      "  57633 42266        cutoff              4.0000        0.0000  1932232  100.00%\n"
     ]
    },
    {
     "name": "stdout",
     "output_type": "stream",
     "text": [
      "  58146 42718        0.0000   263        4.0000        0.0000  1946818  100.00%\n",
      "Elapsed time = 85.06 sec. (50262.51 ticks, tree = 846.68 MB, solutions = 37)\n",
      "  58824 43043        3.0000   296        4.0000        0.0000  1959035  100.00%\n",
      "  60545 44402        3.0000   305        4.0000        0.0000  1996597  100.00%\n",
      "  62677 46517        2.0000   333        4.0000        0.0000  2068206  100.00%\n",
      "  64883 48623        1.0000   282        4.0000        0.0000  2137260  100.00%\n",
      "  66993 50193        cutoff              4.0000        0.0000  2188686  100.00%\n",
      "  69164 52763        0.0000   326        4.0000        0.0000  2277132  100.00%\n",
      "  71239 54143        cutoff              4.0000        0.0000  2323104  100.00%\n",
      "  73108 55673        3.0000   324        4.0000        0.0000  2377954  100.00%\n",
      "  75124 57773        2.0000   328        4.0000        0.0000  2447722  100.00%\n",
      "  77101 59795        2.0000   336        4.0000        0.0000  2519597  100.00%\n",
      "Elapsed time = 100.55 sec. (59804.79 ticks, tree = 1213.41 MB, solutions = 37)\n",
      "  79062 60914        0.0000   314        4.0000        0.0000  2567030  100.00%\n",
      "  81088 63497        cutoff              4.0000        0.0000  2657510  100.00%\n",
      "  82941 65078        1.0000   299        4.0000        0.0000  2715968  100.00%\n",
      "  85015 66587        2.0000   303        4.0000        0.0000  2772001  100.00%\n",
      "  87136 68833        0.0000   325        4.0000        0.0000  2852738  100.00%\n",
      "  89170 70386        0.0000   367        4.0000        0.0000  2909737  100.00%\n",
      "  91170 72010        3.0000   299        4.0000        0.0000  2967318  100.00%\n",
      "  93300 73637        3.0000   271        4.0000        0.0000  3025031  100.00%\n",
      "  95316 76039        0.0000   274        4.0000        0.0000  3111524  100.00%\n",
      "  97471 77513        3.0000   313        4.0000        0.0000  3161830  100.00%\n",
      "Elapsed time = 115.62 sec. (69343.80 ticks, tree = 1597.01 MB, solutions = 37)\n",
      "  99681 79771        2.0000   284        4.0000        0.0000  3240979  100.00%\n",
      " 101744 81310        2.0000   295        4.0000        0.0000  3293624  100.00%\n",
      " 103570 84119        3.0000   323        4.0000        0.0000  3390525  100.00%\n",
      " 104768 84932        2.0000   299        4.0000        0.0000  3417195  100.00%\n",
      " 105995 86056        2.0000   335        4.0000        0.0000  3458681  100.00%\n",
      " 107400 87487        0.0000   337        4.0000        0.0000  3506719  100.00%\n",
      " 109155 88196        3.0000   291        4.0000        0.0000  3528854  100.00%\n",
      " 110990 90731        1.0000   260        4.0000        0.0000  3616952  100.00%\n",
      " 112842 91760        1.0000   282        4.0000        0.0000  3654836  100.00%\n",
      " 114836 94046        3.0000   359        4.0000        0.0000  3742299  100.00%\n",
      "Elapsed time = 131.15 sec. (78886.24 ticks, tree = 1952.39 MB, solutions = 37)\n",
      " 117031 95080        0.0000   289        4.0000        0.0000  3778776  100.00%\n",
      " 119113 97476        0.0000   321        4.0000        0.0000  3856607  100.00%\n",
      " 120996 98898        3.0000   358        4.0000        0.0000  3910424  100.00%\n",
      " 123113 100420        0.0000   270        4.0000        0.0000  3964979  100.00%\n",
      " 125097 103083        3.0000   292        4.0000        0.0000  4049853  100.00%\n",
      " 127099 104352        2.0000   353        4.0000        0.0000  4088349  100.00%\n",
      " 129182 106868        2.0000   344        4.0000        0.0000  4173328  100.00%\n",
      " 131200 108755        2.0000   330        4.0000        0.0000  4237022  100.00%\n",
      " 133129 110681        1.0000   275        4.0000        0.0000  4301418  100.00%\n",
      " 135121 112371        0.0000   287        4.0000        0.0000  4366093  100.00%\n",
      "Elapsed time = 149.73 sec. (88426.18 ticks, tree = 2345.30 MB, solutions = 37)\n",
      "Nodefile size = 292.59 MB (241.67 MB after compression)\n",
      " 136981 113721        0.0000   329        4.0000        0.0000  4409771  100.00%\n",
      " 138973 115840        3.0000   271        4.0000        0.0000  4486068  100.00%\n",
      " 139808 117436        0.0000   286        4.0000        0.0000  4542097  100.00%\n",
      " 140580 117874        1.0000   304        4.0000        0.0000  4553489  100.00%\n",
      " 141315 118566        0.0000   348        4.0000        0.0000  4578881  100.00%\n",
      " 142506 119642        1.0000   318        4.0000        0.0000  4617868  100.00%\n",
      " 144395 120660        3.0000   324        4.0000        0.0000  4652822  100.00%\n",
      " 146465 122058        2.0000   279        4.0000        0.0000  4703817  100.00%\n",
      " 148623 124400        2.0000   314        4.0000        0.0000  4782007  100.00%\n",
      " 156937 131559        3.0000   310        4.0000        0.0000  5030271  100.00%\n",
      "Elapsed time = 175.71 sec. (100830.41 ticks, tree = 2756.04 MB, solutions = 37)\n",
      "Nodefile size = 702.13 MB (578.72 MB after compression)\n",
      " 164752 139713        1.0000   374        4.0000        0.0000  5325903  100.00%\n",
      " 172061 145988        0.0000   309        4.0000        0.0000  5571460  100.00%\n",
      " 179369 152251        0.0000   321        4.0000        0.0000  5806333  100.00%\n",
      " 185771 158574        1.0000   335        4.0000        0.0000  6054205  100.00%\n",
      " 189093 161190        2.0000   345        4.0000        0.0000  6151221  100.00%\n",
      " 196227 167623        0.0000   363        4.0000        0.0000  6390245  100.00%\n",
      " 203427 174321        3.0000   294        4.0000        0.0000  6645991  100.00%\n",
      " 210695 180785        2.0000   323        4.0000        0.0000  6904412  100.00%\n",
      " 218450 186828    infeasible              4.0000        0.0000  7119941  100.00%\n",
      " 225810 194571        1.0000   287        4.0000        0.0000  7402750  100.00%\n",
      "Elapsed time = 252.25 sec. (139042.93 ticks, tree = 4114.00 MB, solutions = 37)\n",
      "Nodefile size = 2062.86 MB (1691.68 MB after compression)\n",
      " 233000 200543        0.0000   295        4.0000        0.0000  7623006  100.00%\n",
      " 239628 207571        0.0000   370        4.0000        0.0000  7883161  100.00%\n",
      " 244401 210835        3.0000   330        4.0000        0.0000  8008056  100.00%\n",
      " 251195 217694        1.0000   329        4.0000        0.0000  8285781  100.00%\n",
      " 258555 223161        3.0000   326        4.0000        0.0000  8489293  100.00%\n",
      " 265722 230056        1.0000   325        4.0000        0.0000  8762985  100.00%\n",
      " 272738 236467        1.0000   291        4.0000        0.0000  9017987  100.00%\n",
      " 277284 241553        1.2500   386        4.0000        0.0000  9221103  100.00%\n",
      " 281427 244336        1.0000   329        4.0000        0.0000  9325303  100.00%\n",
      " 287650 249840        1.0000   314        4.0000        0.0000  9560174  100.00%\n",
      "Elapsed time = 330.70 sec. (177206.51 ticks, tree = 5316.62 MB, solutions = 37)\n",
      "Nodefile size = 3261.77 MB (2685.16 MB after compression)\n",
      " 294794 256635        2.0000   271        4.0000        0.0000  9815925  100.00%\n",
      " 301844 263179        2.0000   345        4.0000        0.0000 10079473  100.00%\n",
      " 309055 269583        0.0000   295        4.0000        0.0000 10326225  100.00%\n",
      " 315743 275516        2.0000   290        4.0000        0.0000 10558739  100.00%\n",
      " 322534 281245        0.0000   338        4.0000        0.0000 10796243  100.00%\n",
      " 329395 287564        1.0000   326        4.0000        0.0000 11045316  100.00%\n",
      " 335338 293710        1.0000   310        4.0000        0.0000 11288417  100.00%\n",
      " 338898 295963        2.0000   347        4.0000        0.0000 11377728  100.00%\n",
      " 345528 302039        0.0000   328        4.0000        0.0000 11624852  100.00%\n",
      " 352078 307670        3.0000   276        4.0000        0.0000 11864458  100.00%\n",
      "Elapsed time = 412.02 sec. (215361.93 ticks, tree = 6580.95 MB, solutions = 37)\n",
      "Nodefile size = 4525.73 MB (3728.06 MB after compression)\n",
      " 358893 313532        cutoff              4.0000        0.0000 12101512  100.00%\n",
      " 365695 319681        3.0000   317        4.0000        0.0000 12349663  100.00%\n",
      " 372426 326759        1.0000   361        4.0000        0.0000 12634203  100.00%\n",
      " 379424 332987        2.0000   286        4.0000        0.0000 12886129  100.00%\n",
      " 386153 338416        2.0000   337        4.0000        0.0000 13097998  100.00%\n",
      " 389848 342917        0.0000   328        4.0000        0.0000 13260865  100.00%\n",
      " 395222 346995        1.0000   372        4.0000        0.0000 13426695  100.00%\n",
      " 401967 351945        0.0000   325        4.0000        0.0000 13620489  100.00%\n",
      " 409005 359370        0.0000   370        4.0000        0.0000 13915932  100.00%\n"
     ]
    },
    {
     "name": "stdout",
     "output_type": "stream",
     "text": [
      " 416010 365231        3.0000   341        4.0000        0.0000 14137285  100.00%\n",
      "Elapsed time = 498.23 sec. (253513.93 ticks, tree = 7842.42 MB, solutions = 37)\n",
      "Nodefile size = 5787.81 MB (4769.41 MB after compression)\n",
      " 423242 372048        2.0000   363        4.0000        0.0000 14396787  100.00%\n",
      " 430150 378300        0.0000   341        4.0000        0.0000 14636785  100.00%\n",
      " 437355 384598        1.0000   326        4.0000        0.0000 14871256  100.00%\n",
      " 444523 390494        2.0000   335        4.0000        0.0000 15094547  100.00%\n",
      " 448445 395570        3.0000   335        4.0000        0.0000 15294430  100.00%\n",
      " 453966 400367        2.0000   319        4.0000        0.0000 15484390  100.00%\n",
      " 460655 405785        0.0000   331        4.0000        0.0000 15698675  100.00%\n",
      " 467597 411254        2.0000   349        4.0000        0.0000 15911726  100.00%\n",
      " 474054 416809        3.0000   337        4.0000        0.0000 16139753  100.00%\n",
      " 481179 423899        1.0000   312        4.0000        0.0000 16407918  100.00%\n",
      "Elapsed time = 632.94 sec. (291665.51 ticks, tree = 9033.59 MB, solutions = 37)\n",
      "Nodefile size = 6978.23 MB (5750.76 MB after compression)\n",
      " 487454 429418        2.0000   326        4.0000        0.0000 16623545  100.00%\n",
      " 493528 434928        3.0000   272        4.0000        0.0000 16826831  100.00%\n",
      " 498950 440385        2.0000   340        4.0000        0.0000 17027958  100.00%\n",
      " 501728 443727        0.0000   353        4.0000        0.0000 17160581  100.00%\n",
      " 505527 446296        1.0000   269        4.0000        0.0000 17260197  100.00%\n",
      " 510440 450227        1.0000   297        4.0000        0.0000 17401580  100.00%\n",
      " 514750 453695        0.0000   345        4.0000        0.0000 17534889  100.00%\n",
      " 519131 457599        0.0000   287        4.0000        0.0000 17682163  100.00%\n",
      " 523141 461524        3.0000   316        4.0000        0.0000 17823575  100.00%\n",
      " 527301 465142        1.0000   326        4.0000        0.0000 17952810  100.00%\n",
      "Elapsed time = 1181.03 sec. (329825.46 ticks, tree = 9501.23 MB, solutions = 37)\n",
      "Nodefile size = 7442.85 MB (6094.58 MB after compression)\n",
      " 531034 469130        1.0000   325        4.0000        0.0000 18083682  100.00%\n",
      " 534506 472384        2.0000   317        4.0000        0.0000 18196879  100.00%\n",
      " 538191 475232        2.0000   330        4.0000        0.0000 18291944  100.00%\n",
      " 541691 478754        2.0000   315        4.0000        0.0000 18408780  100.00%\n",
      " 545203 482076        2.0000   300        4.0000        0.0000 18515446  100.00%\n",
      " 548154 484403        3.0000   332        4.0000        0.0000 18605947  100.00%\n",
      " 551201 487573        0.0000   299        4.0000        0.0000 18718801  100.00%\n",
      " 554064 489632        2.0000   347        4.0000        0.0000 18801341  100.00%\n",
      " 557108 492563        2.0000   307        4.0000        0.0000 18906719  100.00%\n",
      " 559840 495460        2.0000   297        4.0000        0.0000 19002745  100.00%\n",
      "Elapsed time = 1800.69 sec. (367982.57 ticks, tree = 9589.95 MB, solutions = 37)\n",
      "Nodefile size = 7535.82 MB (6112.60 MB after compression)\n",
      " 562323 497520        1.0000   268        4.0000        0.0000 19078702  100.00%\n",
      " 564895 499979        0.0000   339        4.0000        0.0000 19166066  100.00%\n",
      " 567725 502358        1.0000   320        4.0000        0.0000 19245410  100.00%\n",
      " 569969 504890        0.2500   327        4.0000        0.0000 19327387  100.00%\n",
      " 572101 506780        1.0000   337        4.0000        0.0000 19396067  100.00%\n",
      " 574902 508822        1.0000   269        4.0000        0.0000 19454793  100.00%\n",
      " 577512 511603        0.5000   293        4.0000        0.0000 19544584  100.00%\n",
      " 579796 513785        2.0000   343        4.0000        0.0000 19623310  100.00%\n",
      " 582130 515675        0.0000   356        4.0000        0.0000 19693989  100.00%\n",
      " 584521 517819        2.0000   343        4.0000        0.0000 19772366  100.00%\n",
      "Elapsed time = 2426.62 sec. (406141.06 ticks, tree = 9658.15 MB, solutions = 37)\n",
      "Nodefile size = 7603.84 MB (6126.31 MB after compression)\n",
      " 586724 519847        2.0000   299        4.0000        0.0000 19841038  100.00%\n",
      " 588616 521572        2.0000   287        4.0000        0.0000 19906336  100.00%\n",
      " 590855 523602        1.0000   299        4.0000        0.0000 19980475  100.00%\n",
      " 592636 525578        1.0000   337        4.0000        0.0000 20052430  100.00%\n",
      " 593865 526730        2.0000   345        4.0000        0.0000 20097349  100.00%\n",
      " 595846 528051        2.0000   364        4.0000        0.0000 20145992  100.00%\n",
      " 597757 529910        1.0000   352        4.0000        0.0000 20213716  100.00%\n",
      " 599834 531720        2.0000   365        4.0000        0.0000 20282953  100.00%\n",
      " 602067 533520        2.5000   337        4.0000        0.0000 20345685  100.00%\n",
      " 604284 535790        2.0000   346        4.0000        0.0000 20419279  100.00%\n",
      "Elapsed time = 3041.07 sec. (444400.07 ticks, tree = 9713.98 MB, solutions = 37)\n",
      "Nodefile size = 7658.67 MB (6136.74 MB after compression)\n",
      " 606204 537527        1.0000   317        4.0000        0.0000 20480645  100.00%\n",
      " 608058 539329        1.0000   311        4.0000        0.0000 20548796  100.00%\n",
      " 609868 540956        0.0000   351        4.0000        0.0000 20611325  100.00%\n",
      " 611695 542553        2.0000   368        4.0000        0.0000 20677529  100.00%\n",
      " 613399 544075        2.0000   352        4.0000        0.0000 20735605  100.00%\n",
      "\n",
      "Mixed integer rounding cuts applied:  19\n",
      "Zero-half cuts applied:  52\n",
      "Lift and project cuts applied:  2\n",
      "Gomory fractional cuts applied:  10\n",
      "\n",
      "Root node processing (before b&c):\n",
      "  Real time             =    6.61 sec. (3772.07 ticks)\n",
      "Parallel b&c, 8 threads:\n",
      "  Real time             = 3400.65 sec. (461608.44 ticks)\n",
      "  Sync time (average)   = 2528.94 sec.\n",
      "  Wait time (average)   =    0.12 sec.\n",
      "                          ------------\n",
      "Total (root+branch&cut) = 3407.26 sec. (465380.51 ticks)\n",
      "\n",
      "KeyboardInterrupt\n",
      "+o.xo+ox.oxox.+\n",
      ".x++xo.x+o.+ox.\n",
      "oxo.x++oxx++x+o\n",
      "x++oo+x.+oxoo++\n",
      "ox.+xxoxo.x+.xo\n",
      ".xoxo+o+o+oxx+.\n",
      "+o+.ox+xxoo+o.x\n",
      "x.+o+x.o+.x+xoo\n",
      "oxx+.oxoxx+o.+x\n",
      "x+o+x+o++oxx+o.\n",
      ".+xxo+.xo.+oxx+\n",
      "+oox.o+x+xo.+oo\n",
      "oxxo++xoo++xoo+\n",
      ".o+.xox.+xo++x.\n",
      "+.x+o.+x+o.+x..\n"
     ]
    }
   ],
   "source": [
    "find_general_solution(15, 185)"
   ]
  },
  {
   "cell_type": "markdown",
   "metadata": {},
   "source": [
    "This is obviously not as fast as for the 10x10 board, but we are still able to find a solution within a reasonable amount of time. I was running this on a 32 core machine and it took about 10 minutes to find a solution.\n",
    "\n",
    "Thanks for another fun challenge, IBM! Looking forward to seeing other people's solution approaches. As always, MIP is a quick solution and is implemented in a couple of minutes but there might be a much more suitable algorithm that is faster overall."
   ]
  },
  {
   "cell_type": "markdown",
   "metadata": {},
   "source": [
    "An example for a 15x15 solution looks as follows:"
   ]
  },
  {
   "cell_type": "code",
   "execution_count": null,
   "metadata": {},
   "outputs": [],
   "source": [
    "solution = \"\\\n",
    "O.XOX.OXO.X+X.O\\\n",
    "++OO++X.+O+.X+.\\\n",
    ".X+X.OXOXX+OOX+\\\n",
    "O+.XO++X.OX++XO\\\n",
    "XOO+X.O++X.OX+.\\\n",
    "+X+.XOX.OXO+OXX\\\n",
    ".XOO++OO++X.O++\\\n",
    "X+X+.X+X.OXO+.O\\\n",
    "+.XOO+.XO++XOO+\\\n",
    "OO+.XOO+X.O++X.\\\n",
    ".X+X+O+.XOX.O+X\\\n",
    "XXOO+XOO++OOX.O\\\n",
    "O++XOX.+OX+X+O+\\\n",
    ".X+.O+X+.XOX+X.\\\n",
    "+.XOX.+OXO.+X.O\""
   ]
  },
  {
   "cell_type": "code",
   "execution_count": null,
   "metadata": {},
   "outputs": [],
   "source": []
  }
 ],
 "metadata": {
  "kernelspec": {
   "display_name": ".venv",
   "language": "python",
   "name": "python3"
  },
  "language_info": {
   "codemirror_mode": {
    "name": "ipython",
    "version": 3
   },
   "file_extension": ".py",
   "mimetype": "text/x-python",
   "name": "python",
   "nbconvert_exporter": "python",
   "pygments_lexer": "ipython3",
   "version": "3.12.7"
  }
 },
 "nbformat": 4,
 "nbformat_minor": 4
}
