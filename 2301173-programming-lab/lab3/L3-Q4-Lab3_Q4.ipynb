{
 "cells": [
  {
   "cell_type": "markdown",
   "metadata": {
    "deletable": false,
    "editable": false,
    "nbgrader": {
     "cell_type": "markdown",
     "checksum": "756e984fdab11c35b26d46e618214be5",
     "grade": false,
     "grade_id": "cell-dbf37dcea5d7dc5c",
     "locked": true,
     "schema_version": 3,
     "solution": false,
     "task": false
    }
   },
   "source": [
    "## Q4\n",
    "จงเขียนโปรแกรมที่รับจำนวนนักเรียนที่เข้าสอบ (เป็นจำนวนบวกเท่านั้น) แล้ววนรับคะแนนของนักเรียนที่เข้าสอบให้ครบและหา \n",
    "- คะแนนเฉลี่ยของนักเรียนทั้งหมด\n",
    "- คะแนนเฉลี่ยของนักเรียนที่สอบผ่าน (ได้คะแนนอย่างน้อย 5)\n",
    "- คะแนนเฉลี่ยของนักเรียนที่สอบไม่ผ่าน (ได้คะแนนต่ำกว่า 5)\n",
    "- คะแนนสูงสุดของนักเรียนทั้งหมด"
   ]
  },
  {
   "cell_type": "markdown",
   "metadata": {
    "deletable": false,
    "editable": false,
    "nbgrader": {
     "cell_type": "markdown",
     "checksum": "868e05360256a8967d8de23c9df9c9b6",
     "grade": false,
     "grade_id": "cell-679ab39eeac1b48a",
     "locked": true,
     "schema_version": 3,
     "solution": false,
     "task": false
    }
   },
   "source": [
    "### ตัวอย่างการทำงาน: \n",
    "\n",
    "Number of students : **3** <br>\n",
    "Student 1 : **10** <br>\n",
    "Student 2 : **6.5** <br>\n",
    "Student 3 : **0** <br>\n",
    "Average score : 5.5 <br>\n",
    "Average passing score : 8.25 <br>\n",
    "Average failing score : 0.0 <br>\n",
    "Highest score : 10.0 <br>"
   ]
  },
  {
   "cell_type": "markdown",
   "metadata": {
    "deletable": false,
    "editable": false,
    "nbgrader": {
     "cell_type": "markdown",
     "checksum": "568123a806242a59c64bceb93539df37",
     "grade": false,
     "grade_id": "cell-7ae57c7b0fc2869d",
     "locked": true,
     "schema_version": 3,
     "solution": false,
     "task": false
    }
   },
   "source": [
    "### ตัวอย่างการทำงาน: \n",
    "\n",
    "Number of students : **5** <br>\n",
    "Student 1 : **10** <br>\n",
    "Student 2 : **6.5** <br>\n",
    "Student 3 : **0** <br>\n",
    "Student 4 : **9** <br>\n",
    "Student 5 : **8.25** <br>\n",
    "Average score : 6.75 <br>\n",
    "Average passing score : 8.4375<br>\n",
    "Average failing score : 0.0 <br>\n",
    "Highest score : 10.0"
   ]
  },
  {
   "cell_type": "markdown",
   "metadata": {
    "deletable": false,
    "editable": false,
    "nbgrader": {
     "cell_type": "markdown",
     "checksum": "de2963229ce91e197e9e10ea7ede0f87",
     "grade": false,
     "grade_id": "cell-400409b302bb64e5",
     "locked": true,
     "schema_version": 3,
     "solution": false,
     "task": false
    }
   },
   "source": [
    "### ตัวอย่างการทำงาน: \n",
    "\n",
    "Number of students : **7** <br>\n",
    "Student 1 : **9** <br>\n",
    "Student 2 : **6.5** <br>\n",
    "Student 3 : **0** <br>\n",
    "Student 4 : **10** <br>\n",
    "Student 5 : **8.25** <br>\n",
    "Student 6 : **9.50** <br>\n",
    "Student 7 : **7.25** <br>\n",
    "Average score : 7.214285714285714 <br>\n",
    "Average passing score : 8.416666666666666 <br>\n",
    "Average failing score : 0.0 <br>\n",
    "Highest score : 10.0 <br>"
   ]
  },
  {
   "cell_type": "markdown",
   "metadata": {
    "deletable": false,
    "editable": false,
    "nbgrader": {
     "cell_type": "markdown",
     "checksum": "5c4c33732cdd3e64e1032eef112412bf",
     "grade": false,
     "grade_id": "cell-41c8a13433b77612",
     "locked": true,
     "schema_version": 3,
     "solution": false,
     "task": false
    }
   },
   "source": [
    "### ตัวอย่างการทำงาน: \n",
    "\n",
    "Number of students : **-1** <br>\n",
    "Incorrect Input. Number of students : **7** <br>\n",
    "Student 1 : **10** <br>\n",
    "Student 2 : **6.5** <br>\n",
    "Student 3 : **0** <br>\n",
    "Student 4 : **9** <br>\n",
    "Student 5 : **8.25** <br>\n",
    "Student 6 : **9.50** <br>\n",
    "Student 7 : **7.25** <br>\n",
    "Average score : 7.214285714285714 <br>\n",
    "Average passing score : 8.416666666666666 <br>\n",
    "Average failing score : 0.0 <br>\n",
    "Highest score : 10.0 <br>"
   ]
  },
  {
   "cell_type": "markdown",
   "metadata": {
    "deletable": false,
    "editable": false,
    "nbgrader": {
     "cell_type": "markdown",
     "checksum": "3e62b97d0d50083ebd312f348131b686",
     "grade": false,
     "grade_id": "cell-2f0e971620dd1b4a",
     "locked": true,
     "schema_version": 3,
     "solution": false,
     "task": false
    }
   },
   "source": [
    "### ตัวอย่างการทำงาน: \n",
    "\n",
    "Number of students : **3** <br>\n",
    "Student 1 : **6** <br>\n",
    "Student 2 : **5.5** <br>\n",
    "Student 3 : **9.8** <br>\n",
    "Average score : 7.1000000000000005 <br>\n",
    "Average passing score : 7.1000000000000005 <br>\n",
    "Average failing score : No student failed <br>\n",
    "Highest score : 9.8 <br>"
   ]
  },
  {
   "cell_type": "markdown",
   "metadata": {},
   "source": [
    "### ตัวอย่างการทำงาน: \n",
    "\n",
    "Number of students : **3** <br>\n",
    "Student 1 : **1** <br>\n",
    "Student 2 : **2.5** <br>\n",
    "Student 3 : **3.5** <br>\n",
    "Average score : 2.3333333333333335 <br>\n",
    "Average passing score : No student passed <br>\n",
    "Average failing score : 2.3333333333333335 <br>\n",
    "Highest score : 3.5 <br>"
   ]
  },
  {
   "cell_type": "code",
   "execution_count": 22,
   "metadata": {
    "deletable": false,
    "nbgrader": {
     "cell_type": "code",
     "checksum": "b200d6e6b1dcb53db9c7782614ea5d49",
     "grade": false,
     "grade_id": "name",
     "locked": false,
     "schema_version": 3,
     "solution": true
    }
   },
   "outputs": [],
   "source": [
    "def run():\n",
    "    n_of_student = input(\"Number of students : \")\n",
    "    while True:\n",
    "        if int(n_of_student) < 0:\n",
    "            n_of_student = input(\"Incorrect Input. Number of students : \")\n",
    "            continue\n",
    "        break\n",
    "    sum_scores = 0\n",
    "    n_of_student = int(n_of_student)\n",
    "    all_scores = []\n",
    "    passed = []\n",
    "    failed = []\n",
    "    for i in range(n_of_student):\n",
    "        score = float(input(f\"Student {i} : \"))\n",
    "        sum_scores += score\n",
    "        all_scores.append(score)\n",
    "        if score < 5:\n",
    "            failed.append(score)\n",
    "        else:\n",
    "            passed.append(score)\n",
    "    print(f\"Average score : {float(sum_scores/n_of_student)}\")\n",
    "    print(\"Average passing score :\", float(sum(passed)/len(passed)) if len(passed) > 0 else \"No student passed\")\n",
    "    print(\"Average failing score :\", float(sum(failed)/len(failed)) if len(failed) > 0 else \"No student failed\")\n",
    "    print(f\"Highest score : {float(max(all_scores))}\")"
   ]
  },
  {
   "cell_type": "code",
   "execution_count": null,
   "metadata": {
    "deletable": false,
    "editable": false,
    "nbgrader": {
     "cell_type": "code",
     "checksum": "b7b03893ed0aaf1a2af60ae612b4be37",
     "grade": false,
     "grade_id": "cell-befa13e6c82bd29b",
     "locked": true,
     "schema_version": 3,
     "solution": false,
     "task": false
    }
   },
   "outputs": [],
   "source": [
    "'''ตรวจสอบผลลัพธ์ของโปรแกรมด้วยการรันที่ cell นี้'''\n",
    "run()"
   ]
  },
  {
   "cell_type": "code",
   "execution_count": 23,
   "metadata": {
    "deletable": false,
    "editable": false,
    "nbgrader": {
     "cell_type": "code",
     "checksum": "51309daa496029406f58e0ffe1d6e21d",
     "grade": false,
     "grade_id": "partial",
     "locked": true,
     "schema_version": 3,
     "solution": false,
     "task": false
    }
   },
   "outputs": [],
   "source": [
    "'''ตรวจสอบผลการคำนวณ'''\n",
    "from unittest.mock import patch\n",
    "from io import StringIO\n",
    "\n",
    "def test(inputs,expected_output): \n",
    "    with patch('builtins.input', side_effect=inputs), patch('sys.stdout', new_callable=StringIO) as mock_stdout:\n",
    "        run()\n",
    "        assert mock_stdout.getvalue() == expected_output,mock_stdout.getvalue()\n",
    "def test_easy_print(inputs,expected_output):\n",
    "    with patch('builtins.input', side_effect=inputs), patch('sys.stdout', new_callable=StringIO) as mock_stdout:\n",
    "        run()\n",
    "        assert expected_output in mock_stdout.getvalue(), mock_stdout.getvalue()"
   ]
  },
  {
   "cell_type": "code",
   "execution_count": 24,
   "metadata": {
    "deletable": false,
    "editable": false,
    "nbgrader": {
     "cell_type": "code",
     "checksum": "85dfa78773b6556747e84470c031698f",
     "grade": true,
     "grade_id": "easy_print",
     "locked": true,
     "points": 1,
     "schema_version": 3,
     "solution": false,
     "task": false
    }
   },
   "outputs": [
    {
     "name": "stdout",
     "output_type": "stream",
     "text": [
      "ok\n"
     ]
    }
   ],
   "source": [
    "'''ตรวจสอบการแสดงผลลัพธ์อย่างง่าย'''\n",
    "test_easy_print(inputs=['3','10','6.5','0'],expected_output='Average')\n",
    "print('ok')"
   ]
  },
  {
   "cell_type": "code",
   "execution_count": 25,
   "metadata": {
    "deletable": false,
    "editable": false,
    "nbgrader": {
     "cell_type": "code",
     "checksum": "d7d7f2cb771d85de3e9b0fbebf2f847f",
     "grade": true,
     "grade_id": "cell-5646d4ae088951fe",
     "locked": true,
     "points": 1,
     "schema_version": 3,
     "solution": false,
     "task": false
    }
   },
   "outputs": [
    {
     "name": "stdout",
     "output_type": "stream",
     "text": [
      "ok\n"
     ]
    }
   ],
   "source": [
    "'''ตรวจสอบผลการคำนวณและการแสดงผลลัพธ์ให้เหมือนกับโจทย์ที่กำหนดให้'''\n",
    "'''Number of students is 3'''\n",
    "test(['3','10','6.5','0'],'Average score : 5.5\\nAverage passing score : 8.25\\nAverage failing score : 0.0\\nHighest score : 10.0\\n') \n",
    "test(['3','7','4','9'],'Average score : 6.666666666666667\\nAverage passing score : 8.0\\nAverage failing score : 4.0\\nHighest score : 9.0\\n') \n",
    "test(['3','6','5.5','9.8'],'Average score : 7.1000000000000005\\nAverage passing score : 7.1000000000000005\\nAverage failing score : No student failed\\nHighest score : 9.8\\n') \n",
    "test(['3','1.5','4.5','6.5'],'Average score : 4.166666666666667\\nAverage passing score : 6.5\\nAverage failing score : 3.0\\nHighest score : 6.5\\n')\n",
    "print('ok')"
   ]
  },
  {
   "cell_type": "code",
   "execution_count": 26,
   "metadata": {
    "deletable": false,
    "editable": false,
    "nbgrader": {
     "cell_type": "code",
     "checksum": "d449cbae5c9a3bb50fdc0516edb6e305",
     "grade": true,
     "grade_id": "exact",
     "locked": false,
     "points": 1,
     "schema_version": 3,
     "solution": false
    }
   },
   "outputs": [
    {
     "name": "stdout",
     "output_type": "stream",
     "text": [
      "ok\n"
     ]
    }
   ],
   "source": [
    "'''ตรวจสอบผลการคำนวณและการแสดงผลลัพธ์ให้เหมือนกับโจทย์ที่กำหนดให้'''\n",
    "'''Number of students is 5'''\n",
    "test(['5','10','6.5','0','9','8.25'],'Average score : 6.75\\nAverage passing score : 8.4375\\nAverage failing score : 0.0\\nHighest score : 10.0\\n') \n",
    "test(['5','6','8','9','4','10'],'Average score : 7.4\\nAverage passing score : 8.25\\nAverage failing score : 4.0\\nHighest score : 10.0\\n') \n",
    "test(['5','4.25','6.25','1.25','8.75','9.25'],'Average score : 5.95\\nAverage passing score : 8.083333333333334\\nAverage failing score : 2.75\\nHighest score : 9.25\\n') \n",
    "test(['5','4.25','1','0','8.75','9.25'],'Average score : 4.65\\nAverage passing score : 9.0\\nAverage failing score : 1.75\\nHighest score : 9.25\\n')\n",
    "print('ok')"
   ]
  },
  {
   "cell_type": "code",
   "execution_count": 27,
   "metadata": {
    "deletable": false,
    "editable": false,
    "nbgrader": {
     "cell_type": "code",
     "checksum": "d3869d119c39130b42275b37a7eccea2",
     "grade": true,
     "grade_id": "cell-cbc47179f27fefee",
     "locked": true,
     "points": 1,
     "schema_version": 3,
     "solution": false,
     "task": false
    }
   },
   "outputs": [
    {
     "name": "stdout",
     "output_type": "stream",
     "text": [
      "ok\n"
     ]
    }
   ],
   "source": [
    "'''ตรวจสอบผลการคำนวณและการแสดงผลลัพธ์ให้เหมือนกับโจทย์ที่กำหนดให้'''\n",
    "'''Number of students is 7'''\n",
    "test(['7','10','6.5','0','9','8.25','9.50','7.25'],'Average score : 7.214285714285714\\nAverage passing score : 8.416666666666666\\nAverage failing score : 0.0\\nHighest score : 10.0\\n') \n",
    "test(['7','4.25','6.25','1.25','8.75','9.25','7.25','9.75'],'Average score : 6.678571428571429\\nAverage passing score : 8.25\\nAverage failing score : 2.75\\nHighest score : 9.75\\n') \n",
    "test(['7','6','8','9','4','10','3','4'],'Average score : 6.285714285714286\\nAverage passing score : 8.25\\nAverage failing score : 3.6666666666666665\\nHighest score : 10.0\\n')\n",
    "print('ok')"
   ]
  },
  {
   "cell_type": "code",
   "execution_count": 28,
   "metadata": {
    "deletable": false,
    "editable": false,
    "nbgrader": {
     "cell_type": "code",
     "checksum": "826b1c33383e831b2a4017a748dcf0c0",
     "grade": true,
     "grade_id": "cell-f6917d088df9d576",
     "locked": true,
     "points": 1,
     "schema_version": 3,
     "solution": false,
     "task": false
    }
   },
   "outputs": [
    {
     "name": "stdout",
     "output_type": "stream",
     "text": [
      "ok\n"
     ]
    }
   ],
   "source": [
    "'''ตรวจสอบเคส inputs ติด ลบ'''\n",
    "test(['-1','7','10','6.5','0','9','8.25','9.50','7.25'],'Average score : 7.214285714285714\\nAverage passing score : 8.416666666666666\\nAverage failing score : 0.0\\nHighest score : 10.0\\n') \n",
    "test(['-7','-1','7','4.25','6.25','1.25','8.75','9.25','7.25','9.75'],'Average score : 6.678571428571429\\nAverage passing score : 8.25\\nAverage failing score : 2.75\\nHighest score : 9.75\\n')\n",
    "print('ok')"
   ]
  },
  {
   "cell_type": "code",
   "execution_count": 29,
   "metadata": {
    "deletable": false,
    "editable": false,
    "nbgrader": {
     "cell_type": "code",
     "checksum": "889bc5c8b03535becb06f0c08fcfc778",
     "grade": true,
     "grade_id": "cell-cb70be9f8c5d23dc",
     "locked": true,
     "points": 1,
     "schema_version": 3,
     "solution": false,
     "task": false
    }
   },
   "outputs": [
    {
     "data": {
      "text/plain": [
       "'เทสลับ1'"
      ]
     },
     "execution_count": 29,
     "metadata": {},
     "output_type": "execute_result"
    }
   ],
   "source": [
    "'''เทสลับ1'''"
   ]
  },
  {
   "cell_type": "code",
   "execution_count": 30,
   "metadata": {
    "deletable": false,
    "editable": false,
    "nbgrader": {
     "cell_type": "code",
     "checksum": "1a91e366b60cae9ca354d2b388670590",
     "grade": true,
     "grade_id": "cell-04f03e303c25f48c",
     "locked": true,
     "points": 1,
     "schema_version": 3,
     "solution": false,
     "task": false
    }
   },
   "outputs": [
    {
     "data": {
      "text/plain": [
       "'เทสลับ2'"
      ]
     },
     "execution_count": 30,
     "metadata": {},
     "output_type": "execute_result"
    }
   ],
   "source": [
    "'''เทสลับ2'''"
   ]
  },
  {
   "cell_type": "code",
   "execution_count": 31,
   "metadata": {
    "deletable": false,
    "editable": false,
    "nbgrader": {
     "cell_type": "code",
     "checksum": "55f04042d3837fdaac8e3e323942fc47",
     "grade": true,
     "grade_id": "cell-9822de1c0606dd27",
     "locked": true,
     "points": 1,
     "schema_version": 3,
     "solution": false,
     "task": false
    }
   },
   "outputs": [
    {
     "data": {
      "text/plain": [
       "'เทสลับ3'"
      ]
     },
     "execution_count": 31,
     "metadata": {},
     "output_type": "execute_result"
    }
   ],
   "source": [
    "'''เทสลับ3'''"
   ]
  },
  {
   "cell_type": "code",
   "execution_count": 21,
   "metadata": {
    "deletable": false,
    "editable": false,
    "nbgrader": {
     "cell_type": "code",
     "checksum": "4c6f8a870f9f1dd7dbe511e973c7efed",
     "grade": true,
     "grade_id": "cell-a2bb4decb259fcda",
     "locked": true,
     "points": 1,
     "schema_version": 3,
     "solution": false,
     "task": false
    }
   },
   "outputs": [
    {
     "data": {
      "text/plain": [
       "'เทสลับ4'"
      ]
     },
     "execution_count": 21,
     "metadata": {},
     "output_type": "execute_result"
    }
   ],
   "source": [
    "'''เทสลับ4'''"
   ]
  },
  {
   "cell_type": "code",
   "execution_count": null,
   "metadata": {},
   "outputs": [],
   "source": []
  }
 ],
 "metadata": {
  "BondSan": "667099c0a2bf5dd557785a08885c6f7fd961532aac0e817f9305db06f10e61a7155a15dc330b5f86768be02306fff286ade58d0d5dd06a243cfd17e6b3f243f10073a9b0c510ff9562ac4fa58066bfce8c1803db68bd7f4ab9fce5f0b66826dcbc7260b8e1ef0f80a1c5ae14474e85180a4ac5423ca1e502d39bd31777648a7cfa2eb573f7b35177896c192f4a7706c19fb1d5232a504371b98a374851289e0a5bf73fa39950cfd3768b76cf31c6c9f6fe1fa4410e30e5f2849d00df23b1f8b0af34f76869b18d61679003e0860fb4cb9450872d64db131b636c2ddbab8f5996c339ec6333d112d90a897f03a742bb5350315a76c9022612814043df12d2b531",
  "kernelspec": {
   "display_name": "Python 3 (ipykernel)",
   "language": "python",
   "name": "python3"
  },
  "language_info": {
   "codemirror_mode": {
    "name": "ipython",
    "version": 3
   },
   "file_extension": ".py",
   "mimetype": "text/x-python",
   "name": "python",
   "nbconvert_exporter": "python",
   "pygments_lexer": "ipython3",
   "version": "3.9.12"
  }
 },
 "nbformat": 4,
 "nbformat_minor": 4
}
