{
 "cells": [
  {
   "cell_type": "code",
   "execution_count": null,
   "metadata": {},
   "outputs": [
    {
     "ename": "NotADirectoryError",
     "evalue": "[Errno 20] Not a directory: '/home/mose/chula/programming/2301173-programming/lab4/move3a.txt' -> '/home/mose/chula/programming/2301173-programming/lab4/'",
     "output_type": "error",
     "traceback": [
      "\u001b[0;31m---------------------------------------------------------------------------\u001b[0m",
      "\u001b[0;31mNotADirectoryError\u001b[0m                        Traceback (most recent call last)",
      "Cell \u001b[0;32mIn[2], line 16\u001b[0m\n\u001b[1;32m     14\u001b[0m \u001b[38;5;28;01mif\u001b[39;00m \u001b[38;5;28mlen\u001b[39m(filename\u001b[38;5;241m.\u001b[39msplit(\u001b[38;5;124m'\u001b[39m\u001b[38;5;124m-\u001b[39m\u001b[38;5;124m'\u001b[39m)[\u001b[38;5;241m0\u001b[39m]) \u001b[38;5;241m==\u001b[39m \u001b[38;5;241m10\u001b[39m:\n\u001b[1;32m     15\u001b[0m   new_filepath \u001b[38;5;241m=\u001b[39m base \u001b[38;5;241m+\u001b[39m \u001b[38;5;124m\"\u001b[39m\u001b[38;5;124m/\u001b[39m\u001b[38;5;124m\"\u001b[39m \u001b[38;5;241m+\u001b[39m dirname \u001b[38;5;241m+\u001b[39m \u001b[38;5;124m\"\u001b[39m\u001b[38;5;124m/\u001b[39m\u001b[38;5;124m\"\u001b[39m \u001b[38;5;241m+\u001b[39m \u001b[38;5;124m\"\u001b[39m\u001b[38;5;124m-\u001b[39m\u001b[38;5;124m\"\u001b[39m\u001b[38;5;241m.\u001b[39mjoin(filename\u001b[38;5;241m.\u001b[39msplit(\u001b[38;5;124m\"\u001b[39m\u001b[38;5;124m-\u001b[39m\u001b[38;5;124m\"\u001b[39m)[\u001b[38;5;241m1\u001b[39m:])\n\u001b[0;32m---> 16\u001b[0m   \u001b[43mos\u001b[49m\u001b[38;5;241;43m.\u001b[39;49m\u001b[43mrename\u001b[49m\u001b[43m(\u001b[49m\u001b[43mfilepath\u001b[49m\u001b[43m,\u001b[49m\u001b[43m \u001b[49m\u001b[43mnew_filepath\u001b[49m\u001b[43m)\u001b[49m\n\u001b[1;32m     17\u001b[0m   \u001b[38;5;28mprint\u001b[39m(filepath, \u001b[38;5;124m\"\u001b[39m\u001b[38;5;124m-->\u001b[39m\u001b[38;5;124m\"\u001b[39m, new_filepath)\n",
      "\u001b[0;31mNotADirectoryError\u001b[0m: [Errno 20] Not a directory: '/home/mose/chula/programming/2301173-programming/lab4/move3a.txt' -> '/home/mose/chula/programming/2301173-programming/lab4/'"
     ]
    }
   ],
   "source": [
    "# -*- coding: utf-8 -*-\n",
    "\"\"\"\n",
    "Remove student ID from filenames\n",
    "\"\"\"\n",
    "\n",
    "import os\n",
    "\n",
    "base = os.path.dirname(os.getcwd())\n",
    "dirs_with_lab = [dir for dir in os.listdir(base) if \"lab\" in dir]\n",
    "\n",
    "for dirname in dirs_with_lab:\n",
    "  for filename in os.listdir(base + \"/\" + dirname):\n",
    "    filepath = base + \"/\" + dirname + \"/\" + filename\n",
    "    if len(filename.split('-')[0]) == 10:\n",
    "      new_filepath = base + \"/\" + dirname + \"/\" + \"-\".join(filename.split(\"-\")[1:])\n",
    "      os.rename(filepath, new_filepath)\n",
    "      print(filepath, \"-->\", new_filepath)"
   ]
  }
 ],
 "metadata": {
  "kernelspec": {
   "display_name": ".venv",
   "language": "python",
   "name": "python3"
  },
  "language_info": {
   "codemirror_mode": {
    "name": "ipython",
    "version": 3
   },
   "file_extension": ".py",
   "mimetype": "text/x-python",
   "name": "python",
   "nbconvert_exporter": "python",
   "pygments_lexer": "ipython3",
   "version": "3.10.12"
  }
 },
 "nbformat": 4,
 "nbformat_minor": 2
}
