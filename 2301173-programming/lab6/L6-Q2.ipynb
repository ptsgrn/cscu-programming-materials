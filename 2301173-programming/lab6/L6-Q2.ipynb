{
 "cells": [
  {
   "cell_type": "markdown",
   "metadata": {
    "deletable": false,
    "editable": false,
    "nbgrader": {
     "cell_type": "markdown",
     "checksum": "9f41ee166a70234862ea51ac5b5cfa65",
     "grade": false,
     "grade_id": "cell-dbf37dcea5d7dc5c",
     "locked": true,
     "schema_version": 3,
     "solution": false,
     "task": false
    }
   },
   "source": [
    "## Q2\n",
    "- เขียนฟังก์ชัน get_dict(file_name) โดยรับพารามิเตอร์เป็น file_name ที่สร้าง dictionary จากการอ่านไฟล์ conversation.txt (มีไฟล์ให้)  <br>\n",
    "    - จากนั้นนับความถี่ของแต่ละคำที่ปรากฏในไฟล์ โดยแต่ละคำคั่นด้วยช่องว่าง และให้ตัด **: ? , .** ที่อยู่หน้าหรือหลังคำ \n",
    "ออกจากข้อความด้วย <br> และแสดงผลลัพธ์เป็นข้อมูลใน dictionary ตามตัวอย่างการทำงาน "
   ]
  },
  {
   "cell_type": "markdown",
   "metadata": {
    "deletable": false,
    "editable": false,
    "nbgrader": {
     "cell_type": "markdown",
     "checksum": "058df05370f3b6125aa67755715d1352",
     "grade": false,
     "grade_id": "cell-7ae57c7b0fc2869d",
     "locked": true,
     "schema_version": 3,
     "solution": false,
     "task": false
    }
   },
   "source": [
    "### ตัวอย่างการทำงาน: \n",
    "get_dict(**'conversation1.txt'**) <br>\n",
    "{'Tom': 2, 'Hi': 1, 'I': 2, 'am': 2, 'Ana': 2}"
   ]
  },
  {
   "cell_type": "markdown",
   "metadata": {
    "deletable": false,
    "editable": false,
    "nbgrader": {
     "cell_type": "markdown",
     "checksum": "c2bdb28e0e5217454e33e4b0c723edf0",
     "grade": false,
     "grade_id": "cell-49124b4536819ee4",
     "locked": true,
     "schema_version": 3,
     "solution": false,
     "task": false
    }
   },
   "source": [
    "### ตัวอย่างการทำงาน: \n",
    "get_dict(**'conversation2.txt'**) <br>\n",
    "{'Mr': 3, 'Bean': 3, 'Good': 2, 'morning': 2, 'Mrs': 2, 'Jones': 2, 'How': 1, 'are': 1, 'you': 1, \"I'm\": 1, 'fine': 1, 'Thanks': 1}"
   ]
  },
  {
   "cell_type": "markdown",
   "metadata": {
    "deletable": false,
    "editable": false,
    "nbgrader": {
     "cell_type": "markdown",
     "checksum": "e8f606be38974057f8a781058390b6b3",
     "grade": false,
     "grade_id": "cell-2ea830a3179a93b7",
     "locked": true,
     "schema_version": 3,
     "solution": false,
     "task": false
    }
   },
   "source": [
    "### ตัวอย่างการทำงาน: \n",
    "get_dict(**'conversation3.txt'**) <br>\n",
    "{'Tom': 3, \"It's\": 2, 'an': 1, 'ugly': 1, 'day': 1, 'today': 2, 'Jerry': 2, 'I': 2, 'know': 1, 'think': 1, 'it': 2, 'may': 1, 'rain': 2, 'the': 1, 'middle': 1, 'of': 1, 'summer': 1, \"shouldn't\": 1, 'That': 1, 'would': 1, 'be': 1, 'weird': 1, 'Yeah': 1, 'especially': 1, 'since': 1, \"it's\": 1, 'ninety': 1, 'degrees': 1, 'outside': 1}"
   ]
  },
  {
   "cell_type": "code",
   "execution_count": 2,
   "metadata": {
    "deletable": false,
    "nbgrader": {
     "cell_type": "code",
     "checksum": "194d6fb0d40a408de595cc2ea25896d0",
     "grade": false,
     "grade_id": "name",
     "locked": false,
     "schema_version": 3,
     "solution": true
    }
   },
   "outputs": [],
   "source": [
    "def get_dict(file_name):\n",
    "    ''' สร้าง dictionary จากไฟล์ file_name'''\n",
    "    content = \"\"\n",
    "    count = dict()\n",
    "    with open(file_name) as f:\n",
    "        content = f.readlines()\n",
    "    for line in content:\n",
    "        line = line.strip()\n",
    "        line = line.replace(\",\", \"\").replace(\"?\", \"\").replace(\".\", \"\").replace(':', \"\").replace(\"\\n\", \"\")\n",
    "        # print(line, file=sys.stderr)\n",
    "        for word in line.split(\" \"):\n",
    "            count[word] = count.get(word, 0) + 1\n",
    "    #  print(count, file=sys.stderr)\n",
    "    return count"
   ]
  },
  {
   "cell_type": "code",
   "execution_count": 3,
   "metadata": {},
   "outputs": [
    {
     "name": "stdout",
     "output_type": "stream",
     "text": [
      "ok\n"
     ]
    }
   ],
   "source": [
    "'''ตรวจสอบผลลัพธ์ของโปรแกรมด้วยการรันที่ cell นี้'''\n",
    "'''ตัวอย่าง get_dict(\"ใส่ชื่อไฟล์.txt\")'''\n",
    "get_dict(\"conversation1.txt\")\n",
    "print('ok')"
   ]
  },
  {
   "cell_type": "code",
   "execution_count": 4,
   "metadata": {
    "deletable": false,
    "editable": false,
    "nbgrader": {
     "cell_type": "code",
     "checksum": "6cc8027eee16d2f3a95fa4130e9c1a4d",
     "grade": true,
     "grade_id": "cell-6767d685a0f9e628",
     "locked": true,
     "points": 1,
     "schema_version": 3,
     "solution": false,
     "task": false
    }
   },
   "outputs": [
    {
     "name": "stdout",
     "output_type": "stream",
     "text": [
      "ok\n"
     ]
    }
   ],
   "source": [
    "'''ตรวจสอบการแสดงผลลัพธ์อย่างง่าย'''\n",
    "assert get_dict('conversation1.txt') == {'Tom': 2, 'Hi': 1, 'I': 2, 'am': 2, 'Ana': 2}\n",
    "print('ok')"
   ]
  },
  {
   "cell_type": "code",
   "execution_count": 5,
   "metadata": {
    "deletable": false,
    "editable": false,
    "nbgrader": {
     "cell_type": "code",
     "checksum": "4e38686be0d21fc4567fc8791ddd6060",
     "grade": true,
     "grade_id": "cell-b082fbfab4c14322",
     "locked": true,
     "points": 1,
     "schema_version": 3,
     "solution": false,
     "task": false
    }
   },
   "outputs": [
    {
     "name": "stdout",
     "output_type": "stream",
     "text": [
      "ok\n"
     ]
    }
   ],
   "source": [
    "'''ตรวจสอบผลการคำนวณและการแสดงผลลัพธ์ให้เหมือนกับโจทย์ที่กำหนดให้'''\n",
    "assert get_dict('conversation1.txt') == {'Tom': 2, 'Hi': 1, 'I': 2, 'am': 2, 'Ana': 2}\n",
    "assert get_dict('conversation2.txt') == {'Mr': 3, 'Bean': 3, 'Good': 2, 'morning': 2, 'Mrs': 2, 'Jones': 2, 'How': 1, 'are': 1, 'you': 1, \"I'm\": 1, 'fine': 1, 'Thanks': 1}\n",
    "print('ok')"
   ]
  },
  {
   "cell_type": "code",
   "execution_count": 6,
   "metadata": {
    "deletable": false,
    "editable": false,
    "nbgrader": {
     "cell_type": "code",
     "checksum": "33109fb01793ad19a92ea989f8433f7e",
     "grade": true,
     "grade_id": "cell-4edb7a354d38a7f0",
     "locked": true,
     "points": 1,
     "schema_version": 3,
     "solution": false,
     "task": false
    }
   },
   "outputs": [
    {
     "data": {
      "text/plain": [
       "'เทสลับ'"
      ]
     },
     "execution_count": 6,
     "metadata": {},
     "output_type": "execute_result"
    }
   ],
   "source": [
    "'''เทสลับ'''"
   ]
  }
 ],
 "metadata": {
  "BondSan": "17ddef30e60ba43bdd473a1525eaf293b549a1cac89c26287f67dcce08d40a94864d12fb84c6b15d7c81befa080d0219654ffa0da5d6c181fefe13cb51490f93b4e1ed325d1c1a158e17c129f0d38d9dd2275ba3f64dfed6dc24f62b814c7f898f90808edf3795c132ee3b3a73e0df70c37cc527be4ef4455d172bb91769d59d304a0b552f0e3243a71f7878e07101e4d309e92c252b4e50b696fd1395de49ca8bdaf43bb88c4f97499bf38382453d41cb0dd8a56025583b623592dee6aa771f68cb7389e694dbf56d5d38ed07c4527b667c89a27f145bbdf14a09e25ca44177b73a0d89fd78d7c01972da2270fbda4d61b13b071734c5a66ca19657c2ce8186",
  "kernelspec": {
   "display_name": "Python 3 (ipykernel)",
   "language": "python",
   "name": "python3"
  },
  "language_info": {
   "codemirror_mode": {
    "name": "ipython",
    "version": 3
   },
   "file_extension": ".py",
   "mimetype": "text/x-python",
   "name": "python",
   "nbconvert_exporter": "python",
   "pygments_lexer": "ipython3",
   "version": "3.12.5"
  }
 },
 "nbformat": 4,
 "nbformat_minor": 4
}
