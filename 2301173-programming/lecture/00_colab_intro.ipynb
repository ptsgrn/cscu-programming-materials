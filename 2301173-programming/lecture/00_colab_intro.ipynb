{
 "cells": [
  {
   "cell_type": "markdown",
   "metadata": {
    "colab_type": "text",
    "id": "hTwve2uq3qzr"
   },
   "source": [
    "# Tips ในการรัน Python โดยใช้ Colab"
   ]
  },
  {
   "cell_type": "markdown",
   "metadata": {
    "colab_type": "text",
    "id": "9iWRHvULHxfo"
   },
   "source": [
    "## การรัน code cell\n",
    "\n",
    "* ต้อง add ไฟล์ colab เข้าไปอยู่ใน drive ตัวเองก่อน จึงจะรันได้ \n",
    "* ภายใน code cell เดียวกัน โปรแกรมจะรันจากบนลงล่างเสมอ\n",
    "* โปรแกรมจะทำงานตามลำดับการรัน code cell แต่ละอัน ซึ่งอาจจะไม่เหมือนกับลำดับของ code ที่เขียน\n",
    "* ถ้ารัน code cell ไหน ค่าของตัวแปรหรือ code ส่วนนั้น จะเข้าไปอยู่ในหน่วยความจำชั่วคราว (RAM) \n",
    "\n",
    "<font color='orange'>ระวัง: </font> ถ้ารันแล้วได้ผลแปลกๆ ไม่เป็นไปตามที่คิด อาจจะเป็นเพราะเคยรัน code cell อื่นๆมาก่อน ทำให้ค่าที่เก็บในตัวแปรเปลี่ยนไป\n"
   ]
  },
  {
   "cell_type": "markdown",
   "metadata": {
    "colab_type": "text",
    "id": "Z5rCX38s7s4B"
   },
   "source": [
    "ลองรันคำสั่งข้างล่าง โดยกดรูป "
   ]
  },
  {
   "cell_type": "markdown",
   "metadata": {
    "colab_type": "text",
    "id": "Y3ltijABFQkU"
   },
   "source": [
    "## วิธีทำให้แต่ละ code cell ใน Colab แสดงเลขบรรทัด\n",
    "\n",
    "1. ไปที่ `Tools` > `Settings`\n",
    "2. [x] Show line numbers\n",
    "\n",
    "<font color='orange'>Note: </font> \n",
    "* เลขบรรทัดจะเริ่มต้นที่ 1 เสมอ ในแต่ละ code cell\n",
    "* เมื่อรันแต่ละ code cell แล้วเกิด error จะมีการแสดงผลเลขบรรทัด เพื่อให้ง่ายต่อการ debug ด้วย ซึ่งเลขบรรทัดนี้จะเป็นของแต่ละ code cell เท่านั้น"
   ]
  }
 ],
 "metadata": {
  "colab": {
   "authorship_tag": "ABX9TyOvBxWWQrTNAwZlUeeSE/UQ",
   "collapsed_sections": [],
   "name": "00_colab_intro.ipynb",
   "provenance": []
  },
  "kernelspec": {
   "display_name": "Python 3 (ipykernel)",
   "language": "python",
   "name": "python3"
  },
  "language_info": {
   "codemirror_mode": {
    "name": "ipython",
    "version": 3
   },
   "file_extension": ".py",
   "mimetype": "text/x-python",
   "name": "python",
   "nbconvert_exporter": "python",
   "pygments_lexer": "ipython3",
   "version": "3.11.0"
  }
 },
 "nbformat": 4,
 "nbformat_minor": 4
}
