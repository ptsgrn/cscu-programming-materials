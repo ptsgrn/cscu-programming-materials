{
 "cells": [
  {
   "cell_type": "markdown",
   "metadata": {
    "deletable": false,
    "editable": false,
    "nbgrader": {
     "cell_type": "markdown",
     "checksum": "5a7522e1ee89731af68e7edb27cd6a80",
     "grade": false,
     "grade_id": "cell-dbf37dcea5d7dc5c",
     "locked": true,
     "schema_version": 3,
     "solution": false,
     "task": false
    }
   },
   "source": [
    "## Q6\n",
    "จงเขียนโปรแกรมที่รับจำนวนเต็มบวก n แล้วหาจำนวนเต็มบวกที่หาร n ลงตัว"
   ]
  },
  {
   "cell_type": "markdown",
   "metadata": {
    "deletable": false,
    "editable": false,
    "nbgrader": {
     "cell_type": "markdown",
     "checksum": "d11757c2c71920dbcabbb162abdb7977",
     "grade": false,
     "grade_id": "cell-7ae57c7b0fc2869d",
     "locked": true,
     "schema_version": 3,
     "solution": false,
     "task": false
    }
   },
   "source": [
    "### ตัวอย่างการทำงาน: \n",
    "\n",
    "Enter an integer : **1** <br>\n",
    "1 is divisible by:<br>\n",
    "1<br>"
   ]
  },
  {
   "cell_type": "markdown",
   "metadata": {
    "deletable": false,
    "editable": false,
    "nbgrader": {
     "cell_type": "markdown",
     "checksum": "308043a61b54475ae01770ab85acbe03",
     "grade": false,
     "grade_id": "cell-89fa11d51cba8b35",
     "locked": true,
     "schema_version": 3,
     "solution": false,
     "task": false
    }
   },
   "source": [
    "### ตัวอย่างการทำงาน: \n",
    "\n",
    "Enter an integer : **12** <br>\n",
    "12 is divisible by: <br>\n",
    "1 <br>\n",
    "2 <br>\n",
    "3 <br>\n",
    "4 <br>\n",
    "6 <br>\n",
    "12 <br>"
   ]
  },
  {
   "cell_type": "markdown",
   "metadata": {
    "deletable": false,
    "editable": false,
    "nbgrader": {
     "cell_type": "markdown",
     "checksum": "56ee541deed15f190ce45ee75e768ee7",
     "grade": false,
     "grade_id": "cell-8d6f849a001e7146",
     "locked": true,
     "schema_version": 3,
     "solution": false,
     "task": false
    }
   },
   "source": [
    "### ตัวอย่างการทำงาน:\n",
    "\n",
    "Enter an integer : **65** <br>\n",
    "65 is divisible by: <br>\n",
    "1 <br>\n",
    "5 <br>\n",
    "13 <br>\n",
    "65 <br>"
   ]
  },
  {
   "cell_type": "markdown",
   "metadata": {
    "deletable": false,
    "editable": false,
    "nbgrader": {
     "cell_type": "markdown",
     "checksum": "9ab0cf1971d8b385dcdcba77918bcf3b",
     "grade": false,
     "grade_id": "cell-1b10c564484fa711",
     "locked": true,
     "schema_version": 3,
     "solution": false,
     "task": false
    }
   },
   "source": [
    "### ตัวอย่างการทำงาน: \n",
    "\n",
    "Enter an integer : **211** <br>\n",
    "211 is divisible by: <br>\n",
    "1 <br>\n",
    "211 <br>"
   ]
  },
  {
   "cell_type": "code",
   "execution_count": 25,
   "metadata": {
    "deletable": false,
    "nbgrader": {
     "cell_type": "code",
     "checksum": "f0fd23efd767673f9d334b17f22e1987",
     "grade": false,
     "grade_id": "division",
     "locked": false,
     "schema_version": 3,
     "solution": true
    }
   },
   "outputs": [],
   "source": [
    "def run():\n",
    "    integer = int(input(\"Enter an integer :\"))\n",
    "    print(f\"{integer} is divisible by:\")\n",
    "    for i in range(1, int(integer/2)+1):\n",
    "        if integer % i == 0:\n",
    "            print(i)\n",
    "    print(integer)"
   ]
  },
  {
   "cell_type": "code",
   "execution_count": 21,
   "metadata": {
    "deletable": false,
    "editable": false,
    "nbgrader": {
     "cell_type": "code",
     "checksum": "b7b03893ed0aaf1a2af60ae612b4be37",
     "grade": false,
     "grade_id": "cell-befa13e6c82bd29b",
     "locked": true,
     "schema_version": 3,
     "solution": false,
     "task": false
    }
   },
   "outputs": [
    {
     "name": "stdout",
     "output_type": "stream",
     "text": [
      "Enter an integer :211\n",
      "211 is divisible by\n",
      "1\n",
      "211\n"
     ]
    }
   ],
   "source": [
    "'''ตรวจสอบผลลัพธ์ของโปรแกรมด้วยการรันที่ cell นี้'''\n",
    "run()"
   ]
  },
  {
   "cell_type": "code",
   "execution_count": 26,
   "metadata": {
    "deletable": false,
    "editable": false,
    "nbgrader": {
     "cell_type": "code",
     "checksum": "51309daa496029406f58e0ffe1d6e21d",
     "grade": false,
     "grade_id": "partial",
     "locked": true,
     "schema_version": 3,
     "solution": false,
     "task": false
    }
   },
   "outputs": [],
   "source": [
    "'''ตรวจสอบผลการคำนวณ'''\n",
    "from unittest.mock import patch\n",
    "from io import StringIO\n",
    "\n",
    "def test(inputs,expected_output): \n",
    "    with patch('builtins.input', side_effect=inputs), patch('sys.stdout', new_callable=StringIO) as mock_stdout:\n",
    "        run()\n",
    "        assert mock_stdout.getvalue() == expected_output,mock_stdout.getvalue()\n",
    "def test_easy_print(inputs,expected_output):\n",
    "    with patch('builtins.input', side_effect=inputs), patch('sys.stdout', new_callable=StringIO) as mock_stdout:\n",
    "        run()\n",
    "        assert expected_output in mock_stdout.getvalue(), mock_stdout.getvalue()"
   ]
  },
  {
   "cell_type": "code",
   "execution_count": 27,
   "metadata": {
    "deletable": false,
    "editable": false,
    "nbgrader": {
     "cell_type": "code",
     "checksum": "55786ffe103751d76ad1f3a1e54de250",
     "grade": true,
     "grade_id": "easy_print",
     "locked": true,
     "points": 1,
     "schema_version": 3,
     "solution": false,
     "task": false
    }
   },
   "outputs": [
    {
     "name": "stdout",
     "output_type": "stream",
     "text": [
      "ok\n"
     ]
    }
   ],
   "source": [
    "'''ตรวจสอบการแสดงผลลัพธ์อย่างง่าย'''\n",
    "test_easy_print(inputs=['12'],expected_output='12')\n",
    "print('ok')"
   ]
  },
  {
   "cell_type": "code",
   "execution_count": 28,
   "metadata": {
    "deletable": false,
    "editable": false,
    "nbgrader": {
     "cell_type": "code",
     "checksum": "734180ce4d25688289ee86bc004b53e5",
     "grade": true,
     "grade_id": "exact",
     "locked": false,
     "points": 1,
     "schema_version": 3,
     "solution": false
    }
   },
   "outputs": [
    {
     "name": "stdout",
     "output_type": "stream",
     "text": [
      "ok\n"
     ]
    }
   ],
   "source": [
    "'''ตรวจสอบผลการคำนวณและการแสดงผลลัพธ์ให้เหมือนกับโจทย์ที่กำหนดให้'''\n",
    "'''Even numbers'''\n",
    "test(['12'],'12 is divisible by:\\n1\\n2\\n3\\n4\\n6\\n12\\n') \n",
    "test(['128'],'128 is divisible by:\\n1\\n2\\n4\\n8\\n16\\n32\\n64\\n128\\n') \n",
    "test(['1024'],'1024 is divisible by:\\n1\\n2\\n4\\n8\\n16\\n32\\n64\\n128\\n256\\n512\\n1024\\n')\n",
    "print('ok')"
   ]
  },
  {
   "cell_type": "code",
   "execution_count": 29,
   "metadata": {
    "deletable": false,
    "editable": false,
    "nbgrader": {
     "cell_type": "code",
     "checksum": "9446d359b090273297300ca4ff4f1b01",
     "grade": true,
     "grade_id": "cell-a07ef84aa3313800",
     "locked": true,
     "points": 1,
     "schema_version": 3,
     "solution": false,
     "task": false
    }
   },
   "outputs": [
    {
     "name": "stdout",
     "output_type": "stream",
     "text": [
      "ok\n"
     ]
    }
   ],
   "source": [
    "'''ตรวจสอบผลการคำนวณและการแสดงผลลัพธ์ให้เหมือนกับโจทย์ที่กำหนดให้'''\n",
    "'''Odd numbers'''\n",
    "test(['1'],'1 is divisible by:\\n1\\n') \n",
    "test(['65'],'65 is divisible by:\\n1\\n5\\n13\\n65\\n') \n",
    "test(['111'],'111 is divisible by:\\n1\\n3\\n37\\n111\\n') \n",
    "test(['1537'],'1537 is divisible by:\\n1\\n29\\n53\\n1537\\n')\n",
    "print('ok')"
   ]
  },
  {
   "cell_type": "code",
   "execution_count": 30,
   "metadata": {
    "deletable": false,
    "editable": false,
    "nbgrader": {
     "cell_type": "code",
     "checksum": "b5fbdc1b28a93edcdba82dde9f6c1283",
     "grade": true,
     "grade_id": "cell-ad91ccd55eeb0c2f",
     "locked": true,
     "points": 1,
     "schema_version": 3,
     "solution": false,
     "task": false
    }
   },
   "outputs": [
    {
     "name": "stdout",
     "output_type": "stream",
     "text": [
      "ok\n"
     ]
    }
   ],
   "source": [
    "'''ตรวจสอบผลการคำนวณและการแสดงผลลัพธ์ให้เหมือนกับโจทย์ที่กำหนดให้'''\n",
    "'''Prime numbers'''\n",
    "test(['211'],'211 is divisible by:\\n1\\n211\\n')\n",
    "test(['557'],'557 is divisible by:\\n1\\n557\\n')\n",
    "test(['941'],'941 is divisible by:\\n1\\n941\\n')\n",
    "print('ok')"
   ]
  },
  {
   "cell_type": "code",
   "execution_count": 31,
   "metadata": {
    "deletable": false,
    "editable": false,
    "nbgrader": {
     "cell_type": "code",
     "checksum": "4b05315c64ace9957e0d78a5912eb67a",
     "grade": true,
     "grade_id": "cell-9d4df4635fcf41eb",
     "locked": true,
     "points": 1,
     "schema_version": 3,
     "solution": false,
     "task": false
    }
   },
   "outputs": [
    {
     "data": {
      "text/plain": [
       "'เทสลับ1'"
      ]
     },
     "execution_count": 31,
     "metadata": {},
     "output_type": "execute_result"
    }
   ],
   "source": [
    "'''เทสลับ1'''"
   ]
  },
  {
   "cell_type": "code",
   "execution_count": 32,
   "metadata": {
    "deletable": false,
    "editable": false,
    "nbgrader": {
     "cell_type": "code",
     "checksum": "08da9b345d6f8534b8d9d7939417d813",
     "grade": true,
     "grade_id": "cell-784709ae573dbae8",
     "locked": true,
     "points": 1,
     "schema_version": 3,
     "solution": false,
     "task": false
    }
   },
   "outputs": [
    {
     "data": {
      "text/plain": [
       "'เทสลับ2'"
      ]
     },
     "execution_count": 32,
     "metadata": {},
     "output_type": "execute_result"
    }
   ],
   "source": [
    "'''เทสลับ2'''"
   ]
  },
  {
   "cell_type": "code",
   "execution_count": 33,
   "metadata": {
    "deletable": false,
    "editable": false,
    "nbgrader": {
     "cell_type": "code",
     "checksum": "ae862c46c8ff5f27c7d87a3e6583905f",
     "grade": true,
     "grade_id": "cell-bd8e9007a73b2408",
     "locked": true,
     "points": 1,
     "schema_version": 3,
     "solution": false,
     "task": false
    }
   },
   "outputs": [
    {
     "data": {
      "text/plain": [
       "'เทสลับ3'"
      ]
     },
     "execution_count": 33,
     "metadata": {},
     "output_type": "execute_result"
    }
   ],
   "source": [
    "'''เทสลับ3'''"
   ]
  },
  {
   "cell_type": "code",
   "execution_count": null,
   "metadata": {},
   "outputs": [],
   "source": []
  }
 ],
 "metadata": {
  "BondSan": "2511611c32d3cb6422693d7cde7c0cfb57f8c9557984ecb6feb9bfb6383ea06a685084fa2be57e02da2f07e09b6728e45afb01157a4acd720d5573e5630c440c03ee47a7b3402648d8f347987629ab3d7e7accdccdfcbca41d914c96125df5887437a35cacd872a487020199e728de3b5866e097af62b5382b0e435498f5356a266d58424275ecbf698235fe71421737b4c4536c7356b8af0767822275cc5c1e95b1bb2d316f85d2daf24386891aa0dcd3b593cf71083b49806dadfdcd41f38f34675d69d6e9236b5d79346facc5f005a67f8b4ed9536337e884b0149af444884fce4a708458a788aae053fa78375d9f3f2f7e5d1dbe25463b047d417cf31a43",
  "kernelspec": {
   "display_name": "Python 3 (ipykernel)",
   "language": "python",
   "name": "python3"
  },
  "language_info": {
   "codemirror_mode": {
    "name": "ipython",
    "version": 3
   },
   "file_extension": ".py",
   "mimetype": "text/x-python",
   "name": "python",
   "nbconvert_exporter": "python",
   "pygments_lexer": "ipython3",
   "version": "3.9.12"
  }
 },
 "nbformat": 4,
 "nbformat_minor": 4
}
