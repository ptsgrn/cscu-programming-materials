{
 "cells": [
  {
   "cell_type": "markdown",
   "metadata": {
    "deletable": false,
    "editable": false,
    "nbgrader": {
     "cell_type": "markdown",
     "checksum": "56c662679762bcb87eb3f39435617ae2",
     "grade": false,
     "grade_id": "cell-dbf37dcea5d7dc5c",
     "locked": true,
     "schema_version": 3,
     "solution": false,
     "task": false
    }
   },
   "source": [
    "## Q3\n",
    "จงเขียนโปรแกรมที่รับจำนวนนักเรียนที่เข้าสอบ แล้ววนรับคะแนนของนักเรียนที่เข้าสอบให้ครบและจงหาผลรวมคะแนน "
   ]
  },
  {
   "cell_type": "markdown",
   "metadata": {
    "deletable": false,
    "editable": false,
    "nbgrader": {
     "cell_type": "markdown",
     "checksum": "c10e4e70be4403fc465ba4a008db77ee",
     "grade": false,
     "grade_id": "cell-679ab39eeac1b48a",
     "locked": true,
     "schema_version": 3,
     "solution": false,
     "task": false
    }
   },
   "source": [
    "### ตัวอย่างการทำงาน: \n",
    "\n",
    "Number of students : **3** <br>\n",
    "Student 1 : **10** <br>\n",
    "Student 2 : **6.5** <br>\n",
    "Student 3 : **0** <br>\n",
    "Total score : 16.5 <br>"
   ]
  },
  {
   "cell_type": "markdown",
   "metadata": {
    "deletable": false,
    "editable": false,
    "nbgrader": {
     "cell_type": "markdown",
     "checksum": "d2c17929478d06bc9e4dafbf4ddb42ed",
     "grade": false,
     "grade_id": "cell-7ae57c7b0fc2869d",
     "locked": true,
     "schema_version": 3,
     "solution": false,
     "task": false
    }
   },
   "source": [
    "### ตัวอย่างการทำงาน: \n",
    "\n",
    "Number of students : **5** <br>\n",
    "Student 1 : **10** <br>\n",
    "Student 2 : **6.5** <br>\n",
    "Student 3 : **0** <br>\n",
    "Student 4 : **9** <br>\n",
    "Student 5 : **8.25** <br>\n",
    "Total score : 33.75 <br>"
   ]
  },
  {
   "cell_type": "markdown",
   "metadata": {
    "deletable": false,
    "editable": false,
    "nbgrader": {
     "cell_type": "markdown",
     "checksum": "03f3365ebdec700fdd416950df36d874",
     "grade": false,
     "grade_id": "cell-400409b302bb64e5",
     "locked": true,
     "schema_version": 3,
     "solution": false,
     "task": false
    }
   },
   "source": [
    "### ตัวอย่างการทำงาน: \n",
    "\n",
    "Number of students : **7** <br>\n",
    "Student 1 : **10** <br>\n",
    "Student 2 : **6.5** <br>\n",
    "Student 3 : **0** <br>\n",
    "Student 4 : **9** <br>\n",
    "Student 5 : **8.25** <br>\n",
    "Student 6 : **9.50** <br>\n",
    "Student 7 : **7.25** <br>\n",
    "Total score : 50.5 <br>"
   ]
  },
  {
   "cell_type": "markdown",
   "metadata": {
    "deletable": false,
    "editable": false,
    "nbgrader": {
     "cell_type": "markdown",
     "checksum": "c0bc437338c085a58eeb115367c44a0b",
     "grade": false,
     "grade_id": "cell-11943afdf702650c",
     "locked": true,
     "schema_version": 3,
     "solution": false,
     "task": false
    }
   },
   "source": [
    "### ตัวอย่างการทำงาน: \n",
    "\n",
    "Number of students : **-1** <br>\n",
    "Incorrect Input. Number of students : **7** <br>\n",
    "Student 1 : **10** <br>\n",
    "Student 2 : **6.5** <br>\n",
    "Student 3 : **0** <br>\n",
    "Student 4 : **9** <br>\n",
    "Student 5 : **8.25** <br>\n",
    "Student 6 : **9.50** <br>\n",
    "Student 7 : **7.25** <br>\n",
    "Total score : 50.5 <br>"
   ]
  },
  {
   "cell_type": "code",
   "execution_count": 58,
   "metadata": {
    "deletable": false,
    "nbgrader": {
     "cell_type": "code",
     "checksum": "b200d6e6b1dcb53db9c7782614ea5d49",
     "grade": false,
     "grade_id": "name",
     "locked": false,
     "schema_version": 3,
     "solution": true
    }
   },
   "outputs": [],
   "source": [
    "def run():\n",
    "    n_of_student = input(\"Number of students : \")\n",
    "    while True:\n",
    "        if int(n_of_student) < 0:\n",
    "            n_of_student = input(\"Incorrect Input. Number of students : \")\n",
    "            continue\n",
    "        break\n",
    "    sum_scores = 0\n",
    "    for i in range(int(n_of_student)):\n",
    "        sum_scores += float(input(f\"Student {i} : \"))\n",
    "    print(f\"Total score : {float(sum_scores)}\")"
   ]
  },
  {
   "cell_type": "code",
   "execution_count": 28,
   "metadata": {
    "deletable": false,
    "editable": false,
    "nbgrader": {
     "cell_type": "code",
     "checksum": "b7b03893ed0aaf1a2af60ae612b4be37",
     "grade": false,
     "grade_id": "cell-befa13e6c82bd29b",
     "locked": true,
     "schema_version": 3,
     "solution": false,
     "task": false
    }
   },
   "outputs": [
    {
     "name": "stdout",
     "output_type": "stream",
     "text": [
      "Number of students : -5\n",
      "Incorrect Input. Number of students : -7\n",
      "Total score : 0\n"
     ]
    }
   ],
   "source": [
    "'''ตรวจสอบผลลัพธ์ของโปรแกรมด้วยการรันที่ cell นี้'''\n",
    "run()"
   ]
  },
  {
   "cell_type": "code",
   "execution_count": 59,
   "metadata": {
    "deletable": false,
    "editable": false,
    "nbgrader": {
     "cell_type": "code",
     "checksum": "51309daa496029406f58e0ffe1d6e21d",
     "grade": false,
     "grade_id": "partial",
     "locked": true,
     "schema_version": 3,
     "solution": false,
     "task": false
    }
   },
   "outputs": [],
   "source": [
    "'''ตรวจสอบผลการคำนวณ'''\n",
    "from unittest.mock import patch\n",
    "from io import StringIO\n",
    "\n",
    "def test(inputs,expected_output): \n",
    "    with patch('builtins.input', side_effect=inputs), patch('sys.stdout', new_callable=StringIO) as mock_stdout:\n",
    "        run()\n",
    "        assert mock_stdout.getvalue() == expected_output,mock_stdout.getvalue()\n",
    "def test_easy_print(inputs,expected_output):\n",
    "    with patch('builtins.input', side_effect=inputs), patch('sys.stdout', new_callable=StringIO) as mock_stdout:\n",
    "        run()\n",
    "        assert expected_output in mock_stdout.getvalue(), mock_stdout.getvalue()"
   ]
  },
  {
   "cell_type": "code",
   "execution_count": 60,
   "metadata": {
    "deletable": false,
    "editable": false,
    "nbgrader": {
     "cell_type": "code",
     "checksum": "96b419263cbddb1a2297eb4b59e7e6bd",
     "grade": true,
     "grade_id": "easy_print",
     "locked": true,
     "points": 1,
     "schema_version": 3,
     "solution": false,
     "task": false
    }
   },
   "outputs": [
    {
     "name": "stdout",
     "output_type": "stream",
     "text": [
      "ok\n"
     ]
    }
   ],
   "source": [
    "'''ตรวจสอบการแสดงผลลัพธ์อย่างง่าย'''\n",
    "test_easy_print(inputs=['3','10','6.5','0'],expected_output='Total')\n",
    "print('ok')"
   ]
  },
  {
   "cell_type": "code",
   "execution_count": 61,
   "metadata": {
    "deletable": false,
    "editable": false,
    "nbgrader": {
     "cell_type": "code",
     "checksum": "2d0eb88f8956a1125a0c490a66a0fdf6",
     "grade": true,
     "grade_id": "cell-5646d4ae088951fe",
     "locked": true,
     "points": 1,
     "schema_version": 3,
     "solution": false,
     "task": false
    }
   },
   "outputs": [
    {
     "name": "stdout",
     "output_type": "stream",
     "text": [
      "ok\n"
     ]
    }
   ],
   "source": [
    "'''ตรวจสอบผลการคำนวณและการแสดงผลลัพธ์ให้เหมือนกับโจทย์ที่กำหนดให้'''\n",
    "'''Number of students is 3'''\n",
    "test(['3','10','6.5','0'],'Total score : 16.5\\n') \n",
    "test(['3','7','4','9'],'Total score : 20.0\\n') \n",
    "test(['3','6','5.5','9.8'],'Total score : 21.3\\n') \n",
    "test(['3','1.5','4.5','6.5'],'Total score : 12.5\\n')\n",
    "print('ok')"
   ]
  },
  {
   "cell_type": "code",
   "execution_count": 62,
   "metadata": {
    "deletable": false,
    "editable": false,
    "nbgrader": {
     "cell_type": "code",
     "checksum": "cde616f7f40c4c2b3cb92372a9714d90",
     "grade": true,
     "grade_id": "exact",
     "locked": false,
     "points": 1,
     "schema_version": 3,
     "solution": false
    }
   },
   "outputs": [
    {
     "name": "stdout",
     "output_type": "stream",
     "text": [
      "ok\n"
     ]
    }
   ],
   "source": [
    "'''ตรวจสอบผลการคำนวณและการแสดงผลลัพธ์ให้เหมือนกับโจทย์ที่กำหนดให้'''\n",
    "'''Number of students is 5'''\n",
    "test(['5','10','6.5','0','9','8.25'],'Total score : 33.75\\n') \n",
    "test(['5','6','8','9','4','10'],'Total score : 37.0\\n') \n",
    "test(['5','4.25','6.25','1.25','8.75','9.25'],'Total score : 29.75\\n') \n",
    "test(['5','4.25','1','0','8.75','9.25'],'Total score : 23.25\\n')\n",
    "print('ok')"
   ]
  },
  {
   "cell_type": "code",
   "execution_count": 63,
   "metadata": {
    "deletable": false,
    "editable": false,
    "nbgrader": {
     "cell_type": "code",
     "checksum": "e69613ff02065d3c1623a99190f8c7b6",
     "grade": true,
     "grade_id": "cell-cbc47179f27fefee",
     "locked": true,
     "points": 1,
     "schema_version": 3,
     "solution": false,
     "task": false
    }
   },
   "outputs": [
    {
     "name": "stdout",
     "output_type": "stream",
     "text": [
      "ok\n"
     ]
    }
   ],
   "source": [
    "'''ตรวจสอบผลการคำนวณและการแสดงผลลัพธ์ให้เหมือนกับโจทย์ที่กำหนดให้'''\n",
    "'''Number of students is 7'''\n",
    "test(['7','10','6.5','0','9','8.25','9.50','7.25'],'Total score : 50.5\\n') \n",
    "test(['7','4.25','6.25','1.25','8.75','9.25','7.25','9.75'],'Total score : 46.75\\n') \n",
    "test(['7','6','8','9','4','10','3','4'],'Total score : 44.0\\n')\n",
    "print('ok')"
   ]
  },
  {
   "cell_type": "code",
   "execution_count": 64,
   "metadata": {
    "deletable": false,
    "editable": false,
    "nbgrader": {
     "cell_type": "code",
     "checksum": "f11b8438525c843eac2f3ae41ff361fb",
     "grade": true,
     "grade_id": "cell-4234104d92125bb2",
     "locked": true,
     "points": 1,
     "schema_version": 3,
     "solution": false,
     "task": false
    },
    "scrolled": true
   },
   "outputs": [
    {
     "name": "stdout",
     "output_type": "stream",
     "text": [
      "ok\n"
     ]
    }
   ],
   "source": [
    "'''ตรวจสอบเคส inputs ติด ลบ'''\n",
    "test(['-1','-5','7','10','6.5','0','9','8.25','9.50','7.25'],'Total score : 50.5\\n') \n",
    "test(['-5','7','10','6.5','0','9','8.25','9.50','7.25'],'Total score : 50.5\\n')\n",
    "print('ok')"
   ]
  },
  {
   "cell_type": "code",
   "execution_count": 65,
   "metadata": {
    "deletable": false,
    "editable": false,
    "nbgrader": {
     "cell_type": "code",
     "checksum": "c27fd0afb91f2034883ddf73bb0c7495",
     "grade": true,
     "grade_id": "cell-29679434cc1cbadb",
     "locked": true,
     "points": 1,
     "schema_version": 3,
     "solution": false,
     "task": false
    }
   },
   "outputs": [
    {
     "name": "stdout",
     "output_type": "stream",
     "text": [
      "ok\n"
     ]
    }
   ],
   "source": [
    "'''ตรวจสอบผลการคำนวณและการแสดงผลลัพธ์ให้เหมือนกับโจทย์ที่กำหนดให้'''\n",
    "test(['0'],'Total score : 0.0\\n')\n",
    "print('ok')"
   ]
  },
  {
   "cell_type": "code",
   "execution_count": 66,
   "metadata": {
    "deletable": false,
    "editable": false,
    "nbgrader": {
     "cell_type": "code",
     "checksum": "65f33f3fde8366e00422d4b7e3e4ce7f",
     "grade": true,
     "grade_id": "cell-678d6ebfaee60c9c",
     "locked": true,
     "points": 1,
     "schema_version": 3,
     "solution": false,
     "task": false
    }
   },
   "outputs": [
    {
     "data": {
      "text/plain": [
       "'เทสลับ1'"
      ]
     },
     "execution_count": 66,
     "metadata": {},
     "output_type": "execute_result"
    }
   ],
   "source": [
    "'''เทสลับ1'''"
   ]
  },
  {
   "cell_type": "code",
   "execution_count": 67,
   "metadata": {
    "deletable": false,
    "editable": false,
    "nbgrader": {
     "cell_type": "code",
     "checksum": "fed89010479faf253e9f404a7ab221c5",
     "grade": true,
     "grade_id": "cell-85ccfc267c2dbfc3",
     "locked": true,
     "points": 1,
     "schema_version": 3,
     "solution": false,
     "task": false
    }
   },
   "outputs": [
    {
     "data": {
      "text/plain": [
       "'เทสลับ2'"
      ]
     },
     "execution_count": 67,
     "metadata": {},
     "output_type": "execute_result"
    }
   ],
   "source": [
    "'''เทสลับ2'''"
   ]
  },
  {
   "cell_type": "code",
   "execution_count": 68,
   "metadata": {
    "deletable": false,
    "editable": false,
    "nbgrader": {
     "cell_type": "code",
     "checksum": "ffee32d0badbfc676d45a4c0f2e9fe5c",
     "grade": true,
     "grade_id": "cell-198cdca4fbca7f77",
     "locked": true,
     "points": 1,
     "schema_version": 3,
     "solution": false,
     "task": false
    }
   },
   "outputs": [
    {
     "data": {
      "text/plain": [
       "'เทสลับ3'"
      ]
     },
     "execution_count": 68,
     "metadata": {},
     "output_type": "execute_result"
    }
   ],
   "source": [
    "'''เทสลับ3'''"
   ]
  },
  {
   "cell_type": "code",
   "execution_count": 69,
   "metadata": {
    "deletable": false,
    "editable": false,
    "nbgrader": {
     "cell_type": "code",
     "checksum": "9506b62316e537502daeafce9a5f3058",
     "grade": true,
     "grade_id": "cell-dfe86e035b29211b",
     "locked": true,
     "points": 1,
     "schema_version": 3,
     "solution": false,
     "task": false
    }
   },
   "outputs": [
    {
     "data": {
      "text/plain": [
       "'เทสลับ4'"
      ]
     },
     "execution_count": 69,
     "metadata": {},
     "output_type": "execute_result"
    }
   ],
   "source": [
    "'''เทสลับ4'''"
   ]
  },
  {
   "cell_type": "code",
   "execution_count": 70,
   "metadata": {
    "deletable": false,
    "editable": false,
    "nbgrader": {
     "cell_type": "code",
     "checksum": "acc30735b5ae5f0bf3e7636dcf93bc79",
     "grade": true,
     "grade_id": "cell-714b60293955bf54",
     "locked": true,
     "points": 1,
     "schema_version": 3,
     "solution": false,
     "task": false
    }
   },
   "outputs": [
    {
     "data": {
      "text/plain": [
       "'เทสลับ5'"
      ]
     },
     "execution_count": 70,
     "metadata": {},
     "output_type": "execute_result"
    }
   ],
   "source": [
    "'''เทสลับ5'''"
   ]
  },
  {
   "cell_type": "code",
   "execution_count": null,
   "metadata": {},
   "outputs": [],
   "source": []
  }
 ],
 "metadata": {
  "BondSan": "3c9bbf96e6350869b547d0590886e02fe25466d3b25e8ba8a9160b0712b195737061f86844f9c7ee4138acc16e21b284643287ecee1dbb209a11ecd25852126c6e6efb84d8ae3d9c079a6fcef8aab5e8a705f0212f97039e10c8bd156b5e25df0e7a76a2226d19536746ae4d0a5e5d1cfd6c529c9f5c2335cab95439cb33e9c6d4326830c35dd5dfa0bc9d8e5bd605ade0bebb2041f65407664aec44f9f0df599203b1d6d303ae64250f7b84984020d808a4ec2d0449c12908ec9b63294504f6997ee063fa6f23a6c52ded47634a7a036572cb375f1032541ee6978ed430d2893e74baf24c184a6fcadf2f8dc68d05e574df8937a3d1299ad084df7c50f4f678",
  "kernelspec": {
   "display_name": "Python 3 (ipykernel)",
   "language": "python",
   "name": "python3"
  },
  "language_info": {
   "codemirror_mode": {
    "name": "ipython",
    "version": 3
   },
   "file_extension": ".py",
   "mimetype": "text/x-python",
   "name": "python",
   "nbconvert_exporter": "python",
   "pygments_lexer": "ipython3",
   "version": "3.9.12"
  }
 },
 "nbformat": 4,
 "nbformat_minor": 4
}
