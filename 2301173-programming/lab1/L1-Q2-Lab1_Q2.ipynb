{
 "cells": [
  {
   "cell_type": "markdown",
   "metadata": {
    "deletable": false,
    "editable": false,
    "nbgrader": {
     "cell_type": "markdown",
     "checksum": "10e48e6128270246e9c518db180e8293",
     "grade": false,
     "grade_id": "cell-398406881230365d",
     "locked": true,
     "schema_version": 3,
     "solution": false,
     "task": false
    }
   },
   "source": [
    "---\n",
    "## Q2\n",
    "จงเขียนโปรแกรมที่รับชื่อและนามสกุลจากผู้ใช้ แล้วนำมาสร้างเป็นสตริงใหม่ 2 สตริง โดย\n",
    "\n",
    "- สตริงหนึ่งเป็นชื่อต่อด้วยนามสกุลและมีช่องว่าง (blank) คั่นกลาง\n",
    "\n",
    "- อีกสตริงหนึ่งเป็นนามสกุลต่อด้วยชื่อและมี , ต่อด้วยช่องว่างคั่นกลาง\n",
    "\n",
    "แล้วแสดงผลลัพธ์ดังตัวอย่างข้างล่างนี้"
   ]
  },
  {
   "cell_type": "markdown",
   "metadata": {
    "deletable": false,
    "editable": false,
    "nbgrader": {
     "cell_type": "markdown",
     "checksum": "5dcff80624490d9b12a937c45e88802e",
     "grade": false,
     "grade_id": "cell-f3a439bffd08ac59",
     "locked": true,
     "schema_version": 3,
     "solution": false,
     "task": false
    }
   },
   "source": [
    "### ตัวอย่างการทำงาน: \n",
    "\n",
    "Firstname Lastname: Somsak Saksri <br>\n",
    "Hello! Somsak Saksri<br>\n",
    "Saksri, Somsak "
   ]
  },
  {
   "cell_type": "markdown",
   "metadata": {
    "deletable": false,
    "editable": false,
    "nbgrader": {
     "cell_type": "markdown",
     "checksum": "296140f45e78f01f032144d0873b3ed2",
     "grade": false,
     "grade_id": "cell-a363ae6b283726a7",
     "locked": true,
     "schema_version": 3,
     "solution": false,
     "task": false
    }
   },
   "source": [
    "### ตัวอย่างการทำงาน: \n",
    "\n",
    "Firstname Lastname: Jackson Wang <br>\n",
    "Hello! Jackson Wang <br>\n",
    "Wang, Jackson <br>"
   ]
  },
  {
   "cell_type": "code",
   "execution_count": 1,
   "metadata": {
    "deletable": false,
    "nbgrader": {
     "cell_type": "code",
     "checksum": "b200d6e6b1dcb53db9c7782614ea5d49",
     "grade": false,
     "grade_id": "name",
     "locked": false,
     "schema_version": 3,
     "solution": true
    }
   },
   "outputs": [],
   "source": [
    "def run():\n",
    "    firstname, lastname = input(\"Firstname Lastname:\").split(\" \")\n",
    "    print(f\"Hello! {firstname} {lastname}\")\n",
    "    print(f\"{lastname}, {firstname}\")"
   ]
  },
  {
   "cell_type": "code",
   "execution_count": 2,
   "metadata": {
    "deletable": false,
    "editable": false,
    "nbgrader": {
     "cell_type": "code",
     "checksum": "eb07e4767c226d16cef7b306c89d0752",
     "grade": false,
     "grade_id": "cell-2cee644d5334cd2e",
     "locked": true,
     "schema_version": 3,
     "solution": false,
     "task": false
    }
   },
   "outputs": [
    {
     "data": {
      "text/plain": [
       "'ตรวจสอบผลลัพธ์ของโปรแกรมด้วยการรันที่ cell นี้'"
      ]
     },
     "execution_count": 2,
     "metadata": {},
     "output_type": "execute_result"
    }
   ],
   "source": [
    "'''ตรวจสอบผลลัพธ์ของโปรแกรมด้วยการรันที่ cell นี้'''\n",
    "# run()"
   ]
  },
  {
   "cell_type": "code",
   "execution_count": 3,
   "metadata": {
    "deletable": false,
    "editable": false,
    "nbgrader": {
     "cell_type": "code",
     "checksum": "b3196a58c149c8f0fa47bc9361b1a9f4",
     "grade": false,
     "grade_id": "correct_name",
     "locked": true,
     "schema_version": 3,
     "solution": false,
     "task": false
    }
   },
   "outputs": [],
   "source": [
    "'''ตรวจสอบคำสั่ง print และผลลัพธ์'''\n",
    "from unittest.mock import patch\n",
    "from io import StringIO\n",
    "\n",
    "def test(inputs,expected_output): \n",
    "    with patch('builtins.input', side_effect=inputs), patch('sys.stdout', new_callable=StringIO) as mock_stdout:\n",
    "        run()\n",
    "        assert mock_stdout.getvalue() == expected_output,mock_stdout.getvalue()\n",
    "def test_easy_print(inputs,expected_output):\n",
    "    with patch('builtins.input', side_effect=inputs), patch('sys.stdout', new_callable=StringIO) as mock_stdout:\n",
    "        run()\n",
    "        assert expected_output in mock_stdout.getvalue(), mock_stdout.getvalue()"
   ]
  },
  {
   "cell_type": "code",
   "execution_count": 4,
   "metadata": {
    "deletable": false,
    "editable": false,
    "nbgrader": {
     "cell_type": "code",
     "checksum": "61f12f715bc9e9bdd17ec7bead41eb24",
     "grade": true,
     "grade_id": "easy_print",
     "locked": true,
     "points": 1,
     "schema_version": 3,
     "solution": false,
     "task": false
    }
   },
   "outputs": [
    {
     "name": "stdout",
     "output_type": "stream",
     "text": [
      "ok\n"
     ]
    }
   ],
   "source": [
    "'''ตรวจสอบการแสดงผลลัพธ์อย่างง่าย'''\n",
    "test_easy_print(inputs=['Somsak Saksri'],expected_output='Hello')\n",
    "print('ok')"
   ]
  },
  {
   "cell_type": "code",
   "execution_count": 5,
   "metadata": {
    "deletable": false,
    "editable": false,
    "nbgrader": {
     "cell_type": "code",
     "checksum": "1e8f7ddc8628592561d7bf1a6e91ae06",
     "grade": true,
     "grade_id": "test1",
     "locked": true,
     "points": 1,
     "schema_version": 3,
     "solution": false,
     "task": false
    }
   },
   "outputs": [
    {
     "name": "stdout",
     "output_type": "stream",
     "text": [
      "ok\n"
     ]
    }
   ],
   "source": [
    "test(['Somsak Saksri'],'Hello! Somsak Saksri\\nSaksri, Somsak\\n')\n",
    "test(['Jackson Wang'],'Hello! Jackson Wang\\nWang, Jackson\\n')\n",
    "print('ok')"
   ]
  },
  {
   "cell_type": "code",
   "execution_count": 6,
   "metadata": {
    "deletable": false,
    "editable": false,
    "nbgrader": {
     "cell_type": "code",
     "checksum": "4eb7734e6d7ab9665fe726b05bfac4ee",
     "grade": true,
     "grade_id": "hidden_test",
     "locked": true,
     "points": 1,
     "schema_version": 3,
     "solution": false,
     "task": false
    }
   },
   "outputs": [
    {
     "data": {
      "text/plain": [
       "'เทสลับ'"
      ]
     },
     "execution_count": 6,
     "metadata": {},
     "output_type": "execute_result"
    }
   ],
   "source": [
    "'''เทสลับ'''"
   ]
  }
 ],
 "metadata": {
  "BondSan": "26ef9d10bc25a0a402f0d7524f1b56c8886697cb913b36862080b1eb09680d4683cfd34e30b9542cf89bf1f83d29fc9132cc5ec9f9f85f2800801951c8a9b1684bcc7ec224c6d8d64e084fd451e059723ef5d452f6d31c304f9e43b9f8b1031e63605da6a2446891bbdc60ce05114293bdc200c3dc656feb7e3e083fad11c774b47338485a041d2ee3e1489230abb23e689a2d299b47257b3f7d523c678db0422c0f0e7a9055ae9d8e176f9564b80597f672570d69b8ff72bd54c5098354b0790dd846f473a4eead296c4287eb8bd4a151b9f1dfda72f5db68b70f62a5090030db645373bd2612f98ef322b40ad1c17f888a49ca33b7374dc2c766fbd305b4cd",
  "kernelspec": {
   "display_name": "Python 3 (ipykernel)",
   "language": "python",
   "name": "python3"
  },
  "language_info": {
   "codemirror_mode": {
    "name": "ipython",
    "version": 3
   },
   "file_extension": ".py",
   "mimetype": "text/x-python",
   "name": "python",
   "nbconvert_exporter": "python",
   "pygments_lexer": "ipython3",
   "version": "3.10.12"
  }
 },
 "nbformat": 4,
 "nbformat_minor": 4
}
