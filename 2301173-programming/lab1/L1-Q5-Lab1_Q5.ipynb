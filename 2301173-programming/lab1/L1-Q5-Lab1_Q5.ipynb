{
 "cells": [
  {
   "cell_type": "markdown",
   "metadata": {
    "deletable": false,
    "editable": false,
    "id": "eb1o9qen3c7r",
    "nbgrader": {
     "cell_type": "markdown",
     "checksum": "612d8553939b17196f6708a572f23254",
     "grade": false,
     "grade_id": "cell-dbf37dcea5d7dc5c",
     "locked": true,
     "schema_version": 3,
     "solution": false,
     "task": false
    }
   },
   "source": [
    "---\n",
    "## Q5\n",
    "จงเขียนโปรแกรมที่คำนวณหาผลเฉลยของสมการกำลังสอง (quadratic equation) โดยให้รับสัมประสิทธิ์\n",
    "$𝑎, 𝑏, 𝑐$ ในสมการ $𝑎𝑥^2 + 𝑏𝑥 + 𝑐 = 0$ จากผู้ใช้แล้วคำนวณหาผลเฉลยจากสูตร $𝑥 = \\frac{−𝑏± \\sqrt{b^2-4ac}} {2a} $ แล้ว\n",
    "แสดงผลลัพธ์ดังตัวอย่างข้างล่างนี้ ($𝑎$ ต้องไม่เป็น $0$ และ $𝑏^2 ≥ 4𝑎𝑐$)\n",
    "\n",
    "หมายเหตุ: การหารากที่สองทำได้โดยใช้การยกกำลัง ½ เช่น 2**0.5 หรือ ใช้ฟังก์ชัน sqrt ในโมดูล math ซึ่ง\n",
    "ต้องใช้คำสั่ง import math เพื่อระบุว่าโปรแกรมนี้ใช้ฟังก์ชันในโมดูล math และ เรียกใช้ฟังก์ชัน sqrt ดัง\n",
    "ตัวอย่างนี้\n",
    "\n",
    "import math\n",
    "\n",
    "z = math.sqrt(2) # value in z is 1.4142135…"
   ]
  },
  {
   "cell_type": "markdown",
   "metadata": {
    "deletable": false,
    "editable": false,
    "id": "6pRIuNtW3c7s",
    "nbgrader": {
     "cell_type": "markdown",
     "checksum": "da30f88fb453c001091187373f248cb7",
     "grade": false,
     "grade_id": "cell-7ae57c7b0fc2869d",
     "locked": true,
     "schema_version": 3,
     "solution": false,
     "task": false
    }
   },
   "source": [
    "ตัวอย่างการทำงาน: <br>\n",
    "Enter coefficients a, b, c : 1,4,3<br>\n",
    "x = -1.0 , -3.0"
   ]
  },
  {
   "cell_type": "markdown",
   "metadata": {
    "deletable": false,
    "editable": false,
    "id": "wlYhRPxY3c7t",
    "nbgrader": {
     "cell_type": "markdown",
     "checksum": "6e9a377ccee83910e9362d874657adfd",
     "grade": false,
     "grade_id": "cell-1b10c564484fa711",
     "locked": true,
     "schema_version": 3,
     "solution": false,
     "task": false
    }
   },
   "source": [
    "ตัวอย่างการทำงาน: <br>\n",
    "Enter coefficients a, b, c : 2.5,-8.7,2.1<br>\n",
    "x = 3.219053751558745 , 0.26094624844125425"
   ]
  },
  {
   "cell_type": "code",
   "execution_count": 9,
   "metadata": {
    "deletable": false,
    "id": "726lIq1z3c7t",
    "nbgrader": {
     "cell_type": "code",
     "checksum": "00b4f29d142119c6df600285bfcbb9ed",
     "grade": false,
     "grade_id": "quardatic",
     "locked": false,
     "schema_version": 3,
     "solution": true
    }
   },
   "outputs": [],
   "source": [
    "def run():\n",
    "    a, b, c = [float(x) for x in input().split(',')]\n",
    "    # เช็คว่า a !== 0 และ b^2 >= 4ac เสมอ\n",
    "    if a == 0 or b ** 2 < 4 * a * c:\n",
    "        raise ValueError(\n",
    "            'a ต้องมีค่ามากกว่า 0 และ b ^ 2 ต้องมากกว่าหรือเท่ากับ 4ac')\n",
    "    # first value\n",
    "    x1 = (-1 * b + (b**2 - 4 * a * c)**(1/2)) / (2 * a)\n",
    "    # second valude\n",
    "    x2 = (-1 * b - (b**2 - 4 * a * c)**(1/2)) / (2 * a)\n",
    "\n",
    "    print(\"x =\", x1, \",\", x2)"
   ]
  },
  {
   "cell_type": "code",
   "execution_count": 10,
   "metadata": {
    "colab": {
     "base_uri": "https://localhost:8080/"
    },
    "deletable": false,
    "editable": false,
    "id": "vjL8wxpP3c7u",
    "nbgrader": {
     "cell_type": "code",
     "checksum": "b7b03893ed0aaf1a2af60ae612b4be37",
     "grade": false,
     "grade_id": "cell-befa13e6c82bd29b",
     "locked": true,
     "schema_version": 3,
     "solution": false,
     "task": false
    },
    "outputId": "09217707-678f-436a-b7c2-f092022da52b"
   },
   "outputs": [
    {
     "name": "stdout",
     "output_type": "stream",
     "text": [
      "x = -1.0 , -3.0\n"
     ]
    }
   ],
   "source": [
    "'''ตรวจสอบผลลัพธ์ของโปรแกรมด้วยการรันที่ cell นี้'''\n",
    "run()"
   ]
  },
  {
   "cell_type": "code",
   "execution_count": 11,
   "metadata": {
    "deletable": false,
    "editable": false,
    "id": "lOQlL0_y3c7v",
    "nbgrader": {
     "cell_type": "code",
     "checksum": "5821c55f13d17e9c95801392003c4faa",
     "grade": false,
     "grade_id": "partial",
     "locked": true,
     "schema_version": 3,
     "solution": false,
     "task": false
    }
   },
   "outputs": [],
   "source": [
    "'''ตรวจสอบผลการคำนวณ'''\n",
    "from unittest.mock import patch\n",
    "from io import StringIO\n",
    "import math\n",
    "\n",
    "def test(inputs,expected_output): \n",
    "     with patch('builtins.input', side_effect=inputs), patch('sys.stdout', new_callable=StringIO) as mock_stdout:\n",
    "        run()\n",
    "        assert mock_stdout.getvalue() == expected_output,mock_stdout.getvalue()\n",
    "def test_easy_print(inputs,expected_output):\n",
    "    with patch('builtins.input', side_effect=inputs), patch('sys.stdout', new_callable=StringIO) as mock_stdout:\n",
    "        run()\n",
    "        assert expected_output in mock_stdout.getvalue(), mock_stdout.getvalue()"
   ]
  },
  {
   "cell_type": "code",
   "execution_count": 12,
   "metadata": {
    "deletable": false,
    "editable": false,
    "nbgrader": {
     "cell_type": "code",
     "checksum": "25114d0593cd953b7a7c598e1595a6e5",
     "grade": true,
     "grade_id": "easy_print",
     "locked": true,
     "points": 1,
     "schema_version": 3,
     "solution": false,
     "task": false
    }
   },
   "outputs": [
    {
     "name": "stdout",
     "output_type": "stream",
     "text": [
      "ok\n"
     ]
    }
   ],
   "source": [
    "'''ตรวจสอบการแสดงผลลัพธ์อย่างง่าย'''\n",
    "test_easy_print(inputs=['1,4,3'],expected_output='x')\n",
    "print('ok')"
   ]
  },
  {
   "cell_type": "code",
   "execution_count": 13,
   "metadata": {
    "deletable": false,
    "editable": false,
    "id": "2H_BkqHc3c7w",
    "nbgrader": {
     "cell_type": "code",
     "checksum": "65c2ff75b9af99009d2feb6f074e2049",
     "grade": true,
     "grade_id": "exact",
     "locked": false,
     "points": 1,
     "schema_version": 3,
     "solution": false
    }
   },
   "outputs": [
    {
     "name": "stdout",
     "output_type": "stream",
     "text": [
      "ok\n"
     ]
    }
   ],
   "source": [
    "'''ตรวจสอบผลการคำนวณและการแสดงผลลัพธ์ให้เหมือนกับโจทย์ที่กำหนดให้'''\n",
    "test(['1,4,3'],'x = -1.0 , -3.0\\n')\n",
    "test(['2.5,-8.7,2.1'],'x = 3.219053751558745 , 0.26094624844125425\\n')\n",
    "print('ok')"
   ]
  },
  {
   "cell_type": "code",
   "execution_count": null,
   "metadata": {
    "deletable": false,
    "editable": false,
    "id": "90PIYtK-7Dix",
    "nbgrader": {
     "cell_type": "code",
     "checksum": "4eb7734e6d7ab9665fe726b05bfac4ee",
     "grade": true,
     "grade_id": "hidden_test",
     "locked": true,
     "points": 1,
     "schema_version": 3,
     "solution": false,
     "task": false
    }
   },
   "outputs": [],
   "source": [
    "'''เทสลับ'''"
   ]
  }
 ],
 "metadata": {
  "BondSan": "52f0f3cb3400f7f1820c99da0b92a059db04520a375f8dd26b7e0400197aae6c477de013fc301957017130d8315064217c29f69a405349b6bea65758bb0c6f8a23a3f1567199d105620715c258c68cd18002877b90cf17f4db66a21fb188b1b3766d274e4b51d30086d927ff31c4e88021165306b214d47a71f0affe7774a70302dc844f5677006f3f5823096fbe18eabf9f5bb75f56cca2326d92eac1e46b6ea9950c5221f196d14795147b6a7a0a2127fb77251381775eac66e8254ab7a22869b5cabaac41fa9a64166688a3f93d381799a004be9ed5192be741289d497e63843ab703ae3b1767a6cedcc72b95a4e30391310938ba5ec6c20df3f5936f04ff",
  "colab": {
   "provenance": [],
   "toc_visible": true
  },
  "kernelspec": {
   "display_name": "Python 3 (ipykernel)",
   "language": "python",
   "name": "python3"
  },
  "language_info": {
   "codemirror_mode": {
    "name": "ipython",
    "version": 3
   },
   "file_extension": ".py",
   "mimetype": "text/x-python",
   "name": "python",
   "nbconvert_exporter": "python",
   "pygments_lexer": "ipython3",
   "version": "3.10.12"
  }
 },
 "nbformat": 4,
 "nbformat_minor": 4
}
