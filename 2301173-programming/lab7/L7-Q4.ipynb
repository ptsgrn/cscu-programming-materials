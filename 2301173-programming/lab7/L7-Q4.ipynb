{
  "cells": [
    {
      "cell_type": "markdown",
      "metadata": {
        "deletable": false,
        "editable": false,
        "id": "JVjbZ_9lGZ7Q",
        "nbgrader": {
          "cell_type": "markdown",
          "checksum": "7bb0896c3874f907d52a46b21f9deae7",
          "grade": false,
          "grade_id": "cell-problem",
          "locked": true,
          "schema_version": 3,
          "solution": false,
          "task": false
        }
      },
      "source": [
        "#### Q4\n",
        "จงเขียนโปรแกรมที่อ่านไฟล์ sports1.txt ที่เก็บข้อมูลชื่อกีฬาและจำนวนพนักงานที่ไปเล่นกีฬาในหนึ่งสัปดาห์มาเก็บใน dictionary <br>\n",
        "แล้วหาว่ากีฬาใดที่มีพนักงานเล่นเกิน 15 คน และจำนวนพนักงานที่มาเล่นกีฬาทั้งหมด แสดงเป็นผลลัพธ์ <br>\n",
        "\n",
        "กำหนดให้เขียนฟังก์ชัน `get_dict(file_name)` ที่มี parameter เป็นชื่อ file แล้วสร้างและคืนค่า dictionary จากการอ่านไฟล์ โดยมี\n",
        "- key เป็นสตริงของชื่อกีฬา\n",
        "- value เป็นผลรวมของจำนวนพนักงานที่เล่นกีฬาประเภทนั้น ๆ\n",
        "\n",
        "และเขียนฟังก์ชัน run() ที่รับชื่อไฟล์เพื่ออ่านข้อมูลเก็บลง dictionary แล้วแสดงผลลัพธ์เป็น <br>\n",
        "ชื่อกีฬาที่มีพนักงานเล่นเกิน 15 คน และจำนวนพนักงานที่มาเล่นกีฬาทั้งหมดในหนึ่งสัปดาห์ ดังแสดงในตัวอย่างการทำงาน"
      ]
    },
    {
      "cell_type": "markdown",
      "metadata": {
        "deletable": false,
        "editable": false,
        "id": "g4N7UbGHC_40",
        "nbgrader": {
          "cell_type": "markdown",
          "checksum": "35c4ddb388b788d7a5b279dfca1acd93",
          "grade": false,
          "grade_id": "cell-sports1-text-file",
          "locked": true,
          "schema_version": 3,
          "solution": false,
          "task": false
        }
      },
      "source": [
        "### ตัวอย่างไฟล์ sports1.txt:\n",
        "swimming 5<br>\n",
        "yoga 10<br>\n",
        "badminton 8<br>\n",
        "yoga 8<br>\n",
        "badminton 10"
      ]
    },
    {
      "cell_type": "markdown",
      "metadata": {
        "deletable": false,
        "editable": false,
        "id": "idiI4V-YC_40",
        "nbgrader": {
          "cell_type": "markdown",
          "checksum": "f1f9aff5a97eb09b1c187527f74ab3a0",
          "grade": false,
          "grade_id": "cell-sports2-text-file",
          "locked": true,
          "schema_version": 3,
          "solution": false,
          "task": false
        }
      },
      "source": [
        "### ตัวอย่างไฟล์ sports2.txt:\n",
        "swimming 5<br>\n",
        "yoga 10<br>\n",
        "badminton 8<br>\n",
        "yoga 8<br>\n",
        "football 19"
      ]
    },
    {
      "cell_type": "markdown",
      "metadata": {
        "deletable": false,
        "editable": false,
        "id": "VjEfMNb7C_41",
        "nbgrader": {
          "cell_type": "markdown",
          "checksum": "4fcd0bb6d883a00ecc0f9d263ce300d4",
          "grade": false,
          "grade_id": "cell-output1",
          "locked": true,
          "schema_version": 3,
          "solution": false,
          "task": false
        }
      },
      "source": [
        "### ตัวอย่างการทำงาน:\n",
        "Enter input file name: **sports1.txt**<br>\n",
        "Types of sports (players >= 15): <br>\n",
        "yoga <br>\n",
        "badminton <br>\n",
        "Total players: 41"
      ]
    },
    {
      "cell_type": "markdown",
      "metadata": {
        "deletable": false,
        "editable": false,
        "id": "eTJLr8NvC_41",
        "nbgrader": {
          "cell_type": "markdown",
          "checksum": "e37ff955d1bbcf3b77bb509283e4daf7",
          "grade": false,
          "grade_id": "cell-output2",
          "locked": true,
          "schema_version": 3,
          "solution": false,
          "task": false
        }
      },
      "source": [
        "## ตัวอย่างการทำงาน:\n",
        "Enter input file name: **sports2.txt**<br>\n",
        "Types of sports (players >= 15): <br>\n",
        "yoga <br>\n",
        "football <br>\n",
        "Total players: 50"
      ]
    },
    {
      "cell_type": "code",
      "execution_count": 3,
      "metadata": {
        "deletable": false,
        "id": "X1jW5d0zGZ7W",
        "nbgrader": {
          "cell_type": "code",
          "checksum": "fef7b405c2c1f383f877029fdc14b221",
          "grade": false,
          "grade_id": "cell-befa13e6c82bd29b",
          "locked": false,
          "schema_version": 3,
          "solution": true,
          "task": false
        }
      },
      "outputs": [],
      "source": [
        "def get_dict(file_name):\n",
        "    '''สร้าง dictionary แล้วคืนค่า dictionary'''\n",
        "    data = dict()\n",
        "    with open(file_name) as f:\n",
        "        for line in f.readlines():\n",
        "            name, count = line.split()\n",
        "            count = int(count)\n",
        "            data[name] = data.get(name, 0) + count\n",
        "    return data\n",
        "\n",
        "def run():\n",
        "    file_name = input()\n",
        "    data = get_dict(file_name)\n",
        "    filtered = [e for e in data.items() if e[1] >= 15]\n",
        "    print(\"Types of sports (players >= 15):\")\n",
        "    for e in filtered:\n",
        "        print(e[0])\n",
        "    print(f\"Total players: {sum(data.values())}\")"
      ]
    },
    {
      "cell_type": "code",
      "execution_count": 4,
      "metadata": {
        "deletable": false,
        "editable": false,
        "id": "Mah4rru2C_41",
        "nbgrader": {
          "cell_type": "code",
          "checksum": "62b12297a47cdaafa5a1d4a1908b588e",
          "grade": false,
          "grade_id": "run",
          "locked": true,
          "schema_version": 3,
          "solution": false,
          "task": false
        }
      },
      "outputs": [
        {
          "data": {
            "text/plain": [
              "'ตรวจสอบผลลัพธ์ของโปรแกรมด้วยการรันที่ cell นี้'"
            ]
          },
          "execution_count": 4,
          "metadata": {},
          "output_type": "execute_result"
        }
      ],
      "source": [
        "'''ตรวจสอบผลลัพธ์ของโปรแกรมด้วยการรันที่ cell นี้'''\n",
        "# run()"
      ]
    },
    {
      "cell_type": "code",
      "execution_count": 5,
      "metadata": {
        "deletable": false,
        "editable": false,
        "id": "yrVEs_jtGZ7X",
        "nbgrader": {
          "cell_type": "code",
          "checksum": "992dd488ef7a21caebed973bc207d949",
          "grade": false,
          "grade_id": "partial",
          "locked": true,
          "schema_version": 3,
          "solution": false,
          "task": false
        }
      },
      "outputs": [],
      "source": [
        "'''ตรวจสอบผลการคำนวณ'''\n",
        "from unittest.mock import patch\n",
        "from io import StringIO\n",
        "\n",
        "def test(inputs,expected_output,f):\n",
        "    with patch('builtins.input', side_effect=inputs), patch('sys.stdout', new_callable=StringIO) as mock_stdout:\n",
        "        f()\n",
        "        assert ''.join(mock_stdout.getvalue().lower().split()) == ''.join(expected_output.lower().split()),mock_stdout.getvalue()\n",
        "def test_easy_print(inputs,expected_output):\n",
        "    with patch('builtins.input', side_effect=inputs), patch('sys.stdout', new_callable=StringIO) as mock_stdout:\n",
        "        run()\n",
        "        assert expected_output in mock_stdout.getvalue(), mock_stdout.getvalue()"
      ]
    },
    {
      "cell_type": "code",
      "execution_count": 6,
      "metadata": {
        "deletable": false,
        "editable": false,
        "id": "hCymwjo5C_42",
        "nbgrader": {
          "cell_type": "code",
          "checksum": "885c20b53da6c8dcf159de497d75cb1d",
          "grade": true,
          "grade_id": "cell-dcd4f3964b98ec85",
          "locked": true,
          "points": 1,
          "schema_version": 3,
          "solution": false,
          "task": false
        }
      },
      "outputs": [
        {
          "name": "stdout",
          "output_type": "stream",
          "text": [
            "ok\n"
          ]
        }
      ],
      "source": [
        "'''ตรวจสอบการแสดงผลลัพธ์อย่างง่าย'''\n",
        "test_easy_print(inputs=['sports1.txt'],expected_output='T')\n",
        "print('ok')"
      ]
    },
    {
      "cell_type": "code",
      "execution_count": 7,
      "metadata": {
        "deletable": false,
        "editable": false,
        "id": "iNjqbB4ZGZ7Y",
        "nbgrader": {
          "cell_type": "code",
          "checksum": "3b5e40e8850486938d0aa93a1057ef6c",
          "grade": true,
          "grade_id": "cell-318efae9bca2069c",
          "locked": true,
          "points": 1,
          "schema_version": 3,
          "solution": false,
          "task": false
        }
      },
      "outputs": [
        {
          "name": "stdout",
          "output_type": "stream",
          "text": [
            "ok\n"
          ]
        }
      ],
      "source": [
        "'''ตรวจสอบผลการคำนวณและการแสดงผลลัพธ์ให้เหมือนกับโจทย์ที่กำหนดให้'''\n",
        "test(['sports1.txt'],\"Types of sports (players >= 15):\\nyoga\\nbadminton\\nTotal players: 41\\n\",f=run)\n",
        "test(['sports2.txt'],\"Types of sports (players >= 15):\\nyoga\\nfootball\\nTotal players: 50\\n\",f=run)\n",
        "print('ok')"
      ]
    },
    {
      "cell_type": "code",
      "execution_count": 8,
      "metadata": {
        "deletable": false,
        "editable": false,
        "id": "rcJkeA_2GZ7Y",
        "nbgrader": {
          "cell_type": "code",
          "checksum": "b4216d4b2c75f5a1237392606add8bed",
          "grade": true,
          "grade_id": "cell-c8599a43c8e1b8d8",
          "locked": true,
          "points": 1,
          "schema_version": 3,
          "solution": false,
          "task": false
        }
      },
      "outputs": [
        {
          "data": {
            "text/plain": [
              "'เทสลับ1'"
            ]
          },
          "execution_count": 8,
          "metadata": {},
          "output_type": "execute_result"
        }
      ],
      "source": [
        "'''เทสลับ1'''"
      ]
    }
  ],
  "metadata": {
    "colab": {
      "provenance": []
    },
    "kernelspec": {
      "display_name": ".venv",
      "language": "python",
      "name": "python3"
    },
    "language_info": {
      "codemirror_mode": {
        "name": "ipython",
        "version": 3
      },
      "file_extension": ".py",
      "mimetype": "text/x-python",
      "name": "python",
      "nbconvert_exporter": "python",
      "pygments_lexer": "ipython3",
      "version": "3.12.5"
    }
  },
  "nbformat": 4,
  "nbformat_minor": 0
}
