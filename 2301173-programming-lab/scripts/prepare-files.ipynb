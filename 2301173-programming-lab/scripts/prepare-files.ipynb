{
 "cells": [
  {
   "cell_type": "code",
   "execution_count": 2,
   "metadata": {},
   "outputs": [],
   "source": [
    "# -*- coding: utf-8 -*-\n",
    "\"\"\"\n",
    "Remove student ID from filenames\n",
    "\"\"\"\n",
    "\n",
    "import os\n",
    "\n",
    "base = os.path.dirname(os.getcwd())\n",
    "dirs_with_lab = [dir for dir in os.listdir(base) if \"lab\" in dir]\n",
    "\n",
    "for dirname in dirs_with_lab:\n",
    "  for filename in os.listdir(base + \"/\" + dirname):\n",
    "    filepath = base + \"/\" + dirname + \"/\" + filename\n",
    "    if len(filename.split('-')[0]) == 10:\n",
    "      new_filepath = base + \"/\" + dirname + \"/\" + \"-\".join(filename.split(\"-\")[1:])\n",
    "      os.rename(filepath, new_filepath)\n",
    "      print(filepath, \"-->\", new_filepath)"
   ]
  }
 ],
 "metadata": {
  "kernelspec": {
   "display_name": ".venv",
   "language": "python",
   "name": "python3"
  },
  "language_info": {
   "codemirror_mode": {
    "name": "ipython",
    "version": 3
   },
   "file_extension": ".py",
   "mimetype": "text/x-python",
   "name": "python",
   "nbconvert_exporter": "python",
   "pygments_lexer": "ipython3",
   "version": "3.10.12"
  }
 },
 "nbformat": 4,
 "nbformat_minor": 2
}
