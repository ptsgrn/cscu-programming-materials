{
 "cells": [
  {
   "cell_type": "markdown",
   "metadata": {
    "id": "XV4Es420NtZw"
   },
   "source": [
    "> <font color='green'>**You are free to make any choice you want, but you are not free from the consequences of the choice.**</font> <font color='gray'>- *Unknown*</font>\n",
    "\n",
    "> <font color='chocolate'>**We have choices in real life, so does programming.**</font>"
   ]
  },
  {
   "cell_type": "markdown",
   "metadata": {
    "id": "rswMJPEjPUtK"
   },
   "source": [
    "Imagine a grading system which accepts a score from the user. \n",
    "If the score is more than 50, it will show \"passed\" otherwise \"failed\".\n",
    "\n",
    "We can see that the program has two choices to show on the screen. So, we will learn how to write a program with selection structures. "
   ]
  },
  {
   "cell_type": "markdown",
   "metadata": {
    "id": "gDOg2U7l92K8"
   },
   "source": [
    "# Flowchart\n",
    "\n",
    "When your program is complex, drawing a flowchart can help you design what to do in each step in the program before you actually implement it. "
   ]
  },
  {
   "cell_type": "markdown",
   "metadata": {
    "id": "XnmMQfCMMhR9"
   },
   "source": [
    "- Common symbols used in the flowchart\n",
    "\n",
    "\n",
    "<img src=\"https://github.com/ploy-np/python/blob/master/images/flowchart_annotation.jpg?raw=1\" alt=\"annotations\"/>"
   ]
  },
  {
   "cell_type": "markdown",
   "metadata": {
    "id": "K6iQQiodS6IT"
   },
   "source": [
    "- There are three main programming structures as follows.\n",
    "\n",
    "<img src=\"https://github.com/ploy-np/python/blob/master/images/flowchart_structure.jpg?raw=1\" alt=\"structure\"/>\n"
   ]
  },
  {
   "cell_type": "markdown",
   "metadata": {
    "id": "MQsLOMknRJth"
   },
   "source": [
    "## Sequence structure"
   ]
  },
  {
   "cell_type": "markdown",
   "metadata": {
    "id": "lOO6EPjCRhVK"
   },
   "source": [
    "Ex.\n",
    "\n",
    "Write a program that receives a circle's radius from the user, find the perimeter of the circle, then print it out.\n",
    "\n",
    "We can write a flowchart as shown below.\n",
    "\n",
    "<img src=\"https://github.com/ploy-np/python/blob/master/images/flowchart_perimeter_seq.jpg?raw=1\" alt=\"flowchart_permiter_seq\"/>"
   ]
  },
  {
   "cell_type": "markdown",
   "metadata": {
    "id": "cbdxSarRBRuE"
   },
   "source": [
    "## Selection structure"
   ]
  },
  {
   "cell_type": "markdown",
   "metadata": {
    "id": "xVreJBL9V3Xa"
   },
   "source": [
    "From the example of perimeter calculation program above, we can see that in case of negative radius, the program still calculate the perimeter. However, this behaviour is not reasonable because the length of radius should be positive. Thus, we should design the program to handle this situation properly.\n",
    "\n",
    "- (Option 1) If the radius is positve, the program will calculate the perimeter and print it out. However, if the radius is negative, the program will do nothing.\n",
    "- (Option 2) If the radius is positve, the program will calculate the perimeter and print it out. However, if the radius is negative, the program will print the warning message on the screen that the user provided incorrect user. \n",
    "\n",
    "Flowcharts corresponding to each of the solutions above can be drawn below.\n",
    "\n",
    "<img src=\"https://github.com/ploy-np/python/blob/master/images/flowchart_perimeter_sel.jpg?raw=1\" alt=\"flowchart_permiter_sel\"/>\n",
    "\n",
    "In Python, we can use `if statement` for option 1 and `if-else statement` for option 2.\n",
    "\n"
   ]
  },
  {
   "cell_type": "markdown",
   "metadata": {
    "id": "pIFzlE2w9f0K"
   },
   "source": [
    "# Selection"
   ]
  },
  {
   "cell_type": "markdown",
   "metadata": {
    "id": "xXtZyD0Ke84v"
   },
   "source": [
    "### `if` statement\n",
    "\n",
    "```python\n",
    "if <condition>:\n",
    "  <what-to-do-when-the-condition-Is-true>  \n",
    "  ...\n",
    "\n",
    "<what-to-do-Next>\n",
    "...\n",
    "```\n",
    "\n",
    "### `if-else` statement\n",
    "\n",
    "```python\n",
    "if <condition>:\n",
    "  <statement1-when-the-condition-Is-true>\n",
    "  <statement2-when-the-condition-Is-true>\n",
    "  ...\n",
    "else: \n",
    "  <statement1-when-the-condition-Is-false>\n",
    "  <statement2-when-the-condition-Is-false>\n",
    "  ...\n",
    "\n",
    "<what-to-do-Next>\n",
    "...\n",
    "```"
   ]
  },
  {
   "cell_type": "markdown",
   "metadata": {
    "id": "xm_j3J0SeK1u"
   },
   "source": [
    "<font color='orange'>Note:</font> \n",
    "* Be aware of indentation. Incorrect indentation can raise systax errors\n",
    "\n",
    "Here are examples of pseudo codes with selection structure.\n",
    "```python\n",
    "# Program A\n",
    "if Raining:\n",
    "  Take an umbrella\n",
    "  Call a cab\n",
    "  Go to Siam\n",
    "Attend my Python classroom\n",
    "\n",
    "# Program B\n",
    "if Raining:\n",
    "  Take an umbrella\n",
    "  Call a cab\n",
    "  Go to Siam\n",
    "else:\n",
    "  Attend my Python classroom\n",
    "```"
   ]
  },
  {
   "cell_type": "markdown",
   "metadata": {
    "id": "zGuJZIWsjdJR"
   },
   "source": [
    "<font color='blue'>Q:</font> Does the program behaviour of Program A differ from Program B - Hint: If it is raining, is there any program attends my classroom?"
   ]
  },
  {
   "cell_type": "markdown",
   "metadata": {
    "id": "Ovn_nJl9epMN"
   },
   "source": [
    "- **Condition** written after `if` must return either True or False only.\n",
    "\n",
    "Examples of conditions used in if statements.\n",
    "```python\n",
    "hotel == 'A' and budget > 5000\n",
    "0 <= percent <= 100\n",
    "vowel == 'a' or vowel == 'e' or vowel == 'i' or vowel == 'o' or vowel == 'u'\n",
    "x % 100 == 23 # check if x ends with 23.\n",
    "x // 100 == 45 # check if x starts with 45.\n",
    "```"
   ]
  },
  {
   "cell_type": "markdown",
   "metadata": {
    "id": "EE7EnP0fJGaD"
   },
   "source": [
    "- A conditional statement can be expressed several ways. See examples below.\n",
    "\n",
    " - `x != 0` equals to `not (x==0)`\n",
    " - `0 <= percent <= 100` equals to `(0 <= percent) and (percent <= 100)`\n",
    " - `not((score > 50) and (credit < 3))` equals to `score <= 50 or credit > 3`\n"
   ]
  },
  {
   "cell_type": "markdown",
   "metadata": {
    "id": "1yIQXpWJc90J"
   },
   "source": [
    "Below is the program that calculates the perimeter with radius length check."
   ]
  },
  {
   "cell_type": "code",
   "execution_count": 2,
   "metadata": {
    "colab": {
     "base_uri": "https://localhost:8080/"
    },
    "executionInfo": {
     "elapsed": 4491,
     "status": "ok",
     "timestamp": 1642948013678,
     "user": {
      "displayName": "Naruemon Pratanwanich",
      "photoUrl": "https://lh3.googleusercontent.com/a-/AOh14Ght-XDHOoqeuU7xDve5mJaCH2c0CFLbb7XtETlg=s64",
      "userId": "04240363400547583642"
     },
     "user_tz": -420
    },
    "id": "1BfSZNP0ex51",
    "outputId": "9afb6ae2-2fc6-4dbc-a340-7368484d48e2"
   },
   "outputs": [
    {
     "name": "stdout",
     "output_type": "stream",
     "text": [
      "Enter radius: 3.2\n",
      "20.106192982974676\n"
     ]
    }
   ],
   "source": [
    "# Based on the flowchar in Option 1\n",
    "\n",
    "\"\"\"\n",
    "You can test your program by using the values below.\n",
    "3\n",
    "3.2\n",
    "0 (edge case)\n",
    "-2.5\n",
    "\"\"\"\n",
    "\n",
    "import math\n",
    "radius = float(input('Enter radius: '))\n",
    "if radius > 0:\n",
    "  perimeter = 2*math.pi*radius\n",
    "  print(perimeter)"
   ]
  },
  {
   "cell_type": "markdown",
   "metadata": {
    "id": "bGiuTtkLjF7w"
   },
   "source": [
    "<font color='orange'>Note: </font> To ensure if your program work properly, try to test your program with as many values as possible especially edge cases."
   ]
  },
  {
   "cell_type": "code",
   "execution_count": 4,
   "metadata": {
    "colab": {
     "base_uri": "https://localhost:8080/"
    },
    "executionInfo": {
     "elapsed": 4699,
     "status": "ok",
     "timestamp": 1642948032280,
     "user": {
      "displayName": "Naruemon Pratanwanich",
      "photoUrl": "https://lh3.googleusercontent.com/a-/AOh14Ght-XDHOoqeuU7xDve5mJaCH2c0CFLbb7XtETlg=s64",
      "userId": "04240363400547583642"
     },
     "user_tz": -420
    },
    "id": "jI-kAHGwfGo2",
    "outputId": "6816390b-be2b-4ac8-b119-a4e507256a5a"
   },
   "outputs": [
    {
     "name": "stdout",
     "output_type": "stream",
     "text": [
      "Enter radius: -2.5\n",
      "Invalid input.\n"
     ]
    }
   ],
   "source": [
    "# Based on the flowchar in Option 2\n",
    "\n",
    "\"\"\"\n",
    "You can test your program by using the values below.\n",
    "3\n",
    "3.2\n",
    "0 (edge case)\n",
    "-2.5\n",
    "\"\"\"\n",
    "\n",
    "import math\n",
    "radius = float(input('Enter radius: '))\n",
    "if radius > 0:\n",
    "  perimeter = 2*math.pi*radius\n",
    "  print(perimeter)\n",
    "else:\n",
    "  print('Invalid input.')"
   ]
  },
  {
   "cell_type": "markdown",
   "metadata": {
    "id": "tvh4IXJPgYao"
   },
   "source": [
    "In addition to these solutions, do you have better implementation for perimeter calculation from radius?\n",
    "> <font color='skyblue'>Keep learning. Later, you will learn how to deal with this incidence more properly and make the users more happily.</font>"
   ]
  },
  {
   "cell_type": "markdown",
   "metadata": {
    "id": "xeRFrSay7C9y"
   },
   "source": [
    "<font color='purple'>P: </font>Write a program to to receive a number and print out if it is positive or negative."
   ]
  },
  {
   "cell_type": "code",
   "execution_count": null,
   "metadata": {
    "colab": {
     "base_uri": "https://localhost:8080/",
     "height": 51
    },
    "executionInfo": {
     "elapsed": 5156,
     "status": "ok",
     "timestamp": 1593265037701,
     "user": {
      "displayName": "Naruemon Pratanwanich",
      "photoUrl": "https://lh3.googleusercontent.com/a-/AOh14Ght-XDHOoqeuU7xDve5mJaCH2c0CFLbb7XtETlg=s64",
      "userId": "04240363400547583642"
     },
     "user_tz": -420
    },
    "id": "cvNVZtta6Wj_",
    "outputId": "6ec1e5a6-4fbc-496c-c24d-c81887e88fae"
   },
   "outputs": [
    {
     "name": "stdout",
     "output_type": "stream",
     "text": [
      "Please enter a number: 23.1\n",
      "23.1 is a positive number.\n"
     ]
    }
   ],
   "source": [
    "# Best practice is to think about the possible scenarios of inputs and outputs for testing before coding.\n",
    "\n",
    "\"\"\"\n",
    "Testing with the following values:\n",
    "24 \n",
    "0 (edge case)\n",
    "25.5 \n",
    "-2\n",
    "-4.2\n",
    "\"\"\"\n",
    "\n",
    "num = float(input(\"Please enter a number: \"))\n",
    "if num > 0: # Check if num is positve\n",
    "  print(num, 'is a positive number.')\n",
    "else:\n",
    "  print(num, 'is a non-positive number.')"
   ]
  },
  {
   "cell_type": "markdown",
   "metadata": {
    "id": "eIGvaTpE8FgA"
   },
   "source": [
    "<font color='purple'>P: </font>Write a program that receives a product price. Calculate the final price based on the following conditions.\n",
    "\n",
    "- If the product price is higher than 2,500 baht but no more than 5,000, the final price is 15% discounted.\n",
    "- Otherwise, the price remains the same.\n",
    "\n",
    "Then, print the final price out on the screen."
   ]
  },
  {
   "cell_type": "code",
   "execution_count": 6,
   "metadata": {
    "colab": {
     "base_uri": "https://localhost:8080/"
    },
    "executionInfo": {
     "elapsed": 3356,
     "status": "ok",
     "timestamp": 1642948055855,
     "user": {
      "displayName": "Naruemon Pratanwanich",
      "photoUrl": "https://lh3.googleusercontent.com/a-/AOh14Ght-XDHOoqeuU7xDve5mJaCH2c0CFLbb7XtETlg=s64",
      "userId": "04240363400547583642"
     },
     "user_tz": -420
    },
    "id": "ENjnQvi79bxS",
    "outputId": "adc65a22-b3d9-40e0-cc53-72f7247ef142"
   },
   "outputs": [
    {
     "name": "stdout",
     "output_type": "stream",
     "text": [
      "Please enter your item's price: 3000\n",
      "The final price is 2550.0 Baht.\n"
     ]
    }
   ],
   "source": [
    "\"\"\"\n",
    "Testing with the following values:\n",
    "3000\n",
    "500\n",
    "2500\n",
    "5000\n",
    "\"\"\"\n",
    "\n",
    "price = float(input(\"Please enter your item's price: \"))\n",
    "if 2500 < price <= 5000:\n",
    "  price = price * 0.85\n",
    "print('The final price is', price, 'Baht.')\n"
   ]
  },
  {
   "cell_type": "markdown",
   "metadata": {
    "id": "Hhe0hHdvE2We"
   },
   "source": [
    "<font color='purple'>P: </font> Write a program to check if the given input is odd or even."
   ]
  },
  {
   "cell_type": "markdown",
   "metadata": {
    "id": "7bQqnU5NkJFN"
   },
   "source": [
    "We can draw a flowchart as follows.\n",
    "\n",
    "<img src=\"https://github.com/ploy-np/python/blob/master/images/flowchart_even_odd.jpg?raw=1\" alt=\"flowchart_even_odd\"/>"
   ]
  },
  {
   "cell_type": "code",
   "execution_count": 9,
   "metadata": {
    "colab": {
     "base_uri": "https://localhost:8080/"
    },
    "executionInfo": {
     "elapsed": 3418,
     "status": "ok",
     "timestamp": 1642948079077,
     "user": {
      "displayName": "Naruemon Pratanwanich",
      "photoUrl": "https://lh3.googleusercontent.com/a-/AOh14Ght-XDHOoqeuU7xDve5mJaCH2c0CFLbb7XtETlg=s64",
      "userId": "04240363400547583642"
     },
     "user_tz": -420
    },
    "id": "JG5-FDkQE1aB",
    "outputId": "c999db45-963b-44af-eb71-218ce1c23ec4"
   },
   "outputs": [
    {
     "name": "stdout",
     "output_type": "stream",
     "text": [
      "Enter your number: 1204\n",
      "1204.0 is even.\n"
     ]
    }
   ],
   "source": [
    "\"\"\"\n",
    "Testing with the following values:\n",
    "1204\n",
    "0\n",
    "-1204\n",
    "-1\n",
    "1\n",
    "\"\"\"\n",
    "n = float(input('Enter your number: '))\n",
    "if n%2==0:\n",
    "  print(n,'is even.')\n",
    "else:\n",
    "  print(n,'is odd.')"
   ]
  },
  {
   "cell_type": "markdown",
   "metadata": {
    "id": "297vHuhYFnWp"
   },
   "source": [
    "<font color='purple'>P: </font> Write a program that receives a mobile brand from the user. If the brands are either `Apple` or `Android`, do nothing. Otherwise, show the message \"Others\" on the screen."
   ]
  },
  {
   "cell_type": "code",
   "execution_count": null,
   "metadata": {
    "colab": {
     "base_uri": "https://localhost:8080/",
     "height": 130
    },
    "executionInfo": {
     "elapsed": 792,
     "status": "error",
     "timestamp": 1595993393956,
     "user": {
      "displayName": "Naruemon Pratanwanich",
      "photoUrl": "https://lh3.googleusercontent.com/a-/AOh14Ght-XDHOoqeuU7xDve5mJaCH2c0CFLbb7XtETlg=s64",
      "userId": "04240363400547583642"
     },
     "user_tz": -420
    },
    "id": "7GG7EsmfFoFa",
    "outputId": "9276dec4-b693-465b-a498-ee1be23a4e8f"
   },
   "outputs": [
    {
     "ename": "IndentationError",
     "evalue": "ignored",
     "output_type": "error",
     "traceback": [
      "\u001b[0;36m  File \u001b[0;32m\"<ipython-input-4-9f984862e0a3>\"\u001b[0;36m, line \u001b[0;32m2\u001b[0m\n\u001b[0;31m    else:\u001b[0m\n\u001b[0m       ^\u001b[0m\n\u001b[0;31mIndentationError\u001b[0m\u001b[0;31m:\u001b[0m expected an indented block\n"
     ]
    }
   ],
   "source": [
    "mobile = input('Enter your mobile brand: ')\n",
    "if (mobile == 'Apple') or (mobile == 'Android'):\n",
    "else:\n",
    "  print('Others')"
   ]
  },
  {
   "cell_type": "markdown",
   "metadata": {
    "id": "4-Y2cU1gnp36"
   },
   "source": [
    "The program above has the error raised because within the `if` / `else` block, there must be at least one statement. In order to correct this, we need to rewrite the condition so that at least one action is execute. See below."
   ]
  },
  {
   "cell_type": "code",
   "execution_count": 11,
   "metadata": {
    "colab": {
     "base_uri": "https://localhost:8080/"
    },
    "executionInfo": {
     "elapsed": 3845,
     "status": "ok",
     "timestamp": 1642948110574,
     "user": {
      "displayName": "Naruemon Pratanwanich",
      "photoUrl": "https://lh3.googleusercontent.com/a-/AOh14Ght-XDHOoqeuU7xDve5mJaCH2c0CFLbb7XtETlg=s64",
      "userId": "04240363400547583642"
     },
     "user_tz": -420
    },
    "id": "jLQw1Yk8oxpJ",
    "outputId": "5432c92a-f301-4149-e974-22c158c40116"
   },
   "outputs": [
    {
     "name": "stdout",
     "output_type": "stream",
     "text": [
      "Enter your mobile brand: Samsung\n",
      "Others\n"
     ]
    }
   ],
   "source": [
    "mobile = input('Enter your mobile brand: ')\n",
    "if not ((mobile == 'Apple') or (mobile == 'Android')):\n",
    "  print('Others')"
   ]
  },
  {
   "cell_type": "markdown",
   "metadata": {
    "id": "Tdw1fTowo3cw"
   },
   "source": [
    "Alternatively, "
   ]
  },
  {
   "cell_type": "code",
   "execution_count": 12,
   "metadata": {
    "colab": {
     "base_uri": "https://localhost:8080/"
    },
    "executionInfo": {
     "elapsed": 6930,
     "status": "ok",
     "timestamp": 1642948119259,
     "user": {
      "displayName": "Naruemon Pratanwanich",
      "photoUrl": "https://lh3.googleusercontent.com/a-/AOh14Ght-XDHOoqeuU7xDve5mJaCH2c0CFLbb7XtETlg=s64",
      "userId": "04240363400547583642"
     },
     "user_tz": -420
    },
    "id": "i8MgK7Gpn5Vr",
    "outputId": "9f948129-900a-4bb0-b74d-ed5a39e5cfdc"
   },
   "outputs": [
    {
     "name": "stdout",
     "output_type": "stream",
     "text": [
      "Enter your mobile brand: Samsung\n",
      "Others\n"
     ]
    }
   ],
   "source": [
    "mobile = input('Enter your mobile brand: ')\n",
    "if (mobile != 'Apple') and (mobile != 'Android'):\n",
    "  print('Others')"
   ]
  },
  {
   "cell_type": "markdown",
   "metadata": {
    "id": "xq4ctyAFoVAA"
   },
   "source": [
    "<font color='purple'>P: </font>Write a program that recievies scores from three subject of a student and calculate their average score. If the average is more than the standard score(`STANDARD_SCORE`), print a congratulations message with their average score. Otherwise, print only their average score."
   ]
  },
  {
   "cell_type": "code",
   "execution_count": 13,
   "metadata": {
    "colab": {
     "base_uri": "https://localhost:8080/"
    },
    "executionInfo": {
     "elapsed": 9824,
     "status": "ok",
     "timestamp": 1642948133973,
     "user": {
      "displayName": "Naruemon Pratanwanich",
      "photoUrl": "https://lh3.googleusercontent.com/a-/AOh14Ght-XDHOoqeuU7xDve5mJaCH2c0CFLbb7XtETlg=s64",
      "userId": "04240363400547583642"
     },
     "user_tz": -420
    },
    "id": "IF1_gbj_ohks",
    "outputId": "daca1030-20b3-436e-b1e3-d741e25666c9"
   },
   "outputs": [
    {
     "name": "stdout",
     "output_type": "stream",
     "text": [
      "Enter the 1st score: 85\n",
      "Enter the 2nd score: 89\n",
      "Enter the 3rd score: 72\n",
      "Congratulations! Your average score of 82.0 is higher than the standard score 80\n"
     ]
    }
   ],
   "source": [
    "STANDARD_SCORE = 80\n",
    "\n",
    "score1 = int(input('Enter the 1st score: ' ))\n",
    "score2 = int(input('Enter the 2nd score: ' ))\n",
    "score3 = int(input('Enter the 3rd score: ' ))\n",
    "\n",
    "# Calculate the average score.\n",
    "average = (score1 + score2 + score3) / 3\n",
    "\n",
    "if average > STANDARD_SCORE:\n",
    "  print('Congratulations! Your average score of', average, 'is higher than the standard score', STANDARD_SCORE)\n",
    "else:\n",
    "  print('Your average score is', average,'.')"
   ]
  },
  {
   "cell_type": "markdown",
   "metadata": {
    "id": "QUuWT808Fop4"
   },
   "source": [
    "<font color='Salmon'>Quiz: </font> Given the flowchart below, fill in the blank with the appropriate condition so that the program can receive an integer `n` and print out its inverse if `n` is not zero, or show the message \"Cannot divide by zero\" if `n` is zero.\n",
    "\n",
    "<img src=\"https://github.com/ploy-np/python/blob/master/images/flowchart_quiz_division_by_zero.jpg?raw=1\" alt=\"flowchart_quiz_division_by_zero\"/>\n",
    "\n"
   ]
  },
  {
   "cell_type": "markdown",
   "metadata": {
    "id": "0emBFwSOudpr"
   },
   "source": [
    "<font color='Salmon'>Quiz: </font> Given the program below, fill in the blank with the appropriate condition so that the program can check if the given month, m, is valid, that is, either 1,2,3,..., or 12 only. \n",
    "\n",
    "```python\n",
    "m = int(input('Enter month:'))\n",
    "if ____________ :\n",
    "print('valid') else:\n",
    "   print('invalid')\n",
    "```"
   ]
  },
  {
   "cell_type": "markdown",
   "metadata": {
    "id": "tU7wzEXCu2Di"
   },
   "source": [
    "<font color='Salmon'>Quiz: </font>  What is the output of this program when the user gives: \n",
    "- 0 as an input\n",
    "- 5 as an input\n",
    "\n",
    "```python\n",
    "n = int(input('Enter n:'))\n",
    "if n<5:\n",
    "  print(n)\n",
    "print('-')\n",
    "```"
   ]
  },
  {
   "cell_type": "markdown",
   "metadata": {
    "id": "hVnai3jPWqN7"
   },
   "source": [
    "<font color='purple'>P: </font>Write a program that receives a salary and the number of working years for calculating the new salary based on the following criteria.\n",
    "  - If the user has the current salary higher than 50,000 baht and has been working for more than 5 years, their salary will be increased 10% and their bonus is twice as much as the new salary.\n",
    "  - Otherwise, their salary will be increased only 7% and their bonus is 1.5 folds as much as the new salary.\n",
    "\n",
    "Finally, print out the new salary and bonus on the screen."
   ]
  },
  {
   "cell_type": "markdown",
   "metadata": {
    "id": "r0O4-WnqZPhb"
   },
   "source": [
    "From the program requirement above, we can draw the following flowchart.\n",
    "<img src=\"https://github.com/ploy-np/python/blob/master/images/flowchart_salary_bonus.jpg?raw=1\" alt=\"flowchart_salary_bonus\"/>"
   ]
  },
  {
   "cell_type": "code",
   "execution_count": 14,
   "metadata": {
    "colab": {
     "base_uri": "https://localhost:8080/"
    },
    "executionInfo": {
     "elapsed": 8335,
     "status": "ok",
     "timestamp": 1642948150953,
     "user": {
      "displayName": "Naruemon Pratanwanich",
      "photoUrl": "https://lh3.googleusercontent.com/a-/AOh14Ght-XDHOoqeuU7xDve5mJaCH2c0CFLbb7XtETlg=s64",
      "userId": "04240363400547583642"
     },
     "user_tz": -420
    },
    "id": "t2jRlwMnZT_X",
    "outputId": "6fd7a600-3449-4955-c738-68a56eba9f30"
   },
   "outputs": [
    {
     "name": "stdout",
     "output_type": "stream",
     "text": [
      "Enter your salary: 40000\n",
      "How many years have you worked here? 12\n",
      "Your new salary is 42800.0\n",
      "Your bonus is 64200.0\n"
     ]
    }
   ],
   "source": [
    "# Get the salary and the working years\n",
    "salary = float(input('Enter your salary: '))\n",
    "n_years = float(input('How many years have you worked here? '))\n",
    "\n",
    "# Calculate new salary and bonus\n",
    "if (salary > 50000) and (n_years > 5):\n",
    "  # New salary: increase 10%\n",
    "  salary = salary * 1.1 \n",
    "  # Bonus: Double the new salary\n",
    "  bonus = salary * 2\n",
    "else: # Other cases\n",
    "  # New salary: increase 7%\n",
    "  salary = salary * 1.07\n",
    "  # Bonus: 1.5 x the new salary\n",
    "  bonus = salary * 1.5\n",
    "\n",
    "# Output\n",
    "print('Your new salary is',salary)\n",
    "print('Your bonus is',bonus)"
   ]
  },
  {
   "cell_type": "markdown",
   "metadata": {
    "id": "RF2qdB11gdy6"
   },
   "source": [
    "<font color='Salmon'>Quiz: </font>Given the program below, fill in the blanks with the correct statements so that the program will work as demonstrated by the flowchart. \n",
    "\n",
    "- The program firstly receives a spending amount (amt) and calculate the discount (dscnt) and rewarding points (pts) based on the following criteria.\n",
    "- If the customer has the net amount no more than 10,000 baht, get 5% discount and 1 rewarding point every 100 baht.\n",
    "- If the customer has the net amount more than 10,000 baht, get 7% discount and 1 rewarding point every 100 baht as well as 1 extra point for the excess of the last 100 baht.\n",
    "\n",
    "<img src=\"https://github.com/ploy-np/python/blob/master/images/flowchart_discount_point.jpg?raw=1\" alt=\"flowchart_discount_point\"/>\n",
    "\n",
    "```python\n",
    "amt = int(input('Total amount:')) \n",
    "if amt>10000 :\n",
    "  _____________________\n",
    "  _____________________\n",
    "else: \n",
    "  _____________________\n",
    "```"
   ]
  },
  {
   "cell_type": "markdown",
   "metadata": {
    "id": "hRwupa4npyes"
   },
   "source": [
    "### Nested if\n",
    "Many programs are complex - many decisions to be made. Imagine a program that receives an integer from the user. If it is a positive number, then check if it is odd or even. Otherwise, show the message \"Invalid input\". We can see that there are conditional structures within a condition. See below."
   ]
  },
  {
   "cell_type": "code",
   "execution_count": 15,
   "metadata": {
    "colab": {
     "base_uri": "https://localhost:8080/"
    },
    "executionInfo": {
     "elapsed": 6947,
     "status": "ok",
     "timestamp": 1642948164591,
     "user": {
      "displayName": "Naruemon Pratanwanich",
      "photoUrl": "https://lh3.googleusercontent.com/a-/AOh14Ght-XDHOoqeuU7xDve5mJaCH2c0CFLbb7XtETlg=s64",
      "userId": "04240363400547583642"
     },
     "user_tz": -420
    },
    "id": "92m3o4WlF62W",
    "outputId": "edafb690-a053-4bbc-a37b-20020e290c0c"
   },
   "outputs": [
    {
     "name": "stdout",
     "output_type": "stream",
     "text": [
      "Enter an integer number13\n",
      "13 is an odd number.\n"
     ]
    }
   ],
   "source": [
    "# Get the input number\n",
    "num = int(input('Enter an integer number'))\n",
    "\n",
    "if num > 0: # Check if num is positive\n",
    "  # The following statements will be executed when num is positive.\n",
    "  if num%2 == 0: # Check if num is even\n",
    "    print(num,'is an even number.')\n",
    "  else: \n",
    "    print(num,'is an odd number.')\n",
    "else:\n",
    "  # If num is not positive\n",
    "  print('Invalid input.')"
   ]
  },
  {
   "cell_type": "markdown",
   "metadata": {
    "id": "me0kjGdCoAlx"
   },
   "source": [
    "<font color='blue'>P: </font>Write a `number analyser` program that receives a number and print out \"positive\", \"negative\", or \"zero\" as it is. If it is positive, also print out if it is \"odd\" or \"even\". "
   ]
  },
  {
   "cell_type": "code",
   "execution_count": null,
   "metadata": {
    "id": "5JkarQyQoJg2"
   },
   "outputs": [],
   "source": [
    "# Code here"
   ]
  },
  {
   "cell_type": "markdown",
   "metadata": {
    "id": "GVwYLApNPX2R"
   },
   "source": [
    "<font color='blue'>P: </font>Write a `grader` program that receives a score from the user and print out the grade that they get based on the following criteria.\n",
    "* If the score is more than 80, get A.\n",
    "* If the score is more than 70 but no more than 80, get B.\n",
    "* If the score is more than 60 but no more than 70, get C.\n",
    "* If the score is more than 50 but no more than 60, get D.\n",
    "* If the score is no more than than 50, get F."
   ]
  },
  {
   "cell_type": "code",
   "execution_count": 16,
   "metadata": {
    "colab": {
     "base_uri": "https://localhost:8080/"
    },
    "executionInfo": {
     "elapsed": 4327,
     "status": "ok",
     "timestamp": 1642948174086,
     "user": {
      "displayName": "Naruemon Pratanwanich",
      "photoUrl": "https://lh3.googleusercontent.com/a-/AOh14Ght-XDHOoqeuU7xDve5mJaCH2c0CFLbb7XtETlg=s64",
      "userId": "04240363400547583642"
     },
     "user_tz": -420
    },
    "id": "tGhxRLX-Tdjm",
    "outputId": "f45ce565-ff31-4a0e-f195-f16de809374e"
   },
   "outputs": [
    {
     "name": "stdout",
     "output_type": "stream",
     "text": [
      "Please enter your score: 74\n",
      "B\n"
     ]
    }
   ],
   "source": [
    "score = float(input('Please enter your score: '))\n",
    "\n",
    "if score > 80:\n",
    "  print('A')\n",
    "else:\n",
    "  if score > 70:  # This can be 70 < score <= 80 but it is not neccessary \n",
    "                  # because if this line is executed, it already implies that \n",
    "                  # the score is less than or equal to 80.\n",
    "    print('B')\n",
    "  else:\n",
    "    if score > 60:\n",
    "      print('C')\n",
    "    else:\n",
    "      if score > 50:\n",
    "        print('D')\n",
    "      else:\n",
    "        print('F')"
   ]
  },
  {
   "cell_type": "markdown",
   "metadata": {
    "id": "gzOkpuxGQob8"
   },
   "source": [
    "<font color='purple'>Q: </font> Draw a flowchart corresponding to the program above."
   ]
  },
  {
   "cell_type": "markdown",
   "metadata": {
    "id": "bqtsNSpu6B6O"
   },
   "source": [
    "We can see that when there are nested`if-else` statements, the program is too long. Thus, in Python, there is `if-elif-else` statement to merge the lines of `else` followed by `if` into one sinle line with `elif` statement. See below for the structure."
   ]
  },
  {
   "cell_type": "markdown",
   "metadata": {
    "id": "Po2hsQplTesU"
   },
   "source": [
    "### `if-elif-else` statement. \n",
    "\n",
    "```python\n",
    "if <condition1>:\n",
    "  <statement1-to-be-executed-when-condition1-Is-true>\n",
    "  <statement2-to-be-executed-when-condition1-Is-true>\n",
    "  ...\n",
    "elif <condition2>:\n",
    "  <statement1-to-be-executed-when-condition1-Is-false-And-condition2-Is-true>\n",
    "<statement2-to-be-executed-when-condition1-Is-false-And-condition2-Is-true>\n",
    "  ...\n",
    "elif <condition3>:\n",
    "<statement1-to-be-executed-when-condition1-And-condition2-are-false-And-condition3-Is-true>\n",
    "<statement2-to-be-executed-when-condition1-And-condition2-are-false-And-condition3-Is-true>\n",
    "  ...\n",
    "else:\n",
    "<statement1-to-be-executed-when-All-the-conditions-above-are-false>\n",
    "<statement2-to-be-executed-when-All-the-conditions-above-are-false>\n",
    "  ...\n",
    "```"
   ]
  },
  {
   "cell_type": "code",
   "execution_count": 17,
   "metadata": {
    "colab": {
     "base_uri": "https://localhost:8080/"
    },
    "executionInfo": {
     "elapsed": 2895,
     "status": "ok",
     "timestamp": 1642948184447,
     "user": {
      "displayName": "Naruemon Pratanwanich",
      "photoUrl": "https://lh3.googleusercontent.com/a-/AOh14Ght-XDHOoqeuU7xDve5mJaCH2c0CFLbb7XtETlg=s64",
      "userId": "04240363400547583642"
     },
     "user_tz": -420
    },
    "id": "aINj5QWUWwHO",
    "outputId": "4f8b4512-0c7b-4206-c176-e04e0ccc6373"
   },
   "outputs": [
    {
     "name": "stdout",
     "output_type": "stream",
     "text": [
      "Please enter your score: 74\n",
      "B\n"
     ]
    }
   ],
   "source": [
    "score = float(input('Please enter your score: '))\n",
    "\n",
    "if score > 80:\n",
    "  print('A')\n",
    "elif score > 70: # We can write 70 < score <= 80, but <= 80 is not necessary because when the program reaches this line, it implies that score is already less than 80\n",
    "    print('B')\n",
    "elif score > 60:\n",
    "  print('C')\n",
    "elif score > 50:\n",
    "  print('D')\n",
    "else:\n",
    "  print('F')"
   ]
  },
  {
   "cell_type": "markdown",
   "metadata": {
    "id": "obrH6-LpY7Ca"
   },
   "source": [
    "<font color='orange'>Note: </font>\n",
    "* Selection block always starts with `if`.\n",
    "* The `if` statement must be followed by a condition that its value is either True or False. \n",
    "* Within the `if` indentation, there must be at least one statement.\n",
    "* The `elif` statement(s), if exists, must come after `if` or `elif` and must be followed by a condition.\n",
    "* The `else` statement, if exists, must only come last after `if` or `elif` and must NOT be followed by any conditional expression.\n",
    "* <font color='red'>Importantly</font>, in a given `if-elif-else` block, the program will start check the condition from the top to the bottom. The program will execute the statements under the true condition that it first finds and not check other conditions coming after in the same `if-elif-else` block. The program will finally exit the block then execute the next statement, which can be any ordinary statement or another `if` statement, if exists."
   ]
  },
  {
   "cell_type": "markdown",
   "metadata": {
    "id": "O87ClcfDd_td"
   },
   "source": [
    "# Programming exercises\n"
   ]
  },
  {
   "cell_type": "markdown",
   "metadata": {
    "id": "1VH0RuBGf9iP"
   },
   "source": [
    "1. Write a program that recieves weight in kg and height in cm, calculate Bio Mass Index; $BMI = w/h^2$ (w in kg and h in m), and print out the corresponding BMI stage  shown below.\n",
    "\n",
    "**BMI** | $<17.0$ | $<25.0$ | $<40.0$ | $\\geq 40.0$\n",
    "----|-------|-------|-------|------\n",
    "**Stage** | Underweight | Normal | Overweight ​| Obese\n",
    "\n",
    "Ex.\n",
    "```\n",
    "Weight (kg) = 72<enter>\n",
    "Height (cm) = 169<enter>\n",
    "Overweight\n",
    "```\n",
    "\n",
    "```\n",
    "Weight (kg) = 54<enter>\n",
    "Height (cm) =160<enter> \n",
    "Normal\n",
    "```"
   ]
  },
  {
   "cell_type": "code",
   "execution_count": null,
   "metadata": {
    "id": "Bhbu2VpEmBx5"
   },
   "outputs": [],
   "source": [
    "# Code here"
   ]
  },
  {
   "cell_type": "markdown",
   "metadata": {
    "id": "d2BNMdgMg6vm"
   },
   "source": [
    "2. Write a program of hotel price caculator based on the table below. Firstly receive a room type from the user. If the room type is valid, ask the user the number of nights to stay. Otherwise, print out the message \"INVALID CHOICE\". If the user gives the number of nights $\\leq 0$, print out the message \"INVALID NIGHT\".\n",
    "\n",
    "| ----- | Room type | Price per night | |\n",
    "| ----- | ------ | -------- | ---- |\n",
    "|       |        | 1 - 2 nights | > 2 nights |\n",
    "| Deluxe  | D, d   | 3500 Baht | 3000 Baht |\n",
    "| Grand   | G, g   | 4000 Baht | 4000 Baht |\n",
    "\n",
    "Ex.\n",
    "```\n",
    "Room type: x<enter>\n",
    "INVALID CHOICE\n",
    "```\n",
    "```\n",
    "Room type: d<enter>\n",
    "Nights to stay: 0<enter>\n",
    "INVALID NIGHT\n",
    "```\n",
    "```\n",
    "Room type: d<enter>\n",
    "Nights to stay: 5<enter>\n",
    "Total price is 15000 baht.\n",
    "```"
   ]
  },
  {
   "cell_type": "code",
   "execution_count": null,
   "metadata": {
    "id": "5wRg1o_W-lOQ"
   },
   "outputs": [],
   "source": [
    "# Code here"
   ]
  },
  {
   "cell_type": "markdown",
   "metadata": {
    "id": "sC3_Ty2RkvR_"
   },
   "source": [
    "3. Write a program that receives a month and a year in AD and print out the number of days of the month in that year. Note that in the leap year, there are 29 days in Feb - it is when the year in AD is multiple of 4 but not 100 or multiple of 400.\n",
    "\n",
    "Ex.\n",
    "```\n",
    "Enter month: 2<enter>\n",
    "Enter year: 2009<enter>\n",
    "Number of days: 28\n",
    "```\n",
    "```\n",
    "Enter month: 2<enter>\n",
    "Enter year: 2008<enter>\n",
    "Number of days: 29\n",
    "```\n",
    "```\n",
    "Enter month: 3<enter>\n",
    "Enter year: 2016<enter>\n",
    "Number of days: 31\n",
    "```"
   ]
  },
  {
   "cell_type": "code",
   "execution_count": null,
   "metadata": {
    "id": "FiOFFtX-lMkA"
   },
   "outputs": [],
   "source": [
    "# Code here"
   ]
  },
  {
   "cell_type": "markdown",
   "metadata": {
    "id": "mjWiH1xNIta-"
   },
   "source": [
    "4. **Tax calculator**\n",
    "\n",
    "Write a program that recieves the user's firstname, lastname, salary, and extra annual allowance, then print out the tax amount they have to pay based on the criteria table below.\n",
    "\n",
    "Net income | Tax rate\n",
    "-------------| ------\n",
    "0 - 150,000  | Waived\n",
    "> 150,000 - 300,000 | 5%\n",
    "> 300,000 - 500,000 | 10%\n",
    "> 500,000 | 15%\n",
    "\n"
   ]
  },
  {
   "cell_type": "code",
   "execution_count": null,
   "metadata": {
    "id": "xs0Tt7p_mPQ5"
   },
   "outputs": [],
   "source": [
    "# Code here"
   ]
  },
  {
   "cell_type": "markdown",
   "metadata": {
    "id": "Wrqvk1EyLPyc"
   },
   "source": [
    "5. Write a program that receives three numbers `a`, `b`, `c` separated by `,` in a single line, calculate using this formula \n",
    "$-b \\pm \\dfrac{\\sqrt{b^2-4ac}}{2a}$, then print out the solution(s) on the screen. Print out only one value if there is a single solution. Print the message \"No real solution\" if the value within the square root is negative."
   ]
  },
  {
   "cell_type": "code",
   "execution_count": null,
   "metadata": {
    "id": "xhQ48LUFxgk9"
   },
   "outputs": [],
   "source": [
    "# Code here"
   ]
  }
 ],
 "metadata": {
  "colab": {
   "authorship_tag": "ABX9TyOoSrKJgoMQYUB2wRsaqvw4",
   "collapsed_sections": [],
   "name": "Ch2 Selection.ipynb",
   "provenance": []
  },
  "kernelspec": {
   "display_name": "Python 3 (ipykernel)",
   "language": "python",
   "name": "python3"
  },
  "language_info": {
   "codemirror_mode": {
    "name": "ipython",
    "version": 3
   },
   "file_extension": ".py",
   "mimetype": "text/x-python",
   "name": "python",
   "nbconvert_exporter": "python",
   "pygments_lexer": "ipython3",
   "version": "3.11.0"
  }
 },
 "nbformat": 4,
 "nbformat_minor": 4
}
