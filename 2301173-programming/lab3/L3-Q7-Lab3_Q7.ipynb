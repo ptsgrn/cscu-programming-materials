{
 "cells": [
  {
   "cell_type": "markdown",
   "metadata": {
    "deletable": false,
    "editable": false,
    "nbgrader": {
     "cell_type": "markdown",
     "checksum": "61573b3544bf2fbc3425ea7a8589ac47",
     "grade": false,
     "grade_id": "cell-dbf37dcea5d7dc5c",
     "locked": true,
     "schema_version": 3,
     "solution": false,
     "task": false
    }
   },
   "source": [
    "## Q7\n",
    "จงเขียนโปรแกรมที่วนรับอุณหภูมิสูงสุดของแต่ละวันในหนึ่งสัปดาห์ แล้วแสดงว่าวันใดมีอุณหภูมิลดลงจากวันก่อนหน้า"
   ]
  },
  {
   "cell_type": "markdown",
   "metadata": {
    "deletable": false,
    "editable": false,
    "nbgrader": {
     "cell_type": "markdown",
     "checksum": "138d7870c12e3e77775952354969a951",
     "grade": false,
     "grade_id": "cell-941573f39dc645a7",
     "locked": true,
     "schema_version": 3,
     "solution": false,
     "task": false
    }
   },
   "source": [
    "### ตัวอย่างการทำงาน:\n",
    "\n",
    "Day 1 : **32.6** <br>\n",
    "Day 2 : **34.4** <br>\n",
    "Day 3 : **35.0** <br>\n",
    "Day 4 : **34.6** <br>\n",
    "Temperature dropped on day 4 <br>\n",
    "Day 5 : **35.0** <br>\n",
    "Day 6 : **35.6** <br>\n",
    "Day 7 : **36** <br>"
   ]
  },
  {
   "cell_type": "markdown",
   "metadata": {
    "deletable": false,
    "editable": false,
    "nbgrader": {
     "cell_type": "markdown",
     "checksum": "a41b2fdbaecb0cf94b33883ea2a119fe",
     "grade": false,
     "grade_id": "cell-ba4526b034884cc7",
     "locked": true,
     "schema_version": 3,
     "solution": false,
     "task": false
    }
   },
   "source": [
    "### ตัวอย่างการทำงาน: \n",
    "\n",
    "Day 1 : **32.6** <br>\n",
    "Day 2 : **34.4** <br>\n",
    "Day 3 : **35.0** <br>\n",
    "Day 4 : **34.6** <br>\n",
    "Temperature dropped on day 4 <br>\n",
    "Day 5 : **35.2** <br>\n",
    "Day 6 : **35.6** <br>\n",
    "Day 7 : **34** <br>\n",
    "Temperature dropped on day 7"
   ]
  },
  {
   "cell_type": "markdown",
   "metadata": {
    "deletable": false,
    "editable": false,
    "nbgrader": {
     "cell_type": "markdown",
     "checksum": "eb4f9a443b31a2c1fa8302d8fafc5795",
     "grade": false,
     "grade_id": "cell-679ab39eeac1b48a",
     "locked": true,
     "schema_version": 3,
     "solution": false,
     "task": false
    }
   },
   "source": [
    "### ตัวอย่างการทำงาน: \n",
    "\n",
    "Day 1 : **32.6** <br>\n",
    "Day 2 : **34.4** <br>\n",
    "Day 3 : **35.0** <br>\n",
    "Day 4 : **34.6** <br>\n",
    "Temperature dropped on day 4 <br>\n",
    "Day 5 : **34.0** <br>\n",
    "Temperature dropped on day 5 <br>\n",
    "Day 6 : **35.6** <br>\n",
    "Day 7 : **34** <br>\n",
    "Temperature dropped on day 7"
   ]
  },
  {
   "cell_type": "code",
   "execution_count": 10,
   "metadata": {
    "deletable": false,
    "nbgrader": {
     "cell_type": "code",
     "checksum": "1b9d6a43210314c09c650d2c13fecad0",
     "grade": false,
     "grade_id": "temp",
     "locked": false,
     "schema_version": 3,
     "solution": true
    }
   },
   "outputs": [],
   "source": [
    "def run():\n",
    "    day_count = 1\n",
    "    previous_temp = -300\n",
    "    for d in range(1, 8):\n",
    "        current_temp = float(input(f\"Day {d} :\"))\n",
    "        if current_temp < previous_temp:\n",
    "            print(f\"Temperature dropped on day {d}\")\n",
    "        previous_temp = current_temp"
   ]
  },
  {
   "cell_type": "code",
   "execution_count": null,
   "metadata": {
    "deletable": false,
    "editable": false,
    "nbgrader": {
     "cell_type": "code",
     "checksum": "b7b03893ed0aaf1a2af60ae612b4be37",
     "grade": false,
     "grade_id": "cell-befa13e6c82bd29b",
     "locked": true,
     "schema_version": 3,
     "solution": false,
     "task": false
    }
   },
   "outputs": [],
   "source": [
    "'''ตรวจสอบผลลัพธ์ของโปรแกรมด้วยการรันที่ cell นี้'''\n",
    "run()"
   ]
  },
  {
   "cell_type": "code",
   "execution_count": 11,
   "metadata": {
    "deletable": false,
    "editable": false,
    "nbgrader": {
     "cell_type": "code",
     "checksum": "51309daa496029406f58e0ffe1d6e21d",
     "grade": false,
     "grade_id": "partial",
     "locked": true,
     "schema_version": 3,
     "solution": false,
     "task": false
    }
   },
   "outputs": [],
   "source": [
    "'''ตรวจสอบผลการคำนวณ'''\n",
    "from unittest.mock import patch\n",
    "from io import StringIO\n",
    "\n",
    "def test(inputs,expected_output): \n",
    "    with patch('builtins.input', side_effect=inputs), patch('sys.stdout', new_callable=StringIO) as mock_stdout:\n",
    "        run()\n",
    "        assert mock_stdout.getvalue() == expected_output,mock_stdout.getvalue()\n",
    "def test_easy_print(inputs,expected_output):\n",
    "    with patch('builtins.input', side_effect=inputs), patch('sys.stdout', new_callable=StringIO) as mock_stdout:\n",
    "        run()\n",
    "        assert expected_output in mock_stdout.getvalue(), mock_stdout.getvalue()"
   ]
  },
  {
   "cell_type": "code",
   "execution_count": 12,
   "metadata": {
    "deletable": false,
    "editable": false,
    "nbgrader": {
     "cell_type": "code",
     "checksum": "0d35df8d79c30a7652c42d6e6cd90d1e",
     "grade": true,
     "grade_id": "easy_print",
     "locked": true,
     "points": 1,
     "schema_version": 3,
     "solution": false,
     "task": false
    }
   },
   "outputs": [
    {
     "name": "stdout",
     "output_type": "stream",
     "text": [
      "ok\n"
     ]
    }
   ],
   "source": [
    "'''ตรวจสอบการแสดงผลลัพธ์อย่างง่าย'''\n",
    "test_easy_print(inputs=['32.6','34.4','35.0','34.6','35','35.6','36'],expected_output='Temperature')\n",
    "print('ok')"
   ]
  },
  {
   "cell_type": "code",
   "execution_count": 13,
   "metadata": {
    "deletable": false,
    "editable": false,
    "nbgrader": {
     "cell_type": "code",
     "checksum": "9678dfd5350519cb026386c8b4378f6c",
     "grade": true,
     "grade_id": "cell-cbc47179f27fefee",
     "locked": true,
     "points": 1,
     "schema_version": 3,
     "solution": false,
     "task": false
    }
   },
   "outputs": [
    {
     "name": "stdout",
     "output_type": "stream",
     "text": [
      "ok\n"
     ]
    }
   ],
   "source": [
    "'''ตรวจสอบผลการคำนวณและการแสดงผลลัพธ์ให้เหมือนกับโจทย์ที่กำหนดให้'''\n",
    "'''Drop 1 days'''\n",
    "test(['32.6','34.4','35.0','34.6','35','35.6','36'],'Temperature dropped on day 4\\n') \n",
    "test(['32.6','31.4','35.0','35.6','35.8','35.9','36'],'Temperature dropped on day 2\\n') \n",
    "test(['32.6','33.4','35.0','35.6','35.8','35.9','34'],'Temperature dropped on day 7\\n')\n",
    "print('ok')"
   ]
  },
  {
   "cell_type": "code",
   "execution_count": 14,
   "metadata": {
    "deletable": false,
    "editable": false,
    "nbgrader": {
     "cell_type": "code",
     "checksum": "44b4d7bb540ca85f9c58d8745926ba69",
     "grade": true,
     "grade_id": "exact",
     "locked": false,
     "points": 1,
     "schema_version": 3,
     "solution": false
    }
   },
   "outputs": [
    {
     "name": "stdout",
     "output_type": "stream",
     "text": [
      "ok\n"
     ]
    }
   ],
   "source": [
    "'''ตรวจสอบผลการคำนวณและการแสดงผลลัพธ์ให้เหมือนกับโจทย์ที่กำหนดให้'''\n",
    "'''Drop 2 days'''\n",
    "test(['32.6','34.4','35.0','34.6','35.2','35.6','34'],'Temperature dropped on day 4\\nTemperature dropped on day 7\\n') \n",
    "test(['33.6','34.4','32.0','35.6','37.2','31.6','35'],'Temperature dropped on day 3\\nTemperature dropped on day 6\\n') \n",
    "test(['43.6','40.4','42.0','45.6','30.2','31.6','35'],'Temperature dropped on day 2\\nTemperature dropped on day 5\\n')\n",
    "print('ok')"
   ]
  },
  {
   "cell_type": "code",
   "execution_count": 15,
   "metadata": {
    "deletable": false,
    "editable": false,
    "nbgrader": {
     "cell_type": "code",
     "checksum": "5ed2ace024a1de2b519b92f681188ab2",
     "grade": true,
     "grade_id": "cell-5646d4ae088951fe",
     "locked": true,
     "points": 1,
     "schema_version": 3,
     "solution": false,
     "task": false
    }
   },
   "outputs": [
    {
     "name": "stdout",
     "output_type": "stream",
     "text": [
      "ok\n"
     ]
    }
   ],
   "source": [
    "'''ตรวจสอบผลการคำนวณและการแสดงผลลัพธ์ให้เหมือนกับโจทย์ที่กำหนดให้'''\n",
    "'''Drop 3 days'''\n",
    "test(['32.6','34.4','35.0','34.6','34','35.6','34'],'Temperature dropped on day 4\\nTemperature dropped on day 5\\nTemperature dropped on day 7\\n') \n",
    "test(['43.6','40.4','39.0','45.6','30.2','31.6','35'],'Temperature dropped on day 2\\nTemperature dropped on day 3\\nTemperature dropped on day 5\\n')\n",
    "test(['33.6','34.4','32.0','31.5','37.2','31.6','35'],'Temperature dropped on day 3\\nTemperature dropped on day 4\\nTemperature dropped on day 6\\n') \n",
    "test(['45','45','45','45','45','45','45'],'')\n",
    "print('ok')"
   ]
  },
  {
   "cell_type": "code",
   "execution_count": 16,
   "metadata": {
    "deletable": false,
    "editable": false,
    "nbgrader": {
     "cell_type": "code",
     "checksum": "08708934887a0cfc8b7f88919bdd1e17",
     "grade": true,
     "grade_id": "cell-4cf323a44b865e68",
     "locked": true,
     "points": 1,
     "schema_version": 3,
     "solution": false,
     "task": false
    }
   },
   "outputs": [
    {
     "data": {
      "text/plain": [
       "'เทสลับ1'"
      ]
     },
     "execution_count": 16,
     "metadata": {},
     "output_type": "execute_result"
    }
   ],
   "source": [
    "'''เทสลับ1'''"
   ]
  },
  {
   "cell_type": "code",
   "execution_count": 17,
   "metadata": {
    "deletable": false,
    "editable": false,
    "nbgrader": {
     "cell_type": "code",
     "checksum": "50327776d49e612f0830171592754c23",
     "grade": true,
     "grade_id": "cell-287fa2644c308eb2",
     "locked": true,
     "points": 1,
     "schema_version": 3,
     "solution": false,
     "task": false
    }
   },
   "outputs": [
    {
     "data": {
      "text/plain": [
       "'เทสลับ2'"
      ]
     },
     "execution_count": 17,
     "metadata": {},
     "output_type": "execute_result"
    }
   ],
   "source": [
    "'''เทสลับ2'''"
   ]
  },
  {
   "cell_type": "code",
   "execution_count": 18,
   "metadata": {
    "deletable": false,
    "editable": false,
    "nbgrader": {
     "cell_type": "code",
     "checksum": "a3c43622dcdf56d51fa4d0918709518e",
     "grade": true,
     "grade_id": "cell-882df26a5bf4ad20",
     "locked": true,
     "points": 1,
     "schema_version": 3,
     "solution": false,
     "task": false
    }
   },
   "outputs": [
    {
     "data": {
      "text/plain": [
       "'เทสลับ3'"
      ]
     },
     "execution_count": 18,
     "metadata": {},
     "output_type": "execute_result"
    }
   ],
   "source": [
    "'''เทสลับ3'''"
   ]
  },
  {
   "cell_type": "code",
   "execution_count": null,
   "metadata": {},
   "outputs": [],
   "source": []
  }
 ],
 "metadata": {
  "BondSan": "3e5f889b00c7af2a9dda04922cf65ac62add35083582319a6d1d681fe35c0a27f473a2d7c3594d0478bc72b04e192a3a28d7358b9fdd619ef414a2ad2dc9aed18172fad47ccc4e0cd835d952c6545e031bc4c7186b6ba77e885afb4aebc1da4a83397b573917f666b7da7913b1ed11f254062e95de4a97bf96359d15464e518a21ad6f73444eeb10ea4d7880c3fe727753ba2396fa054787cf27274567e618d993059e4590337dcc05cb33cb1b034d30e570240b3c0c95aeefd840ae61845df0ff3df157b7574cc240b00d6344c92abca6bd475a677a914db7efbc3d469aaf84a1bf41ea5db9e2a57e67884fbe098a8a1f437f5640e88d97d389ca33dcb06593",
  "kernelspec": {
   "display_name": "Python 3 (ipykernel)",
   "language": "python",
   "name": "python3"
  },
  "language_info": {
   "codemirror_mode": {
    "name": "ipython",
    "version": 3
   },
   "file_extension": ".py",
   "mimetype": "text/x-python",
   "name": "python",
   "nbconvert_exporter": "python",
   "pygments_lexer": "ipython3",
   "version": "3.9.12"
  }
 },
 "nbformat": 4,
 "nbformat_minor": 4
}
