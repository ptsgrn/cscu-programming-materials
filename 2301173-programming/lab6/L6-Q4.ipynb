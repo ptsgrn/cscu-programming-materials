{
 "cells": [
  {
   "attachments": {
    "Lab10_4-2.png": {
     "image/png": "[encoded data removed]"
    }
   },
   "cell_type": "markdown",
   "metadata": {
    "deletable": false,
    "editable": false,
    "nbgrader": {
     "cell_type": "markdown",
     "checksum": "fb7ca1bdee1118560a7b92448a6ddac5",
     "grade": false,
     "grade_id": "cell-dbf37dcea5d7dc5c",
     "locked": true,
     "schema_version": 3,
     "solution": false,
     "task": false
    }
   },
   "source": [
    "## Q4\n",
    "จงเขียนฟังก์ชัน get_dict() ที่สร้าง dictionary จากตารางราคาเครื่องดื่มข้างล่าง ซึ่งมี <br>\n",
    "\n",
    "- key เป็นสตริงของชื่อเครื่องดื่ม และ มี \n",
    "- value เป็น dictionary ที่มี \n",
    "    - key เป็นสตริงของขนาด และ \n",
    "    - value เป็นตัวเลขจำนวนเต็มของราคา \n",
    "\n",
    "![Lab10_4-2.png](attachment:Lab10_4-2.png) <br>\n",
    "และเขียนฟังก์ชัน run() ที่รับชื่อเครื่องดื่ม ขนาด และ จำนวนแก้ว จากผู้ใช้แล้วคำนวณราคาดังแสดงในตัวอย่างการทำงาน"
   ]
  },
  {
   "cell_type": "markdown",
   "metadata": {
    "deletable": false,
    "editable": false,
    "nbgrader": {
     "cell_type": "markdown",
     "checksum": "70d15d86f83546da651a483ab27618e2",
     "grade": false,
     "grade_id": "cell-f48de376823dafb8",
     "locked": true,
     "schema_version": 3,
     "solution": false,
     "task": false
    }
   },
   "source": [
    "### ตัวอย่างการทำงาน\n",
    "Enter drink, size and number :  **Espresso v 2** <br>\n",
    "Incorrect size.   <br>"
   ]
  },
  {
   "cell_type": "markdown",
   "metadata": {
    "deletable": false,
    "editable": false,
    "nbgrader": {
     "cell_type": "markdown",
     "checksum": "12272702c69eb12ddb4740b0ebf03839",
     "grade": false,
     "grade_id": "cell-4bc078d4ff7a5437",
     "locked": true,
     "schema_version": 3,
     "solution": false,
     "task": false
    }
   },
   "source": [
    "### ตัวอย่างการทำงาน: \n",
    "Enter drink, size and number : **latte L 1**   <br>\n",
    "Drink not available.  <br>"
   ]
  },
  {
   "cell_type": "markdown",
   "metadata": {
    "deletable": false,
    "editable": false,
    "nbgrader": {
     "cell_type": "markdown",
     "checksum": "c025539c12c155ffb27010dfe4b651bc",
     "grade": false,
     "grade_id": "cell-a91d8eaafbc83ab4",
     "locked": true,
     "schema_version": 3,
     "solution": false,
     "task": false
    }
   },
   "source": [
    "### ตัวอย่างการทำงาน: \n",
    "Enter drink, size and number : **Latte L 2** <br>\n",
    "Total : 150  <br>"
   ]
  },
  {
   "cell_type": "markdown",
   "metadata": {
    "deletable": false,
    "editable": false,
    "nbgrader": {
     "cell_type": "markdown",
     "checksum": "1adef5de588cc91b37aaee84aba23276",
     "grade": false,
     "grade_id": "cell-c16eb4512b891047",
     "locked": true,
     "schema_version": 3,
     "solution": false,
     "task": false
    }
   },
   "source": [
    "### ตัวอย่างการทำงาน: \n",
    "Enter drink, size and number : **Cappuccino S 1**   <br>\n",
    "Total : 60 <br>"
   ]
  },
  {
   "cell_type": "code",
   "execution_count": 13,
   "metadata": {
    "deletable": false,
    "nbgrader": {
     "cell_type": "code",
     "checksum": "76659306142d60290134445a56f7da2d",
     "grade": false,
     "grade_id": "name",
     "locked": false,
     "schema_version": 3,
     "solution": true
    }
   },
   "outputs": [],
   "source": [
    "def get_dict():\n",
    "    ''' สร้าง dictionary จากตารางราคา'''\n",
    "    return {\n",
    "        \"Cappuccino\": {\n",
    "            \"S\": 60,\n",
    "            \"L\": 70\n",
    "        },\n",
    "        \"Espresso\": {\n",
    "            \"S\": 45,\n",
    "            \"L\": 50\n",
    "        },\n",
    "        \"Latte\": {\n",
    "            \"S\": 65,\n",
    "            \"L\": 75\n",
    "        }\n",
    "    }\n",
    "def run():\n",
    "    menu = get_dict()\n",
    "    ''' รับชื่อเครื่องดื่ม ขนาด และ จำนวนแก้ว จากผู้ใช้แล้วคำนวณราคา'''\n",
    "    user_menu, size, amount = input().split()\n",
    "    if user_menu not in menu:\n",
    "        print(\"Drink not available.\")\n",
    "        return\n",
    "    if size not in [\"S\", \"L\"]:\n",
    "        print(\"Incorrect size.\")\n",
    "        return\n",
    "    amount = int(amount)\n",
    "    print(\"Total\", \":\", menu.get(user_menu, {}).get(size, 0) * amount)"
   ]
  },
  {
   "cell_type": "code",
   "execution_count": 14,
   "metadata": {
    "deletable": false,
    "editable": false,
    "nbgrader": {
     "cell_type": "code",
     "checksum": "b7b03893ed0aaf1a2af60ae612b4be37",
     "grade": false,
     "grade_id": "cell-befa13e6c82bd29b",
     "locked": true,
     "schema_version": 3,
     "solution": false,
     "task": false
    }
   },
   "outputs": [
    {
     "data": {
      "text/plain": [
       "'ตรวจสอบผลลัพธ์ของโปรแกรมด้วยการรันที่ cell นี้'"
      ]
     },
     "execution_count": 14,
     "metadata": {},
     "output_type": "execute_result"
    }
   ],
   "source": [
    "'''ตรวจสอบผลลัพธ์ของโปรแกรมด้วยการรันที่ cell นี้'''\n",
    "# run()"
   ]
  },
  {
   "cell_type": "code",
   "execution_count": 15,
   "metadata": {
    "deletable": false,
    "editable": false,
    "nbgrader": {
     "cell_type": "code",
     "checksum": "d6666ecbfe02d0fdfffe7d4b3a0cbac7",
     "grade": false,
     "grade_id": "partial4",
     "locked": true,
     "schema_version": 3,
     "solution": false,
     "task": false
    }
   },
   "outputs": [],
   "source": [
    "'''ตรวจสอบผลการคำนวณ'''\n",
    "from unittest.mock import patch\n",
    "from io import StringIO\n",
    "\n",
    "def test(inputs,expected_output,f): \n",
    "    with patch('builtins.input', side_effect=inputs), patch('sys.stdout', new_callable=StringIO) as mock_stdout:\n",
    "        f()\n",
    "        assert ''.join(mock_stdout.getvalue().lower().split()) == ''.join(expected_output.lower().split()),mock_stdout.getvalue()\n",
    "def test_easy_print(inputs,expected_output):\n",
    "    with patch('builtins.input', side_effect=inputs), patch('sys.stdout', new_callable=StringIO) as mock_stdout:\n",
    "        run()\n",
    "        assert expected_output in mock_stdout.getvalue(), mock_stdout.getvalue()"
   ]
  },
  {
   "cell_type": "code",
   "execution_count": 16,
   "metadata": {
    "deletable": false,
    "editable": false,
    "nbgrader": {
     "cell_type": "code",
     "checksum": "7681560974710b656a12a011a4403b74",
     "grade": true,
     "grade_id": "cell-d70327bb623c4087",
     "locked": true,
     "points": 1,
     "schema_version": 3,
     "solution": false,
     "task": false
    }
   },
   "outputs": [
    {
     "name": "stdout",
     "output_type": "stream",
     "text": [
      "ok\n"
     ]
    }
   ],
   "source": [
    "'''ตรวจสอบการแสดงผลลัพธ์อย่างง่าย'''\n",
    "test_easy_print(inputs=['Espresso v 2'],expected_output='I')\n",
    "print('ok')"
   ]
  },
  {
   "cell_type": "code",
   "execution_count": 17,
   "metadata": {
    "deletable": false,
    "editable": false,
    "nbgrader": {
     "cell_type": "code",
     "checksum": "1264a8299a7c178cca3e155e57fffdec",
     "grade": true,
     "grade_id": "cell-4c1f934c89a9a1bd",
     "locked": true,
     "points": 1,
     "schema_version": 3,
     "solution": false,
     "task": false
    }
   },
   "outputs": [
    {
     "name": "stdout",
     "output_type": "stream",
     "text": [
      "ok\n"
     ]
    }
   ],
   "source": [
    "'''ตรวจสอบผลการคำนวณและการแสดงผลลัพธ์ให้เหมือนกับโจทย์ที่กำหนดให้'''\n",
    "assert get_dict()['Espresso'] == {'S' : 45  , 'L' : 50 }\n",
    "assert get_dict()['Cappuccino'] == { 'S' : 60 , 'L' : 70 }\n",
    "print('ok')"
   ]
  },
  {
   "cell_type": "code",
   "execution_count": 18,
   "metadata": {
    "deletable": false,
    "editable": false,
    "nbgrader": {
     "cell_type": "code",
     "checksum": "ff08fe8948684acf1104f4ed17a463d4",
     "grade": true,
     "grade_id": "cell-0c38a636281d4f0d",
     "locked": true,
     "points": 1,
     "schema_version": 3,
     "solution": false,
     "task": false
    }
   },
   "outputs": [
    {
     "name": "stdout",
     "output_type": "stream",
     "text": [
      "ok\n"
     ]
    }
   ],
   "source": [
    "'''ตรวจสอบผลการคำนวณและการแสดงผลลัพธ์ให้เหมือนกับโจทย์ที่กำหนดให้'''\n",
    "'''Incorrect size.'''\n",
    "test(['Espresso v 2'],\"Incorrect size.\\n\",f=run) \n",
    "test(['Latte s 1'],\"Incorrect size.\\n\",f=run) \n",
    "test(['Cappuccino x 3'],\"Incorrect size.\\n\",f=run) \n",
    "print('ok')"
   ]
  },
  {
   "cell_type": "code",
   "execution_count": 19,
   "metadata": {
    "deletable": false,
    "editable": false,
    "nbgrader": {
     "cell_type": "code",
     "checksum": "34725f67f180e7c3c1b276c6b057a4e3",
     "grade": true,
     "grade_id": "cell-5bf8a7f6d2c826cd",
     "locked": true,
     "points": 1,
     "schema_version": 3,
     "solution": false,
     "task": false
    }
   },
   "outputs": [
    {
     "name": "stdout",
     "output_type": "stream",
     "text": [
      "ok\n"
     ]
    }
   ],
   "source": [
    "'''ตรวจสอบผลการคำนวณและการแสดงผลลัพธ์ให้เหมือนกับโจทย์ที่กำหนดให้'''\n",
    "'''Drink not available'''\n",
    "test(['latte L 1'],\"Drink not available.\\n\",f=run) \n",
    "test(['espresso S 1'],\"Drink not available.\\n\",f=run) \n",
    "test(['Cocoa M 1'],\"Drink not available.\\n\",f=run) \n",
    "print('ok')"
   ]
  },
  {
   "cell_type": "code",
   "execution_count": 20,
   "metadata": {
    "deletable": false,
    "editable": false,
    "nbgrader": {
     "cell_type": "code",
     "checksum": "2dfec0a6812c03acab6f46434568eb20",
     "grade": true,
     "grade_id": "exact",
     "locked": false,
     "points": 1,
     "schema_version": 3,
     "solution": false
    }
   },
   "outputs": [
    {
     "name": "stdout",
     "output_type": "stream",
     "text": [
      "ok\n"
     ]
    }
   ],
   "source": [
    "'''ตรวจสอบผลการคำนวณและการแสดงผลลัพธ์ให้เหมือนกับโจทย์ที่กำหนดให้'''\n",
    "'''Paid'''\n",
    "test(['Latte L 2'],\"Total : 150\\n\",f=run) \n",
    "test(['Cappuccino S 1'],\"Total : 60\\n\",f=run) \n",
    "test(['Espresso S 2'],\"Total : 90\\n\",f=run) \n",
    "print('ok')"
   ]
  },
  {
   "cell_type": "code",
   "execution_count": 21,
   "metadata": {
    "deletable": false,
    "editable": false,
    "nbgrader": {
     "cell_type": "code",
     "checksum": "d156b1e2e9bd0633365289a49207851f",
     "grade": true,
     "grade_id": "cell-8bd692f819aeb5f4",
     "locked": true,
     "points": 1,
     "schema_version": 3,
     "solution": false,
     "task": false
    }
   },
   "outputs": [
    {
     "data": {
      "text/plain": [
       "'เทสลับ1'"
      ]
     },
     "execution_count": 21,
     "metadata": {},
     "output_type": "execute_result"
    }
   ],
   "source": [
    "'''เทสลับ1'''"
   ]
  },
  {
   "cell_type": "code",
   "execution_count": 22,
   "metadata": {
    "deletable": false,
    "editable": false,
    "nbgrader": {
     "cell_type": "code",
     "checksum": "4085be7bab16f863147ba81435ff0a54",
     "grade": true,
     "grade_id": "cell-3e8bd6c16b955eb0",
     "locked": true,
     "points": 1,
     "schema_version": 3,
     "solution": false,
     "task": false
    }
   },
   "outputs": [
    {
     "data": {
      "text/plain": [
       "'เทสลับ2'"
      ]
     },
     "execution_count": 22,
     "metadata": {},
     "output_type": "execute_result"
    }
   ],
   "source": [
    "'''เทสลับ2'''"
   ]
  }
 ],
 "metadata": {
  "BondSan": "702596b8094de0f27841974efdf08ac2b3242ab3b9d9b1f9a355eab4c7970fcc3fda9bea6414ad180329ae3b1074dfb262358d1570c31b032d6958390529959c71efdae5af2aa837b354ad0bae834d4f829f185af9d54882e4fc595d55e9c6b3be26d087a67d17c163185ba13dc301e9bb484b0380b2f2123400bfe4965f99873d052c539ea2f69f04b6dc2acaed4f33654e66754ff71b594e3d236660fef1999a98a55849f8f945c593bf55c28f275de44117f7bd16d3fb003b92296bc9f66fe765711456e9575ea5cdb3adb0bbb2670067579d006bcae18291705d678fccedfaff0ae1ddd41cad4af82dd45712fc337c64140e2db97f78a4144fd7bb890a67",
  "kernelspec": {
   "display_name": "Python 3 (ipykernel)",
   "language": "python",
   "name": "python3"
  },
  "language_info": {
   "codemirror_mode": {
    "name": "ipython",
    "version": 3
   },
   "file_extension": ".py",
   "mimetype": "text/x-python",
   "name": "python",
   "nbconvert_exporter": "python",
   "pygments_lexer": "ipython3",
   "version": "3.12.5"
  }
 },
 "nbformat": 4,
 "nbformat_minor": 4
}
