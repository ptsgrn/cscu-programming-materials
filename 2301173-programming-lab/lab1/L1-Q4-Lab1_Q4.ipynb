{
 "cells": [
  {
   "cell_type": "markdown",
   "metadata": {
    "deletable": false,
    "editable": false,
    "nbgrader": {
     "cell_type": "markdown",
     "checksum": "eec89d02fc1e50ed39cd661589d98d5d",
     "grade": false,
     "grade_id": "cell-3bfadf3aed27f570",
     "locked": true,
     "schema_version": 3,
     "solution": false,
     "task": false
    }
   },
   "source": [
    "---\n",
    "## Q4\n",
    "จงเขียนโปรแกรมที่รับชื่อและอายุจากผู้ใช้ แล้วคำนวณปีเกิดของผู้ใช้เพื่อสร้าง email address ของผู้ใช้โดย\n",
    "เอาชื่อมาต่อด้วยเลข 2 หลักหลังของปีเกิดและต่อด้วย @chula.ac.th แสดงผลลัพธ์ดังตัวอย่างข้างล่างนี้"
   ]
  },
  {
   "cell_type": "markdown",
   "metadata": {
    "deletable": false,
    "editable": false,
    "nbgrader": {
     "cell_type": "markdown",
     "checksum": "539b493040a0c0fcaefce4a2d3773ee2",
     "grade": false,
     "grade_id": "cell-ec5606fd3a86d0a8",
     "locked": true,
     "schema_version": 3,
     "solution": false,
     "task": false
    }
   },
   "source": [
    "### ตัวอย่างการทำงาน: \n",
    "\n",
    "Name: Somsak <br>\n",
    "Age : 20 <br>\n",
    "Somsak47@chula.ac.th"
   ]
  },
  {
   "cell_type": "markdown",
   "metadata": {
    "deletable": false,
    "editable": false,
    "nbgrader": {
     "cell_type": "markdown",
     "checksum": "cb2f27480d3620d941fe6f0b341567bf",
     "grade": false,
     "grade_id": "cell-857f2c5b2830974f",
     "locked": true,
     "schema_version": 3,
     "solution": false,
     "task": false
    }
   },
   "source": [
    "### ตัวอย่างการทำงาน: \n",
    "        \n",
    "Name: Jaidee <br>\n",
    "Age : 65 <br>\n",
    "Jaidee02@chula.ac.th"
   ]
  },
  {
   "cell_type": "markdown",
   "metadata": {
    "deletable": false,
    "editable": false,
    "nbgrader": {
     "cell_type": "markdown",
     "checksum": "36ad69dfcd2ca49033e5773b0e66a0f8",
     "grade": false,
     "grade_id": "cell-f0a1903745fc19bb",
     "locked": true,
     "schema_version": 3,
     "solution": false,
     "task": false
    }
   },
   "source": [
    "### ตัวอย่างการทำงาน: \n",
    "        \n",
    "Name: Yaya <br>\n",
    "Age : 71 <br>\n",
    "Yaya96@chula.ac.th"
   ]
  },
  {
   "cell_type": "code",
   "execution_count": 8,
   "metadata": {
    "deletable": false,
    "nbgrader": {
     "cell_type": "code",
     "checksum": "652273fc2a8fde06152d5019bcd5ed52",
     "grade": false,
     "grade_id": "email_address",
     "locked": false,
     "schema_version": 3,
     "solution": true
    }
   },
   "outputs": [],
   "source": [
    "def run():\n",
    "    name = input(\"Name:\")\n",
    "    age = int(input(\"Age :\"))\n",
    "    print(f\"{name}{str(2567 - age)[2:]}@chula.ac.th\")"
   ]
  },
  {
   "cell_type": "code",
   "execution_count": 9,
   "metadata": {
    "deletable": false,
    "editable": false,
    "nbgrader": {
     "cell_type": "code",
     "checksum": "e75533d6b8b33fdc66859afe7c9db0bc",
     "grade": false,
     "grade_id": "cell-956082f75e6b7e9b",
     "locked": true,
     "schema_version": 3,
     "solution": false,
     "task": false
    }
   },
   "outputs": [
    {
     "name": "stdin",
     "output_type": "stream",
     "text": [
      "Name: Man\n",
      "Age : 12\n"
     ]
    },
    {
     "name": "stdout",
     "output_type": "stream",
     "text": [
      "Man55@chula.ac.th\n"
     ]
    }
   ],
   "source": [
    "'''ตรวจสอบผลลัพธ์ของโปรแกรมด้วยการรันที่ cell นี้'''\n",
    "run()"
   ]
  },
  {
   "cell_type": "code",
   "execution_count": 10,
   "metadata": {
    "deletable": false,
    "editable": false,
    "nbgrader": {
     "cell_type": "code",
     "checksum": "bc578a080ca2fe855ac9098fe9d6973d",
     "grade": false,
     "grade_id": "exact",
     "locked": true,
     "schema_version": 3,
     "solution": false,
     "task": false
    }
   },
   "outputs": [],
   "source": [
    "from unittest.mock import patch\n",
    "from io import StringIO\n",
    "from datetime import date \n",
    "\n",
    "def test(inputs,expected_output): \n",
    "    with patch('builtins.input', side_effect=inputs), patch('sys.stdout', new_callable=StringIO) as mock_stdout:\n",
    "        run()\n",
    "        assert mock_stdout.getvalue() == expected_output,mock_stdout.getvalue()\n",
    "def test_easy_print(inputs,expected_output):\n",
    "    with patch('builtins.input', side_effect=inputs), patch('sys.stdout', new_callable=StringIO) as mock_stdout:\n",
    "        run()\n",
    "        assert expected_output in mock_stdout.getvalue(), mock_stdout.getvalue()"
   ]
  },
  {
   "cell_type": "code",
   "execution_count": 11,
   "metadata": {
    "deletable": false,
    "editable": false,
    "nbgrader": {
     "cell_type": "code",
     "checksum": "12200b0542deb0881e6ac04ba56ab63a",
     "grade": true,
     "grade_id": "easy_print",
     "locked": true,
     "points": 1,
     "schema_version": 3,
     "solution": false,
     "task": false
    }
   },
   "outputs": [
    {
     "name": "stdout",
     "output_type": "stream",
     "text": [
      "ok\n"
     ]
    }
   ],
   "source": [
    "'''ตรวจสอบการแสดงผลลัพธ์อย่างง่าย'''\n",
    "test_easy_print(inputs=['Somsak','65'],expected_output='Somsak')\n",
    "print('ok')"
   ]
  },
  {
   "cell_type": "code",
   "execution_count": 12,
   "metadata": {
    "deletable": false,
    "editable": false,
    "nbgrader": {
     "cell_type": "code",
     "checksum": "e2e1fa2b4a6521666a82d4361a7ceb5d",
     "grade": true,
     "grade_id": "test1",
     "locked": true,
     "points": 1,
     "schema_version": 3,
     "solution": false,
     "task": false
    }
   },
   "outputs": [
    {
     "name": "stdout",
     "output_type": "stream",
     "text": [
      "ok\n"
     ]
    }
   ],
   "source": [
    "'''ตรวจสอบเลขสองตัวท้ายและการแสดงผลลัพธ์'''\n",
    "'''กรณีเลขสองตัวท้ายของปีเกิดอยู่ในช่วง 00-09'''\n",
    "test(['Somsak','67'],'Somsak00@chula.ac.th\\n')\n",
    "test(['Yaya','57'],'Yaya10@chula.ac.th\\n') \n",
    "print('ok')"
   ]
  },
  {
   "cell_type": "code",
   "execution_count": 13,
   "metadata": {
    "deletable": false,
    "editable": false,
    "nbgrader": {
     "cell_type": "code",
     "checksum": "b409355ddcb39139efe4bd3f554eb717",
     "grade": true,
     "grade_id": "test2",
     "locked": true,
     "points": 1,
     "schema_version": 3,
     "solution": false,
     "task": false
    }
   },
   "outputs": [
    {
     "name": "stdout",
     "output_type": "stream",
     "text": [
      "ok\n"
     ]
    }
   ],
   "source": [
    "'''ตรวจสอบเลขสองตัวท้ายและการแสดงผลลัพธ์'''\n",
    "'''กรณีเลขสองตัวท้ายของปีเกิดอยู่ในช่วง 10-99'''\n",
    "test(['Somsak','20'],'Somsak47@chula.ac.th\\n')\n",
    "test(['Jaidee','65'],'Jaidee02@chula.ac.th\\n')  \n",
    "test(['Yaya','71'],'Yaya96@chula.ac.th\\n') \n",
    "print('ok')"
   ]
  },
  {
   "cell_type": "code",
   "execution_count": 14,
   "metadata": {
    "deletable": false,
    "editable": false,
    "nbgrader": {
     "cell_type": "code",
     "checksum": "4eb7734e6d7ab9665fe726b05bfac4ee",
     "grade": true,
     "grade_id": "hidden_test",
     "locked": true,
     "points": 1,
     "schema_version": 3,
     "solution": false,
     "task": false
    }
   },
   "outputs": [
    {
     "data": {
      "text/plain": [
       "'เทสลับ'"
      ]
     },
     "execution_count": 14,
     "metadata": {},
     "output_type": "execute_result"
    }
   ],
   "source": [
    "'''เทสลับ'''"
   ]
  },
  {
   "cell_type": "code",
   "execution_count": null,
   "metadata": {},
   "outputs": [],
   "source": []
  }
 ],
 "metadata": {
  "BondSan": "535031540eee045fe7e8f033e66076c23635e65f21e1279eac353092c09b7650496dd3ad648722d2611e0a86114bfed00cc745ecdd648f5019c9136a0dad27dadcf0d59a07ef0091fb2b9d5427560a46086084e6c1788944e2bd141c37ab50524682ea1755627a517022ae2eada58fced555d5a6362e0f6f3f44944fdeee89218df786079805192d9709e97acd7728b1410fc389cd55203b695d335da06212987a797d3384e5e6599f7d0a0b2003e68851c752998e62ce5f3ed8f65f55f65c751539ddad3e633827c2f2603f56b5fa4fabd56a8cfc2077fe614de3fd311a5f076e650f98ead745ac11e54ce9bcc2785717abdb8964d2dcb4e9411cb607329245",
  "kernelspec": {
   "display_name": "Python 3 (ipykernel)",
   "language": "python",
   "name": "python3"
  },
  "language_info": {
   "codemirror_mode": {
    "name": "ipython",
    "version": 3
   },
   "file_extension": ".py",
   "mimetype": "text/x-python",
   "name": "python",
   "nbconvert_exporter": "python",
   "pygments_lexer": "ipython3",
   "version": "3.9.12"
  }
 },
 "nbformat": 4,
 "nbformat_minor": 4
}
