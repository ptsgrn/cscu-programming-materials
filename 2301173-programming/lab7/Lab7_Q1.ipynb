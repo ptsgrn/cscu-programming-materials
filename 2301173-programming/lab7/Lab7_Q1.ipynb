{
 "cells": [
  {
   "cell_type": "markdown",
   "metadata": {
    "deletable": false,
    "editable": false,
    "id": "EU95rzNGHRP5",
    "nbgrader": {
     "cell_type": "markdown",
     "checksum": "9549be4b207b29c38761f4e63d4d7f0d",
     "grade": false,
     "grade_id": "cell-dbf37dcea5d7dc5c",
     "locked": true,
     "schema_version": 3,
     "solution": false,
     "task": false
    }
   },
   "source": [
    "## Q1\n",
    "จงเขียนฟังก์ชัน `get_dict(file_name)` ที่รับ parameter เป็นชื่อไฟล์ แล้วสร้างและคืน dictionary ซึ่งมี\n",
    "- key เป็นสตริงของรหัสสินค้า และ มี \n",
    "- value เป็น dictionary ที่มี \n",
    "    - key เป็นสตริงของขนาด (`S`, `M`,  `L` หรือ `XL`) และ \n",
    "    - value เป็นตัวเลขจำนวนของสินค้า\n",
    "    \n",
    "และแสดงผลลัพธ์เป็นข้อมูลใน dictionary ตามตัวอย่างการทำงาน"
   ]
  },
  {
   "cell_type": "markdown",
   "metadata": {
    "deletable": false,
    "editable": false,
    "id": "V1a0jQVXHRQC",
    "nbgrader": {
     "cell_type": "markdown",
     "checksum": "42cf225a4a3c1896c65b5590039b500e",
     "grade": false,
     "grade_id": "cell-7ae57c7b0fc2869d",
     "locked": true,
     "schema_version": 3,
     "solution": false,
     "task": false
    }
   },
   "source": [
    "### ตัวอย่างการทำงาน: \n",
    "get_dict(**'stock1.txt'**) <br>\n",
    "{4125: {'M': 4}, 5645: {'L': 7}, 7845: {'XL': 3}}"
   ]
  },
  {
   "cell_type": "markdown",
   "metadata": {
    "deletable": false,
    "editable": false,
    "id": "mrKQrUwQHRQD",
    "nbgrader": {
     "cell_type": "markdown",
     "checksum": "db649a3920c8d67fdcb5ff429ce1420c",
     "grade": false,
     "grade_id": "cell-ab9308f5dbb737a2",
     "locked": true,
     "schema_version": 3,
     "solution": false,
     "task": false
    }
   },
   "source": [
    "### ตัวอย่างการทำงาน: \n",
    "get_dict(**'stock2.txt'**)<br>\n",
    "{7845: {'XL': 3}, 4125: {'S': 1, 'M': 4}, 5645: {'L': 7}, 9874: {'S': 3}}"
   ]
  },
  {
   "cell_type": "markdown",
   "metadata": {
    "deletable": false,
    "editable": false,
    "id": "xu8uV_PYHRQE",
    "nbgrader": {
     "cell_type": "markdown",
     "checksum": "37b4b6529dbf55c64fe88a556da381fd",
     "grade": false,
     "grade_id": "cell-f7c8bee0599df624",
     "locked": true,
     "schema_version": 3,
     "solution": false,
     "task": false
    }
   },
   "source": [
    "### ตัวอย่างการทำงาน: \n",
    "get_dict('**stock3.txt**')<br>\n",
    "{4125: {'S': 1, 'M': 4}, 5645: {'L': 7}, 9874: {'S': 8}, 9875: {'M': 8}, 7845: {'S': 10, 'XL': 3}}"
   ]
  },
  {
   "cell_type": "code",
   "execution_count": null,
   "metadata": {
    "deletable": false,
    "id": "Gu013atKHRQE",
    "nbgrader": {
     "cell_type": "code",
     "checksum": "791ab3d4dbf3ee2464fb1c07edb976f2",
     "grade": false,
     "grade_id": "name",
     "locked": false,
     "schema_version": 3,
     "solution": true
    }
   },
   "outputs": [],
   "source": [
    "def get_dict(file_name):\n",
    "    '''สร้าง dictionary ของรหัสและจำนวนสินค้า คืนค่าเป็น dictionary'''\n",
    "    # YOUR CODE HERE"
   ]
  },
  {
   "cell_type": "code",
   "execution_count": null,
   "metadata": {
    "colab": {
     "base_uri": "https://localhost:8080/",
     "height": 321
    },
    "id": "UwuTP22DHRQG",
    "outputId": "89020aa1-4f99-4fb8-9068-85d872de075c"
   },
   "outputs": [],
   "source": [
    "'''ตรวจสอบผลลัพธ์ของโปรแกรมด้วยการรันที่ cell นี้'''\n",
    "'''ตัวอย่าง get_dict(\"ใส่ชื่อไฟล์.txt\")'''\n",
    "get_dict('ใส่ชื่อไฟล์.txt')\n",
    "print('ok')"
   ]
  },
  {
   "cell_type": "code",
   "execution_count": null,
   "metadata": {
    "deletable": false,
    "editable": false,
    "nbgrader": {
     "cell_type": "code",
     "checksum": "4345ca9c0b35b1f779f213bad8ef0157",
     "grade": true,
     "grade_id": "cell-498bfc73bc381903",
     "locked": true,
     "points": 1,
     "schema_version": 3,
     "solution": false,
     "task": false
    }
   },
   "outputs": [],
   "source": [
    "'''ตรวจสอบการแสดงผลลัพธ์อย่างง่าย'''\n",
    "assert get_dict('stock1.txt') == {4125: {'M': 4}, 5645: {'L': 7}, 7845: {'XL': 3}}\n",
    "print('ok')"
   ]
  },
  {
   "cell_type": "code",
   "execution_count": null,
   "metadata": {
    "deletable": false,
    "editable": false,
    "nbgrader": {
     "cell_type": "code",
     "checksum": "da3d9587ae7a07ecc93f7ca373daa61d",
     "grade": true,
     "grade_id": "cell-2981a5915ebbc36e",
     "locked": true,
     "points": 1,
     "schema_version": 3,
     "solution": false,
     "task": false
    }
   },
   "outputs": [],
   "source": [
    "'''ตรวจสอบการแสดงผลลัพธ์อย่างง่าย'''\n",
    "assert get_dict('stock2.txt') == {7845: {'XL': 3}, 4125: {'S': 1, 'M': 4}, 5645: {'L': 7}, 9874: {'S': 3}}\n",
    "print('ok')"
   ]
  },
  {
   "cell_type": "code",
   "execution_count": null,
   "metadata": {
    "deletable": false,
    "editable": false,
    "id": "sQO_P6S-HRQJ",
    "nbgrader": {
     "cell_type": "code",
     "checksum": "e97bb7f04330537ceefde35e22e52688",
     "grade": true,
     "grade_id": "exact",
     "locked": false,
     "points": 1,
     "schema_version": 3,
     "solution": false
    }
   },
   "outputs": [],
   "source": [
    "'''ตรวจสอบผลการคำนวณและการแสดงผลลัพธ์ให้เหมือนกับโจทย์ที่กำหนดให้'''\n",
    "assert get_dict('stock1.txt') == {4125: {'M': 4}, 5645: {'L': 7}, 7845: {'XL': 3}}\n",
    "assert get_dict('stock2.txt') == {7845: {'XL': 3}, 4125: {'S': 1, 'M': 4}, 5645: {'L': 7}, 9874: {'S': 3}}\n",
    "assert get_dict('stock3.txt') == {4125: {'S': 1, 'M': 4}, 5645: {'L': 7}, 9874: {'S': 8}, 9875: {'M': 8}, 7845: {'S': 10, 'XL': 3}}\n",
    "print('ok')"
   ]
  },
  {
   "cell_type": "code",
   "execution_count": null,
   "metadata": {
    "deletable": false,
    "editable": false,
    "id": "HWIrQ93PHRQK",
    "nbgrader": {
     "cell_type": "code",
     "checksum": "fdd42b8942af887ec0b0f9d4e18a1c33",
     "grade": true,
     "grade_id": "cell-c73870cae5a59dfa",
     "locked": true,
     "points": 1,
     "schema_version": 3,
     "solution": false,
     "task": false
    }
   },
   "outputs": [],
   "source": [
    "'''เทสลับ1'''"
   ]
  }
 ],
 "metadata": {
  "colab": {
   "collapsed_sections": [],
   "provenance": []
  },
  "kernelspec": {
   "display_name": "Python 3 (ipykernel)",
   "language": "python",
   "name": "python3"
  },
  "language_info": {
   "codemirror_mode": {
    "name": "ipython",
    "version": 3
   },
   "file_extension": ".py",
   "mimetype": "text/x-python",
   "name": "python",
   "nbconvert_exporter": "python",
   "pygments_lexer": "ipython3",
   "version": "3.12.4"
  }
 },
 "nbformat": 4,
 "nbformat_minor": 4
}
